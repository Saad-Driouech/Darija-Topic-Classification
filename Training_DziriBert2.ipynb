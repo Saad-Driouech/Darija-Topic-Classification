{
  "nbformat": 4,
  "nbformat_minor": 0,
  "metadata": {
    "colab": {
      "name": "Training DziriBert2.ipynb",
      "provenance": [],
      "collapsed_sections": []
    },
    "kernelspec": {
      "name": "python3",
      "display_name": "Python 3"
    },
    "language_info": {
      "name": "python"
    },
    "accelerator": "GPU"
  },
  "cells": [
    {
      "cell_type": "code",
      "source": [
        "!nvidia-smi -L"
      ],
      "metadata": {
        "colab": {
          "base_uri": "https://localhost:8080/"
        },
        "id": "g-sBAmrhjuX_",
        "outputId": "91ff1557-81d9-4767-a46c-690a2bee67ed"
      },
      "execution_count": null,
      "outputs": [
        {
          "output_type": "stream",
          "name": "stdout",
          "text": [
            "GPU 0: Tesla T4 (UUID: GPU-206f0b5d-cea7-069e-0d98-df946d823841)\n"
          ]
        }
      ]
    },
    {
      "cell_type": "code",
      "execution_count": null,
      "metadata": {
        "colab": {
          "base_uri": "https://localhost:8080/"
        },
        "id": "W-lypi-XbgaN",
        "outputId": "eae52674-6a2b-4ad2-d842-6c0bb4f745ab"
      },
      "outputs": [
        {
          "output_type": "stream",
          "name": "stdout",
          "text": [
            "Mounted at drive\n"
          ]
        }
      ],
      "source": [
        "from google.colab import drive\n",
        "drive.mount('drive')"
      ]
    },
    {
      "cell_type": "code",
      "source": [
        "%%capture\n",
        "!pip install transformers"
      ],
      "metadata": {
        "id": "-4WoKwpqmil5"
      },
      "execution_count": null,
      "outputs": []
    },
    {
      "cell_type": "code",
      "source": [
        "import pandas as pd\n",
        "# from sklearn.model_selection import train_test_split\n",
        "\n",
        "# import torch\n",
        "# from torch.utils.data import Dataset, DataLoader"
      ],
      "metadata": {
        "id": "ImY0hKpx8VEU"
      },
      "execution_count": null,
      "outputs": []
    },
    {
      "cell_type": "code",
      "source": [
        "train_data = pd.read_csv(\"drive/MyDrive/Internship/datasets/Goud/train_preprocessed.csv\")\n",
        "val_data = pd.read_csv(\"drive/MyDrive/Internship/datasets/Goud/validation_preprocessed.csv\")\n",
        "test_data = pd.read_csv(\"drive/MyDrive/Internship/datasets/Goud/test_preprocessed.csv\")"
      ],
      "metadata": {
        "id": "DZu-86k973Yk"
      },
      "execution_count": null,
      "outputs": []
    },
    {
      "cell_type": "code",
      "source": [
        "pd.set_option('display.max_colwidth', None)"
      ],
      "metadata": {
        "id": "TF5Hr7v91xHv"
      },
      "execution_count": null,
      "outputs": []
    },
    {
      "cell_type": "code",
      "source": [
        "train_data"
      ],
      "metadata": {
        "colab": {
          "base_uri": "https://localhost:8080/",
          "height": 424
        },
        "id": "ZcScK27m7-f6",
        "outputId": "80d1b2be-5ffd-4646-8f4e-190e9a5c5445"
      },
      "execution_count": null,
      "outputs": [
        {
          "output_type": "execute_result",
          "data": {
            "text/plain": [
              "                                                                                                                                                   headline  \\\n",
              "0                                                                                                            حكم ضد وزاره اعماره بتعويض قدره 13 مليار لشركه   \n",
              "1                                                                                                             جلسه خاصه بين مدرب الاهلي ومهاجم الاسود ازارو   \n",
              "2                                                                                                        اعتقال مهاجم الريال رونالدو في فرنسا وها علاش صور    \n",
              "3                                                                                                                     الاسود المحليين يستعدون للمربع الذهبي   \n",
              "4                                                                                                   الجديد ريحه ديال المازوط وليصونس لعشاق صوكان وطوموبيلات   \n",
              "...                                                                                                                                                     ...   \n",
              "62005                                             واش دخلو الصهد امحند العنصر ل كود مزال مقررت نترشح للامانه العامه ديال الحركه الشعبيه وها وقتاش غادي نقرر   \n",
              "62006                                                                                                            الفنانه المغربيه ابتسام تسكت مطلوبه بوجده    \n",
              "62007                                                                                                من بعد 15 العام تصوير تتمه فيلم ماروك لي كان نوض روينه   \n",
              "62008  جورنالات بلادي1 غموض يلف صرف 5 ملايير بمؤسسه الاعمال الاجتماعيه بوزاره الصحه وامن طنجه يعتقل زعيم عصابه بتهمه اختطاف زوجين واحتجازهما للمطالبه بفديه   \n",
              "62009                                                                                          ممارسه السياسه عبر الاحفاد شباط يرد علي بنكيران بارضاع حفيده   \n",
              "\n",
              "                categories  \n",
              "0      ('جورنالات بلادي',)  \n",
              "1            ('كود سبور',)  \n",
              "2            ('كود سبور',)  \n",
              "3            ('كود سبور',)  \n",
              "4              ('تبركيك',)  \n",
              "...                    ...  \n",
              "62005          ('تبركيك',)  \n",
              "62006  ('الزين والحداكة',)  \n",
              "62007    ('ميديا وثقافة',)  \n",
              "62008  ('جورنالات بلادي',)  \n",
              "62009          ('تبركيك',)  \n",
              "\n",
              "[62010 rows x 2 columns]"
            ],
            "text/html": [
              "\n",
              "  <div id=\"df-f4739bd7-f67a-40e4-ae36-9dde177e4fed\">\n",
              "    <div class=\"colab-df-container\">\n",
              "      <div>\n",
              "<style scoped>\n",
              "    .dataframe tbody tr th:only-of-type {\n",
              "        vertical-align: middle;\n",
              "    }\n",
              "\n",
              "    .dataframe tbody tr th {\n",
              "        vertical-align: top;\n",
              "    }\n",
              "\n",
              "    .dataframe thead th {\n",
              "        text-align: right;\n",
              "    }\n",
              "</style>\n",
              "<table border=\"1\" class=\"dataframe\">\n",
              "  <thead>\n",
              "    <tr style=\"text-align: right;\">\n",
              "      <th></th>\n",
              "      <th>headline</th>\n",
              "      <th>categories</th>\n",
              "    </tr>\n",
              "  </thead>\n",
              "  <tbody>\n",
              "    <tr>\n",
              "      <th>0</th>\n",
              "      <td>حكم ضد وزاره اعماره بتعويض قدره 13 مليار لشركه</td>\n",
              "      <td>('جورنالات بلادي',)</td>\n",
              "    </tr>\n",
              "    <tr>\n",
              "      <th>1</th>\n",
              "      <td>جلسه خاصه بين مدرب الاهلي ومهاجم الاسود ازارو</td>\n",
              "      <td>('كود سبور',)</td>\n",
              "    </tr>\n",
              "    <tr>\n",
              "      <th>2</th>\n",
              "      <td>اعتقال مهاجم الريال رونالدو في فرنسا وها علاش صور</td>\n",
              "      <td>('كود سبور',)</td>\n",
              "    </tr>\n",
              "    <tr>\n",
              "      <th>3</th>\n",
              "      <td>الاسود المحليين يستعدون للمربع الذهبي</td>\n",
              "      <td>('كود سبور',)</td>\n",
              "    </tr>\n",
              "    <tr>\n",
              "      <th>4</th>\n",
              "      <td>الجديد ريحه ديال المازوط وليصونس لعشاق صوكان وطوموبيلات</td>\n",
              "      <td>('تبركيك',)</td>\n",
              "    </tr>\n",
              "    <tr>\n",
              "      <th>...</th>\n",
              "      <td>...</td>\n",
              "      <td>...</td>\n",
              "    </tr>\n",
              "    <tr>\n",
              "      <th>62005</th>\n",
              "      <td>واش دخلو الصهد امحند العنصر ل كود مزال مقررت نترشح للامانه العامه ديال الحركه الشعبيه وها وقتاش غادي نقرر</td>\n",
              "      <td>('تبركيك',)</td>\n",
              "    </tr>\n",
              "    <tr>\n",
              "      <th>62006</th>\n",
              "      <td>الفنانه المغربيه ابتسام تسكت مطلوبه بوجده</td>\n",
              "      <td>('الزين والحداكة',)</td>\n",
              "    </tr>\n",
              "    <tr>\n",
              "      <th>62007</th>\n",
              "      <td>من بعد 15 العام تصوير تتمه فيلم ماروك لي كان نوض روينه</td>\n",
              "      <td>('ميديا وثقافة',)</td>\n",
              "    </tr>\n",
              "    <tr>\n",
              "      <th>62008</th>\n",
              "      <td>جورنالات بلادي1 غموض يلف صرف 5 ملايير بمؤسسه الاعمال الاجتماعيه بوزاره الصحه وامن طنجه يعتقل زعيم عصابه بتهمه اختطاف زوجين واحتجازهما للمطالبه بفديه</td>\n",
              "      <td>('جورنالات بلادي',)</td>\n",
              "    </tr>\n",
              "    <tr>\n",
              "      <th>62009</th>\n",
              "      <td>ممارسه السياسه عبر الاحفاد شباط يرد علي بنكيران بارضاع حفيده</td>\n",
              "      <td>('تبركيك',)</td>\n",
              "    </tr>\n",
              "  </tbody>\n",
              "</table>\n",
              "<p>62010 rows × 2 columns</p>\n",
              "</div>\n",
              "      <button class=\"colab-df-convert\" onclick=\"convertToInteractive('df-f4739bd7-f67a-40e4-ae36-9dde177e4fed')\"\n",
              "              title=\"Convert this dataframe to an interactive table.\"\n",
              "              style=\"display:none;\">\n",
              "        \n",
              "  <svg xmlns=\"http://www.w3.org/2000/svg\" height=\"24px\"viewBox=\"0 0 24 24\"\n",
              "       width=\"24px\">\n",
              "    <path d=\"M0 0h24v24H0V0z\" fill=\"none\"/>\n",
              "    <path d=\"M18.56 5.44l.94 2.06.94-2.06 2.06-.94-2.06-.94-.94-2.06-.94 2.06-2.06.94zm-11 1L8.5 8.5l.94-2.06 2.06-.94-2.06-.94L8.5 2.5l-.94 2.06-2.06.94zm10 10l.94 2.06.94-2.06 2.06-.94-2.06-.94-.94-2.06-.94 2.06-2.06.94z\"/><path d=\"M17.41 7.96l-1.37-1.37c-.4-.4-.92-.59-1.43-.59-.52 0-1.04.2-1.43.59L10.3 9.45l-7.72 7.72c-.78.78-.78 2.05 0 2.83L4 21.41c.39.39.9.59 1.41.59.51 0 1.02-.2 1.41-.59l7.78-7.78 2.81-2.81c.8-.78.8-2.07 0-2.86zM5.41 20L4 18.59l7.72-7.72 1.47 1.35L5.41 20z\"/>\n",
              "  </svg>\n",
              "      </button>\n",
              "      \n",
              "  <style>\n",
              "    .colab-df-container {\n",
              "      display:flex;\n",
              "      flex-wrap:wrap;\n",
              "      gap: 12px;\n",
              "    }\n",
              "\n",
              "    .colab-df-convert {\n",
              "      background-color: #E8F0FE;\n",
              "      border: none;\n",
              "      border-radius: 50%;\n",
              "      cursor: pointer;\n",
              "      display: none;\n",
              "      fill: #1967D2;\n",
              "      height: 32px;\n",
              "      padding: 0 0 0 0;\n",
              "      width: 32px;\n",
              "    }\n",
              "\n",
              "    .colab-df-convert:hover {\n",
              "      background-color: #E2EBFA;\n",
              "      box-shadow: 0px 1px 2px rgba(60, 64, 67, 0.3), 0px 1px 3px 1px rgba(60, 64, 67, 0.15);\n",
              "      fill: #174EA6;\n",
              "    }\n",
              "\n",
              "    [theme=dark] .colab-df-convert {\n",
              "      background-color: #3B4455;\n",
              "      fill: #D2E3FC;\n",
              "    }\n",
              "\n",
              "    [theme=dark] .colab-df-convert:hover {\n",
              "      background-color: #434B5C;\n",
              "      box-shadow: 0px 1px 3px 1px rgba(0, 0, 0, 0.15);\n",
              "      filter: drop-shadow(0px 1px 2px rgba(0, 0, 0, 0.3));\n",
              "      fill: #FFFFFF;\n",
              "    }\n",
              "  </style>\n",
              "\n",
              "      <script>\n",
              "        const buttonEl =\n",
              "          document.querySelector('#df-f4739bd7-f67a-40e4-ae36-9dde177e4fed button.colab-df-convert');\n",
              "        buttonEl.style.display =\n",
              "          google.colab.kernel.accessAllowed ? 'block' : 'none';\n",
              "\n",
              "        async function convertToInteractive(key) {\n",
              "          const element = document.querySelector('#df-f4739bd7-f67a-40e4-ae36-9dde177e4fed');\n",
              "          const dataTable =\n",
              "            await google.colab.kernel.invokeFunction('convertToInteractive',\n",
              "                                                     [key], {});\n",
              "          if (!dataTable) return;\n",
              "\n",
              "          const docLinkHtml = 'Like what you see? Visit the ' +\n",
              "            '<a target=\"_blank\" href=https://colab.research.google.com/notebooks/data_table.ipynb>data table notebook</a>'\n",
              "            + ' to learn more about interactive tables.';\n",
              "          element.innerHTML = '';\n",
              "          dataTable['output_type'] = 'display_data';\n",
              "          await google.colab.output.renderOutput(dataTable, element);\n",
              "          const docLink = document.createElement('div');\n",
              "          docLink.innerHTML = docLinkHtml;\n",
              "          element.appendChild(docLink);\n",
              "        }\n",
              "      </script>\n",
              "    </div>\n",
              "  </div>\n",
              "  "
            ]
          },
          "metadata": {},
          "execution_count": 10
        }
      ]
    },
    {
      "cell_type": "code",
      "source": [
        "val_data"
      ],
      "metadata": {
        "colab": {
          "base_uri": "https://localhost:8080/",
          "height": 424
        },
        "id": "XJSjaKJZhBqK",
        "outputId": "7f3a8687-0e63-4f51-bbba-6dedcc541f07"
      },
      "execution_count": null,
      "outputs": [
        {
          "output_type": "execute_result",
          "data": {
            "text/plain": [
              "                                                                                        headline  \\\n",
              "0                                                  خنيفره الحبس و الخطيه لراپور متهم باهانه موظف   \n",
              "1                                  مشات تقلد كارديشيان ممثله تصاب بفشل كلوي بسبب حزام نحت الخصر    \n",
              "2                                                            اشبيليه يطارد الدولي المغربي امرابط   \n",
              "3                                  في عيد المراه تعلمي ماتخافيش من جمالك راه جسدك ما كيلغيش عقلك   \n",
              "4                                                     زوجه عسكري في الصحراء تنتحر شنقا في خينفره   \n",
              "...                                                                                          ...   \n",
              "4132  سعد لمجرد كيحاول يمحي صوره المغتصب ويبين انسانيتو باستغلال العواطف والموت واستماله الجمهور   \n",
              "4133      جورنالات بلادي 100 مسؤول رفضو التصريح بالممتلكات وجديد محاكمه شبكه تجنيس الاسرائيليين    \n",
              "4134              الخلفي موقف رئيس الحكومه من تقاعد البرلمانيين لم يتغير وهناك مقترح قانون جماعي   \n",
              "4135                    ومن الحب ما قتل هندي انتاحر في لايف علي فيسبوك من بعدما سمحات فيه صاحبتو   \n",
              "4136                                            127 مرشح جزائري لخلافه بوتفليقه علي كرسي الجزائر   \n",
              "\n",
              "               categories  \n",
              "0            ('آش واقع',)  \n",
              "1             ('تبركيك',)  \n",
              "2           ('كود سبور',)  \n",
              "3               ('آراء',)  \n",
              "4            ('آش واقع',)  \n",
              "...                   ...  \n",
              "4132          ('تبركيك',)  \n",
              "4133  ('جورنالات بلادي',)  \n",
              "4134         ('آش واقع',)  \n",
              "4135          ('تبركيك',)  \n",
              "4136         ('آش واقع',)  \n",
              "\n",
              "[4137 rows x 2 columns]"
            ],
            "text/html": [
              "\n",
              "  <div id=\"df-cd5c2a20-508a-4dd6-a014-ba8c006340dd\">\n",
              "    <div class=\"colab-df-container\">\n",
              "      <div>\n",
              "<style scoped>\n",
              "    .dataframe tbody tr th:only-of-type {\n",
              "        vertical-align: middle;\n",
              "    }\n",
              "\n",
              "    .dataframe tbody tr th {\n",
              "        vertical-align: top;\n",
              "    }\n",
              "\n",
              "    .dataframe thead th {\n",
              "        text-align: right;\n",
              "    }\n",
              "</style>\n",
              "<table border=\"1\" class=\"dataframe\">\n",
              "  <thead>\n",
              "    <tr style=\"text-align: right;\">\n",
              "      <th></th>\n",
              "      <th>headline</th>\n",
              "      <th>categories</th>\n",
              "    </tr>\n",
              "  </thead>\n",
              "  <tbody>\n",
              "    <tr>\n",
              "      <th>0</th>\n",
              "      <td>خنيفره الحبس و الخطيه لراپور متهم باهانه موظف</td>\n",
              "      <td>('آش واقع',)</td>\n",
              "    </tr>\n",
              "    <tr>\n",
              "      <th>1</th>\n",
              "      <td>مشات تقلد كارديشيان ممثله تصاب بفشل كلوي بسبب حزام نحت الخصر</td>\n",
              "      <td>('تبركيك',)</td>\n",
              "    </tr>\n",
              "    <tr>\n",
              "      <th>2</th>\n",
              "      <td>اشبيليه يطارد الدولي المغربي امرابط</td>\n",
              "      <td>('كود سبور',)</td>\n",
              "    </tr>\n",
              "    <tr>\n",
              "      <th>3</th>\n",
              "      <td>في عيد المراه تعلمي ماتخافيش من جمالك راه جسدك ما كيلغيش عقلك</td>\n",
              "      <td>('آراء',)</td>\n",
              "    </tr>\n",
              "    <tr>\n",
              "      <th>4</th>\n",
              "      <td>زوجه عسكري في الصحراء تنتحر شنقا في خينفره</td>\n",
              "      <td>('آش واقع',)</td>\n",
              "    </tr>\n",
              "    <tr>\n",
              "      <th>...</th>\n",
              "      <td>...</td>\n",
              "      <td>...</td>\n",
              "    </tr>\n",
              "    <tr>\n",
              "      <th>4132</th>\n",
              "      <td>سعد لمجرد كيحاول يمحي صوره المغتصب ويبين انسانيتو باستغلال العواطف والموت واستماله الجمهور</td>\n",
              "      <td>('تبركيك',)</td>\n",
              "    </tr>\n",
              "    <tr>\n",
              "      <th>4133</th>\n",
              "      <td>جورنالات بلادي 100 مسؤول رفضو التصريح بالممتلكات وجديد محاكمه شبكه تجنيس الاسرائيليين</td>\n",
              "      <td>('جورنالات بلادي',)</td>\n",
              "    </tr>\n",
              "    <tr>\n",
              "      <th>4134</th>\n",
              "      <td>الخلفي موقف رئيس الحكومه من تقاعد البرلمانيين لم يتغير وهناك مقترح قانون جماعي</td>\n",
              "      <td>('آش واقع',)</td>\n",
              "    </tr>\n",
              "    <tr>\n",
              "      <th>4135</th>\n",
              "      <td>ومن الحب ما قتل هندي انتاحر في لايف علي فيسبوك من بعدما سمحات فيه صاحبتو</td>\n",
              "      <td>('تبركيك',)</td>\n",
              "    </tr>\n",
              "    <tr>\n",
              "      <th>4136</th>\n",
              "      <td>127 مرشح جزائري لخلافه بوتفليقه علي كرسي الجزائر</td>\n",
              "      <td>('آش واقع',)</td>\n",
              "    </tr>\n",
              "  </tbody>\n",
              "</table>\n",
              "<p>4137 rows × 2 columns</p>\n",
              "</div>\n",
              "      <button class=\"colab-df-convert\" onclick=\"convertToInteractive('df-cd5c2a20-508a-4dd6-a014-ba8c006340dd')\"\n",
              "              title=\"Convert this dataframe to an interactive table.\"\n",
              "              style=\"display:none;\">\n",
              "        \n",
              "  <svg xmlns=\"http://www.w3.org/2000/svg\" height=\"24px\"viewBox=\"0 0 24 24\"\n",
              "       width=\"24px\">\n",
              "    <path d=\"M0 0h24v24H0V0z\" fill=\"none\"/>\n",
              "    <path d=\"M18.56 5.44l.94 2.06.94-2.06 2.06-.94-2.06-.94-.94-2.06-.94 2.06-2.06.94zm-11 1L8.5 8.5l.94-2.06 2.06-.94-2.06-.94L8.5 2.5l-.94 2.06-2.06.94zm10 10l.94 2.06.94-2.06 2.06-.94-2.06-.94-.94-2.06-.94 2.06-2.06.94z\"/><path d=\"M17.41 7.96l-1.37-1.37c-.4-.4-.92-.59-1.43-.59-.52 0-1.04.2-1.43.59L10.3 9.45l-7.72 7.72c-.78.78-.78 2.05 0 2.83L4 21.41c.39.39.9.59 1.41.59.51 0 1.02-.2 1.41-.59l7.78-7.78 2.81-2.81c.8-.78.8-2.07 0-2.86zM5.41 20L4 18.59l7.72-7.72 1.47 1.35L5.41 20z\"/>\n",
              "  </svg>\n",
              "      </button>\n",
              "      \n",
              "  <style>\n",
              "    .colab-df-container {\n",
              "      display:flex;\n",
              "      flex-wrap:wrap;\n",
              "      gap: 12px;\n",
              "    }\n",
              "\n",
              "    .colab-df-convert {\n",
              "      background-color: #E8F0FE;\n",
              "      border: none;\n",
              "      border-radius: 50%;\n",
              "      cursor: pointer;\n",
              "      display: none;\n",
              "      fill: #1967D2;\n",
              "      height: 32px;\n",
              "      padding: 0 0 0 0;\n",
              "      width: 32px;\n",
              "    }\n",
              "\n",
              "    .colab-df-convert:hover {\n",
              "      background-color: #E2EBFA;\n",
              "      box-shadow: 0px 1px 2px rgba(60, 64, 67, 0.3), 0px 1px 3px 1px rgba(60, 64, 67, 0.15);\n",
              "      fill: #174EA6;\n",
              "    }\n",
              "\n",
              "    [theme=dark] .colab-df-convert {\n",
              "      background-color: #3B4455;\n",
              "      fill: #D2E3FC;\n",
              "    }\n",
              "\n",
              "    [theme=dark] .colab-df-convert:hover {\n",
              "      background-color: #434B5C;\n",
              "      box-shadow: 0px 1px 3px 1px rgba(0, 0, 0, 0.15);\n",
              "      filter: drop-shadow(0px 1px 2px rgba(0, 0, 0, 0.3));\n",
              "      fill: #FFFFFF;\n",
              "    }\n",
              "  </style>\n",
              "\n",
              "      <script>\n",
              "        const buttonEl =\n",
              "          document.querySelector('#df-cd5c2a20-508a-4dd6-a014-ba8c006340dd button.colab-df-convert');\n",
              "        buttonEl.style.display =\n",
              "          google.colab.kernel.accessAllowed ? 'block' : 'none';\n",
              "\n",
              "        async function convertToInteractive(key) {\n",
              "          const element = document.querySelector('#df-cd5c2a20-508a-4dd6-a014-ba8c006340dd');\n",
              "          const dataTable =\n",
              "            await google.colab.kernel.invokeFunction('convertToInteractive',\n",
              "                                                     [key], {});\n",
              "          if (!dataTable) return;\n",
              "\n",
              "          const docLinkHtml = 'Like what you see? Visit the ' +\n",
              "            '<a target=\"_blank\" href=https://colab.research.google.com/notebooks/data_table.ipynb>data table notebook</a>'\n",
              "            + ' to learn more about interactive tables.';\n",
              "          element.innerHTML = '';\n",
              "          dataTable['output_type'] = 'display_data';\n",
              "          await google.colab.output.renderOutput(dataTable, element);\n",
              "          const docLink = document.createElement('div');\n",
              "          docLink.innerHTML = docLinkHtml;\n",
              "          element.appendChild(docLink);\n",
              "        }\n",
              "      </script>\n",
              "    </div>\n",
              "  </div>\n",
              "  "
            ]
          },
          "metadata": {},
          "execution_count": 11
        }
      ]
    },
    {
      "cell_type": "code",
      "source": [
        "test_data"
      ],
      "metadata": {
        "colab": {
          "base_uri": "https://localhost:8080/",
          "height": 424
        },
        "id": "6XUviVGFhDyh",
        "outputId": "0f71b8d2-9840-43c4-be79-ed1e71dfd4dc"
      },
      "execution_count": null,
      "outputs": [
        {
          "output_type": "execute_result",
          "data": {
            "text/plain": [
              "                                                                                                                                              headline  \\\n",
              "0                                                                            التخلف باقي فالمجتمع البخور وهياكل الموتي و بيض الغول في احتفالات عاشوراء   \n",
              "1                                                 ف زمان كورونا كونصير د الروك تدار ف برشلونه حضروه 5 الاف شخص مافيه لا تباعد لا والو و ها كيفاش فيديو   \n",
              "2                                                                                                                     كيم كارداشيان تعرات عاوتاني صور    \n",
              "3                                                                   نقابتا الاتحاد والفيدراليه دخلو صحاح فوزاره انيس بيرو واتهامات بالزبونيه للمسؤولين   \n",
              "4                                                                    اداريه الرباط لشركه صوماجيك فطنجه ممنوع من هنا لفوق ديرو الصابو لسيارات المواطنين   \n",
              "...                                                                                                                                                ...   \n",
              "4109                                                                                       مزاد علني فيه رسائل مارسيل بروست فشل 16 رساله مداها فيها حد   \n",
              "4110  سكوب صافي كلشي توقع صفقه القرن اللي دارها مولاي حفيظ العلمي مع شركه جنوب افريقيه بمليار دولار تمات رسميا اقاله بوسعيد ما عندها علاقه بهاد الصفقه   \n",
              "4111                                                             الكسال اللي شرمل هولنديه بفاس مولوع بمؤخرات النساء وها الطريقه باش كيجيب الشهوه ديالو   \n",
              "4112                                                  بنكيران يصارع لتقليص لائحه قيادي الحزب المعتذرين عن الترشح للانتخابات ومحاولات اخيره لاقناع باها   \n",
              "4113                              صحف فضيحه تعشير السيارات بالناظور امام جنايات فاس ومقتل جندي واصابه ثلاثه امنيين بعد هجوم علي نقطه للمراقبه بالناظور   \n",
              "\n",
              "               categories  \n",
              "0     ('جورنالات بلادي',)  \n",
              "1       ('ميديا وثقافة',)  \n",
              "2             ('تبركيك',)  \n",
              "3            ('آش واقع',)  \n",
              "4            ('آش واقع',)  \n",
              "...                   ...  \n",
              "4109    ('ميديا وثقافة',)  \n",
              "4110          ('تبركيك',)  \n",
              "4111          ('تبركيك',)  \n",
              "4112         ('آش واقع',)  \n",
              "4113         ('آش واقع',)  \n",
              "\n",
              "[4114 rows x 2 columns]"
            ],
            "text/html": [
              "\n",
              "  <div id=\"df-5ccead64-8f9d-4ef6-81f2-4beabbfbcac9\">\n",
              "    <div class=\"colab-df-container\">\n",
              "      <div>\n",
              "<style scoped>\n",
              "    .dataframe tbody tr th:only-of-type {\n",
              "        vertical-align: middle;\n",
              "    }\n",
              "\n",
              "    .dataframe tbody tr th {\n",
              "        vertical-align: top;\n",
              "    }\n",
              "\n",
              "    .dataframe thead th {\n",
              "        text-align: right;\n",
              "    }\n",
              "</style>\n",
              "<table border=\"1\" class=\"dataframe\">\n",
              "  <thead>\n",
              "    <tr style=\"text-align: right;\">\n",
              "      <th></th>\n",
              "      <th>headline</th>\n",
              "      <th>categories</th>\n",
              "    </tr>\n",
              "  </thead>\n",
              "  <tbody>\n",
              "    <tr>\n",
              "      <th>0</th>\n",
              "      <td>التخلف باقي فالمجتمع البخور وهياكل الموتي و بيض الغول في احتفالات عاشوراء</td>\n",
              "      <td>('جورنالات بلادي',)</td>\n",
              "    </tr>\n",
              "    <tr>\n",
              "      <th>1</th>\n",
              "      <td>ف زمان كورونا كونصير د الروك تدار ف برشلونه حضروه 5 الاف شخص مافيه لا تباعد لا والو و ها كيفاش فيديو</td>\n",
              "      <td>('ميديا وثقافة',)</td>\n",
              "    </tr>\n",
              "    <tr>\n",
              "      <th>2</th>\n",
              "      <td>كيم كارداشيان تعرات عاوتاني صور</td>\n",
              "      <td>('تبركيك',)</td>\n",
              "    </tr>\n",
              "    <tr>\n",
              "      <th>3</th>\n",
              "      <td>نقابتا الاتحاد والفيدراليه دخلو صحاح فوزاره انيس بيرو واتهامات بالزبونيه للمسؤولين</td>\n",
              "      <td>('آش واقع',)</td>\n",
              "    </tr>\n",
              "    <tr>\n",
              "      <th>4</th>\n",
              "      <td>اداريه الرباط لشركه صوماجيك فطنجه ممنوع من هنا لفوق ديرو الصابو لسيارات المواطنين</td>\n",
              "      <td>('آش واقع',)</td>\n",
              "    </tr>\n",
              "    <tr>\n",
              "      <th>...</th>\n",
              "      <td>...</td>\n",
              "      <td>...</td>\n",
              "    </tr>\n",
              "    <tr>\n",
              "      <th>4109</th>\n",
              "      <td>مزاد علني فيه رسائل مارسيل بروست فشل 16 رساله مداها فيها حد</td>\n",
              "      <td>('ميديا وثقافة',)</td>\n",
              "    </tr>\n",
              "    <tr>\n",
              "      <th>4110</th>\n",
              "      <td>سكوب صافي كلشي توقع صفقه القرن اللي دارها مولاي حفيظ العلمي مع شركه جنوب افريقيه بمليار دولار تمات رسميا اقاله بوسعيد ما عندها علاقه بهاد الصفقه</td>\n",
              "      <td>('تبركيك',)</td>\n",
              "    </tr>\n",
              "    <tr>\n",
              "      <th>4111</th>\n",
              "      <td>الكسال اللي شرمل هولنديه بفاس مولوع بمؤخرات النساء وها الطريقه باش كيجيب الشهوه ديالو</td>\n",
              "      <td>('تبركيك',)</td>\n",
              "    </tr>\n",
              "    <tr>\n",
              "      <th>4112</th>\n",
              "      <td>بنكيران يصارع لتقليص لائحه قيادي الحزب المعتذرين عن الترشح للانتخابات ومحاولات اخيره لاقناع باها</td>\n",
              "      <td>('آش واقع',)</td>\n",
              "    </tr>\n",
              "    <tr>\n",
              "      <th>4113</th>\n",
              "      <td>صحف فضيحه تعشير السيارات بالناظور امام جنايات فاس ومقتل جندي واصابه ثلاثه امنيين بعد هجوم علي نقطه للمراقبه بالناظور</td>\n",
              "      <td>('آش واقع',)</td>\n",
              "    </tr>\n",
              "  </tbody>\n",
              "</table>\n",
              "<p>4114 rows × 2 columns</p>\n",
              "</div>\n",
              "      <button class=\"colab-df-convert\" onclick=\"convertToInteractive('df-5ccead64-8f9d-4ef6-81f2-4beabbfbcac9')\"\n",
              "              title=\"Convert this dataframe to an interactive table.\"\n",
              "              style=\"display:none;\">\n",
              "        \n",
              "  <svg xmlns=\"http://www.w3.org/2000/svg\" height=\"24px\"viewBox=\"0 0 24 24\"\n",
              "       width=\"24px\">\n",
              "    <path d=\"M0 0h24v24H0V0z\" fill=\"none\"/>\n",
              "    <path d=\"M18.56 5.44l.94 2.06.94-2.06 2.06-.94-2.06-.94-.94-2.06-.94 2.06-2.06.94zm-11 1L8.5 8.5l.94-2.06 2.06-.94-2.06-.94L8.5 2.5l-.94 2.06-2.06.94zm10 10l.94 2.06.94-2.06 2.06-.94-2.06-.94-.94-2.06-.94 2.06-2.06.94z\"/><path d=\"M17.41 7.96l-1.37-1.37c-.4-.4-.92-.59-1.43-.59-.52 0-1.04.2-1.43.59L10.3 9.45l-7.72 7.72c-.78.78-.78 2.05 0 2.83L4 21.41c.39.39.9.59 1.41.59.51 0 1.02-.2 1.41-.59l7.78-7.78 2.81-2.81c.8-.78.8-2.07 0-2.86zM5.41 20L4 18.59l7.72-7.72 1.47 1.35L5.41 20z\"/>\n",
              "  </svg>\n",
              "      </button>\n",
              "      \n",
              "  <style>\n",
              "    .colab-df-container {\n",
              "      display:flex;\n",
              "      flex-wrap:wrap;\n",
              "      gap: 12px;\n",
              "    }\n",
              "\n",
              "    .colab-df-convert {\n",
              "      background-color: #E8F0FE;\n",
              "      border: none;\n",
              "      border-radius: 50%;\n",
              "      cursor: pointer;\n",
              "      display: none;\n",
              "      fill: #1967D2;\n",
              "      height: 32px;\n",
              "      padding: 0 0 0 0;\n",
              "      width: 32px;\n",
              "    }\n",
              "\n",
              "    .colab-df-convert:hover {\n",
              "      background-color: #E2EBFA;\n",
              "      box-shadow: 0px 1px 2px rgba(60, 64, 67, 0.3), 0px 1px 3px 1px rgba(60, 64, 67, 0.15);\n",
              "      fill: #174EA6;\n",
              "    }\n",
              "\n",
              "    [theme=dark] .colab-df-convert {\n",
              "      background-color: #3B4455;\n",
              "      fill: #D2E3FC;\n",
              "    }\n",
              "\n",
              "    [theme=dark] .colab-df-convert:hover {\n",
              "      background-color: #434B5C;\n",
              "      box-shadow: 0px 1px 3px 1px rgba(0, 0, 0, 0.15);\n",
              "      filter: drop-shadow(0px 1px 2px rgba(0, 0, 0, 0.3));\n",
              "      fill: #FFFFFF;\n",
              "    }\n",
              "  </style>\n",
              "\n",
              "      <script>\n",
              "        const buttonEl =\n",
              "          document.querySelector('#df-5ccead64-8f9d-4ef6-81f2-4beabbfbcac9 button.colab-df-convert');\n",
              "        buttonEl.style.display =\n",
              "          google.colab.kernel.accessAllowed ? 'block' : 'none';\n",
              "\n",
              "        async function convertToInteractive(key) {\n",
              "          const element = document.querySelector('#df-5ccead64-8f9d-4ef6-81f2-4beabbfbcac9');\n",
              "          const dataTable =\n",
              "            await google.colab.kernel.invokeFunction('convertToInteractive',\n",
              "                                                     [key], {});\n",
              "          if (!dataTable) return;\n",
              "\n",
              "          const docLinkHtml = 'Like what you see? Visit the ' +\n",
              "            '<a target=\"_blank\" href=https://colab.research.google.com/notebooks/data_table.ipynb>data table notebook</a>'\n",
              "            + ' to learn more about interactive tables.';\n",
              "          element.innerHTML = '';\n",
              "          dataTable['output_type'] = 'display_data';\n",
              "          await google.colab.output.renderOutput(dataTable, element);\n",
              "          const docLink = document.createElement('div');\n",
              "          docLink.innerHTML = docLinkHtml;\n",
              "          element.appendChild(docLink);\n",
              "        }\n",
              "      </script>\n",
              "    </div>\n",
              "  </div>\n",
              "  "
            ]
          },
          "metadata": {},
          "execution_count": 12
        }
      ]
    },
    {
      "cell_type": "code",
      "source": [
        "train_data[\"categories\"].unique()"
      ],
      "metadata": {
        "colab": {
          "base_uri": "https://localhost:8080/"
        },
        "id": "E_lcH8emMxiA",
        "outputId": "8845c327-8e39-45d7-bb24-64b0ccb427ed"
      },
      "execution_count": null,
      "outputs": [
        {
          "output_type": "execute_result",
          "data": {
            "text/plain": [
              "array([\"('جورنالات بلادي',)\", \"('كود سبور',)\", \"('تبركيك',)\", \"('آراء',)\",\n",
              "       \"('آش واقع',)\", \"('ميديا وثقافة',)\", \"('الزين والحداكة',)\"],\n",
              "      dtype=object)"
            ]
          },
          "metadata": {},
          "execution_count": 9
        }
      ]
    },
    {
      "cell_type": "code",
      "source": [
        "val_data[\"categories\"].unique()"
      ],
      "metadata": {
        "colab": {
          "base_uri": "https://localhost:8080/"
        },
        "id": "VSXYNdeHj8vR",
        "outputId": "223c14af-9826-4bc9-a124-feeb8c890b6d"
      },
      "execution_count": null,
      "outputs": [
        {
          "output_type": "execute_result",
          "data": {
            "text/plain": [
              "array([\"('آش واقع',)\", \"('تبركيك',)\", \"('كود سبور',)\", \"('آراء',)\",\n",
              "       \"('ميديا وثقافة',)\", \"('جورنالات بلادي',)\", \"('الزين والحداكة',)\"],\n",
              "      dtype=object)"
            ]
          },
          "metadata": {},
          "execution_count": 10
        }
      ]
    },
    {
      "cell_type": "code",
      "source": [
        "test_data[\"categories\"].unique()"
      ],
      "metadata": {
        "colab": {
          "base_uri": "https://localhost:8080/"
        },
        "id": "B5diEdankBSw",
        "outputId": "c4c60c6e-3739-4873-c7d2-f8bc7d352ed1"
      },
      "execution_count": null,
      "outputs": [
        {
          "output_type": "execute_result",
          "data": {
            "text/plain": [
              "array([\"('جورنالات بلادي',)\", \"('ميديا وثقافة',)\", \"('تبركيك',)\",\n",
              "       \"('آش واقع',)\", \"('كود سبور',)\", \"('آراء',)\",\n",
              "       \"('الزين والحداكة',)\"], dtype=object)"
            ]
          },
          "metadata": {},
          "execution_count": 11
        }
      ]
    },
    {
      "cell_type": "code",
      "source": [
        "def categ2label(categ):\n",
        "  labels_dict = {\n",
        "      \"('جورنالات بلادي',)\" : 0,\n",
        "      \"('كود سبور',)\" : 1,\n",
        "      \"('تبركيك',)\" : 2,\n",
        "      \"('آراء',)\" : 3,\n",
        "      \"('آش واقع',)\" : 4,\n",
        "      \"('ميديا وثقافة',)\" : 5,\n",
        "      \"('الزين والحداكة',)\" : 6,\n",
        "  }\n",
        "  return labels_dict[categ]"
      ],
      "metadata": {
        "id": "lUMcjWI0LBE8"
      },
      "execution_count": null,
      "outputs": []
    },
    {
      "cell_type": "code",
      "source": [
        "train_data[\"label\"] = train_data[\"categories\"].apply(categ2label)\n",
        "val_data[\"label\"] = val_data[\"categories\"].apply(categ2label)\n",
        "test_data[\"label\"] = test_data[\"categories\"].apply(categ2label)"
      ],
      "metadata": {
        "id": "7Wv8qKOCUBxx"
      },
      "execution_count": null,
      "outputs": []
    },
    {
      "cell_type": "code",
      "source": [
        "train_data"
      ],
      "metadata": {
        "colab": {
          "base_uri": "https://localhost:8080/",
          "height": 424
        },
        "id": "8Y36aOf5YZX_",
        "outputId": "56534a50-64e6-47bd-bf2d-31bcc7a216c9"
      },
      "execution_count": null,
      "outputs": [
        {
          "output_type": "execute_result",
          "data": {
            "text/plain": [
              "                                                headline           categories  \\\n",
              "0           حكم ضد وزارة اعمارة بتعويض قدره  مليار لشركة  ('جورنالات بلادي',)   \n",
              "1          جلسة خاصة بين مدرب الأهلي ومهاجم الأسود أزارو        ('كود سبور',)   \n",
              "2      اعتقال مهاجم الريال رونالدو في فرنسا  وها علاش...        ('كود سبور',)   \n",
              "3                  الأسود المحليين يستعدون للمربع الذهبي        ('كود سبور',)   \n",
              "4      الجديد  ريحة ديال المازوط وليصونس لعشاق صوكان ...          ('تبركيك',)   \n",
              "...                                                  ...                  ...   \n",
              "62005  واش دخلو الصهد  امحند العنصر ل  كود  مزال مقرر...          ('تبركيك',)   \n",
              "62006         الفنانة المغربية ابتسام تسكت مطلوبة بوجدة‏  ('الزين والحداكة',)   \n",
              "62007  من بعد  العام  تصوير تتمة فيلم  ماروك  لي كان ...    ('ميديا وثقافة',)   \n",
              "62008  جورنالات بلادي  غموض يلف صرف  ملايير بمؤسسة ال...  ('جورنالات بلادي',)   \n",
              "62009  ممارسة السياسة عبر الاحفاد  شباط يرد على بنكير...          ('تبركيك',)   \n",
              "\n",
              "       label  \n",
              "0          0  \n",
              "1          1  \n",
              "2          1  \n",
              "3          1  \n",
              "4          2  \n",
              "...      ...  \n",
              "62005      2  \n",
              "62006      6  \n",
              "62007      5  \n",
              "62008      0  \n",
              "62009      2  \n",
              "\n",
              "[62010 rows x 3 columns]"
            ],
            "text/html": [
              "\n",
              "  <div id=\"df-0a776a6d-3fe7-47d1-9a99-97de186c243f\">\n",
              "    <div class=\"colab-df-container\">\n",
              "      <div>\n",
              "<style scoped>\n",
              "    .dataframe tbody tr th:only-of-type {\n",
              "        vertical-align: middle;\n",
              "    }\n",
              "\n",
              "    .dataframe tbody tr th {\n",
              "        vertical-align: top;\n",
              "    }\n",
              "\n",
              "    .dataframe thead th {\n",
              "        text-align: right;\n",
              "    }\n",
              "</style>\n",
              "<table border=\"1\" class=\"dataframe\">\n",
              "  <thead>\n",
              "    <tr style=\"text-align: right;\">\n",
              "      <th></th>\n",
              "      <th>headline</th>\n",
              "      <th>categories</th>\n",
              "      <th>label</th>\n",
              "    </tr>\n",
              "  </thead>\n",
              "  <tbody>\n",
              "    <tr>\n",
              "      <th>0</th>\n",
              "      <td>حكم ضد وزارة اعمارة بتعويض قدره  مليار لشركة</td>\n",
              "      <td>('جورنالات بلادي',)</td>\n",
              "      <td>0</td>\n",
              "    </tr>\n",
              "    <tr>\n",
              "      <th>1</th>\n",
              "      <td>جلسة خاصة بين مدرب الأهلي ومهاجم الأسود أزارو</td>\n",
              "      <td>('كود سبور',)</td>\n",
              "      <td>1</td>\n",
              "    </tr>\n",
              "    <tr>\n",
              "      <th>2</th>\n",
              "      <td>اعتقال مهاجم الريال رونالدو في فرنسا  وها علاش...</td>\n",
              "      <td>('كود سبور',)</td>\n",
              "      <td>1</td>\n",
              "    </tr>\n",
              "    <tr>\n",
              "      <th>3</th>\n",
              "      <td>الأسود المحليين يستعدون للمربع الذهبي</td>\n",
              "      <td>('كود سبور',)</td>\n",
              "      <td>1</td>\n",
              "    </tr>\n",
              "    <tr>\n",
              "      <th>4</th>\n",
              "      <td>الجديد  ريحة ديال المازوط وليصونس لعشاق صوكان ...</td>\n",
              "      <td>('تبركيك',)</td>\n",
              "      <td>2</td>\n",
              "    </tr>\n",
              "    <tr>\n",
              "      <th>...</th>\n",
              "      <td>...</td>\n",
              "      <td>...</td>\n",
              "      <td>...</td>\n",
              "    </tr>\n",
              "    <tr>\n",
              "      <th>62005</th>\n",
              "      <td>واش دخلو الصهد  امحند العنصر ل  كود  مزال مقرر...</td>\n",
              "      <td>('تبركيك',)</td>\n",
              "      <td>2</td>\n",
              "    </tr>\n",
              "    <tr>\n",
              "      <th>62006</th>\n",
              "      <td>الفنانة المغربية ابتسام تسكت مطلوبة بوجدة‏</td>\n",
              "      <td>('الزين والحداكة',)</td>\n",
              "      <td>6</td>\n",
              "    </tr>\n",
              "    <tr>\n",
              "      <th>62007</th>\n",
              "      <td>من بعد  العام  تصوير تتمة فيلم  ماروك  لي كان ...</td>\n",
              "      <td>('ميديا وثقافة',)</td>\n",
              "      <td>5</td>\n",
              "    </tr>\n",
              "    <tr>\n",
              "      <th>62008</th>\n",
              "      <td>جورنالات بلادي  غموض يلف صرف  ملايير بمؤسسة ال...</td>\n",
              "      <td>('جورنالات بلادي',)</td>\n",
              "      <td>0</td>\n",
              "    </tr>\n",
              "    <tr>\n",
              "      <th>62009</th>\n",
              "      <td>ممارسة السياسة عبر الاحفاد  شباط يرد على بنكير...</td>\n",
              "      <td>('تبركيك',)</td>\n",
              "      <td>2</td>\n",
              "    </tr>\n",
              "  </tbody>\n",
              "</table>\n",
              "<p>62010 rows × 3 columns</p>\n",
              "</div>\n",
              "      <button class=\"colab-df-convert\" onclick=\"convertToInteractive('df-0a776a6d-3fe7-47d1-9a99-97de186c243f')\"\n",
              "              title=\"Convert this dataframe to an interactive table.\"\n",
              "              style=\"display:none;\">\n",
              "        \n",
              "  <svg xmlns=\"http://www.w3.org/2000/svg\" height=\"24px\"viewBox=\"0 0 24 24\"\n",
              "       width=\"24px\">\n",
              "    <path d=\"M0 0h24v24H0V0z\" fill=\"none\"/>\n",
              "    <path d=\"M18.56 5.44l.94 2.06.94-2.06 2.06-.94-2.06-.94-.94-2.06-.94 2.06-2.06.94zm-11 1L8.5 8.5l.94-2.06 2.06-.94-2.06-.94L8.5 2.5l-.94 2.06-2.06.94zm10 10l.94 2.06.94-2.06 2.06-.94-2.06-.94-.94-2.06-.94 2.06-2.06.94z\"/><path d=\"M17.41 7.96l-1.37-1.37c-.4-.4-.92-.59-1.43-.59-.52 0-1.04.2-1.43.59L10.3 9.45l-7.72 7.72c-.78.78-.78 2.05 0 2.83L4 21.41c.39.39.9.59 1.41.59.51 0 1.02-.2 1.41-.59l7.78-7.78 2.81-2.81c.8-.78.8-2.07 0-2.86zM5.41 20L4 18.59l7.72-7.72 1.47 1.35L5.41 20z\"/>\n",
              "  </svg>\n",
              "      </button>\n",
              "      \n",
              "  <style>\n",
              "    .colab-df-container {\n",
              "      display:flex;\n",
              "      flex-wrap:wrap;\n",
              "      gap: 12px;\n",
              "    }\n",
              "\n",
              "    .colab-df-convert {\n",
              "      background-color: #E8F0FE;\n",
              "      border: none;\n",
              "      border-radius: 50%;\n",
              "      cursor: pointer;\n",
              "      display: none;\n",
              "      fill: #1967D2;\n",
              "      height: 32px;\n",
              "      padding: 0 0 0 0;\n",
              "      width: 32px;\n",
              "    }\n",
              "\n",
              "    .colab-df-convert:hover {\n",
              "      background-color: #E2EBFA;\n",
              "      box-shadow: 0px 1px 2px rgba(60, 64, 67, 0.3), 0px 1px 3px 1px rgba(60, 64, 67, 0.15);\n",
              "      fill: #174EA6;\n",
              "    }\n",
              "\n",
              "    [theme=dark] .colab-df-convert {\n",
              "      background-color: #3B4455;\n",
              "      fill: #D2E3FC;\n",
              "    }\n",
              "\n",
              "    [theme=dark] .colab-df-convert:hover {\n",
              "      background-color: #434B5C;\n",
              "      box-shadow: 0px 1px 3px 1px rgba(0, 0, 0, 0.15);\n",
              "      filter: drop-shadow(0px 1px 2px rgba(0, 0, 0, 0.3));\n",
              "      fill: #FFFFFF;\n",
              "    }\n",
              "  </style>\n",
              "\n",
              "      <script>\n",
              "        const buttonEl =\n",
              "          document.querySelector('#df-0a776a6d-3fe7-47d1-9a99-97de186c243f button.colab-df-convert');\n",
              "        buttonEl.style.display =\n",
              "          google.colab.kernel.accessAllowed ? 'block' : 'none';\n",
              "\n",
              "        async function convertToInteractive(key) {\n",
              "          const element = document.querySelector('#df-0a776a6d-3fe7-47d1-9a99-97de186c243f');\n",
              "          const dataTable =\n",
              "            await google.colab.kernel.invokeFunction('convertToInteractive',\n",
              "                                                     [key], {});\n",
              "          if (!dataTable) return;\n",
              "\n",
              "          const docLinkHtml = 'Like what you see? Visit the ' +\n",
              "            '<a target=\"_blank\" href=https://colab.research.google.com/notebooks/data_table.ipynb>data table notebook</a>'\n",
              "            + ' to learn more about interactive tables.';\n",
              "          element.innerHTML = '';\n",
              "          dataTable['output_type'] = 'display_data';\n",
              "          await google.colab.output.renderOutput(dataTable, element);\n",
              "          const docLink = document.createElement('div');\n",
              "          docLink.innerHTML = docLinkHtml;\n",
              "          element.appendChild(docLink);\n",
              "        }\n",
              "      </script>\n",
              "    </div>\n",
              "  </div>\n",
              "  "
            ]
          },
          "metadata": {},
          "execution_count": 14
        }
      ]
    },
    {
      "cell_type": "code",
      "source": [
        "val_data"
      ],
      "metadata": {
        "colab": {
          "base_uri": "https://localhost:8080/",
          "height": 424
        },
        "id": "8_ENxRBYl6Nz",
        "outputId": "bad3795c-e4b8-414d-a88d-f3712de04f10"
      },
      "execution_count": null,
      "outputs": [
        {
          "output_type": "execute_result",
          "data": {
            "text/plain": [
              "                                               headline           categories  \\\n",
              "0         خنيفرة الحبس و الخطية لراپور متهم بإهانة موظف         ('آش واقع',)   \n",
              "1     مشات تقلد كارديشيان  ممثلة تصاب بفشل كلوي بسبب...          ('تبركيك',)   \n",
              "2                   إشبيلية يطارد الدولي المغربي أمرابط        ('كود سبور',)   \n",
              "3     في عيد المرأة  تعلمي ماتخافيش من جمالك راه جسد...            ('آراء',)   \n",
              "4            زوجة عسكري في الصحراء تنتحر شنقا في خينفرة         ('آش واقع',)   \n",
              "...                                                 ...                  ...   \n",
              "4132  سعد لمجرد كيحاول يمحي صورة المغتصب ويبين انسان...          ('تبركيك',)   \n",
              "4133  جورنالات بلادي  مسؤول رفضو التصريح بالممتلكات ...  ('جورنالات بلادي',)   \n",
              "4134  الخلفي  موقف رئيس الحكومة من تقاعد البرلمانيين...         ('آش واقع',)   \n",
              "4135  ومن الحب ما قتل  هندي انتاحر في لايف على  فيسب...          ('تبركيك',)   \n",
              "4136       مرشح جزائري لخلافة بوتفليقة على كرسي الجزائر         ('آش واقع',)   \n",
              "\n",
              "      label  \n",
              "0         4  \n",
              "1         2  \n",
              "2         1  \n",
              "3         3  \n",
              "4         4  \n",
              "...     ...  \n",
              "4132      2  \n",
              "4133      0  \n",
              "4134      4  \n",
              "4135      2  \n",
              "4136      4  \n",
              "\n",
              "[4137 rows x 3 columns]"
            ],
            "text/html": [
              "\n",
              "  <div id=\"df-9ebd4b35-1971-4e92-8f2a-8f21cfb75bc2\">\n",
              "    <div class=\"colab-df-container\">\n",
              "      <div>\n",
              "<style scoped>\n",
              "    .dataframe tbody tr th:only-of-type {\n",
              "        vertical-align: middle;\n",
              "    }\n",
              "\n",
              "    .dataframe tbody tr th {\n",
              "        vertical-align: top;\n",
              "    }\n",
              "\n",
              "    .dataframe thead th {\n",
              "        text-align: right;\n",
              "    }\n",
              "</style>\n",
              "<table border=\"1\" class=\"dataframe\">\n",
              "  <thead>\n",
              "    <tr style=\"text-align: right;\">\n",
              "      <th></th>\n",
              "      <th>headline</th>\n",
              "      <th>categories</th>\n",
              "      <th>label</th>\n",
              "    </tr>\n",
              "  </thead>\n",
              "  <tbody>\n",
              "    <tr>\n",
              "      <th>0</th>\n",
              "      <td>خنيفرة الحبس و الخطية لراپور متهم بإهانة موظف</td>\n",
              "      <td>('آش واقع',)</td>\n",
              "      <td>4</td>\n",
              "    </tr>\n",
              "    <tr>\n",
              "      <th>1</th>\n",
              "      <td>مشات تقلد كارديشيان  ممثلة تصاب بفشل كلوي بسبب...</td>\n",
              "      <td>('تبركيك',)</td>\n",
              "      <td>2</td>\n",
              "    </tr>\n",
              "    <tr>\n",
              "      <th>2</th>\n",
              "      <td>إشبيلية يطارد الدولي المغربي أمرابط</td>\n",
              "      <td>('كود سبور',)</td>\n",
              "      <td>1</td>\n",
              "    </tr>\n",
              "    <tr>\n",
              "      <th>3</th>\n",
              "      <td>في عيد المرأة  تعلمي ماتخافيش من جمالك راه جسد...</td>\n",
              "      <td>('آراء',)</td>\n",
              "      <td>3</td>\n",
              "    </tr>\n",
              "    <tr>\n",
              "      <th>4</th>\n",
              "      <td>زوجة عسكري في الصحراء تنتحر شنقا في خينفرة</td>\n",
              "      <td>('آش واقع',)</td>\n",
              "      <td>4</td>\n",
              "    </tr>\n",
              "    <tr>\n",
              "      <th>...</th>\n",
              "      <td>...</td>\n",
              "      <td>...</td>\n",
              "      <td>...</td>\n",
              "    </tr>\n",
              "    <tr>\n",
              "      <th>4132</th>\n",
              "      <td>سعد لمجرد كيحاول يمحي صورة المغتصب ويبين انسان...</td>\n",
              "      <td>('تبركيك',)</td>\n",
              "      <td>2</td>\n",
              "    </tr>\n",
              "    <tr>\n",
              "      <th>4133</th>\n",
              "      <td>جورنالات بلادي  مسؤول رفضو التصريح بالممتلكات ...</td>\n",
              "      <td>('جورنالات بلادي',)</td>\n",
              "      <td>0</td>\n",
              "    </tr>\n",
              "    <tr>\n",
              "      <th>4134</th>\n",
              "      <td>الخلفي  موقف رئيس الحكومة من تقاعد البرلمانيين...</td>\n",
              "      <td>('آش واقع',)</td>\n",
              "      <td>4</td>\n",
              "    </tr>\n",
              "    <tr>\n",
              "      <th>4135</th>\n",
              "      <td>ومن الحب ما قتل  هندي انتاحر في لايف على  فيسب...</td>\n",
              "      <td>('تبركيك',)</td>\n",
              "      <td>2</td>\n",
              "    </tr>\n",
              "    <tr>\n",
              "      <th>4136</th>\n",
              "      <td>مرشح جزائري لخلافة بوتفليقة على كرسي الجزائر</td>\n",
              "      <td>('آش واقع',)</td>\n",
              "      <td>4</td>\n",
              "    </tr>\n",
              "  </tbody>\n",
              "</table>\n",
              "<p>4137 rows × 3 columns</p>\n",
              "</div>\n",
              "      <button class=\"colab-df-convert\" onclick=\"convertToInteractive('df-9ebd4b35-1971-4e92-8f2a-8f21cfb75bc2')\"\n",
              "              title=\"Convert this dataframe to an interactive table.\"\n",
              "              style=\"display:none;\">\n",
              "        \n",
              "  <svg xmlns=\"http://www.w3.org/2000/svg\" height=\"24px\"viewBox=\"0 0 24 24\"\n",
              "       width=\"24px\">\n",
              "    <path d=\"M0 0h24v24H0V0z\" fill=\"none\"/>\n",
              "    <path d=\"M18.56 5.44l.94 2.06.94-2.06 2.06-.94-2.06-.94-.94-2.06-.94 2.06-2.06.94zm-11 1L8.5 8.5l.94-2.06 2.06-.94-2.06-.94L8.5 2.5l-.94 2.06-2.06.94zm10 10l.94 2.06.94-2.06 2.06-.94-2.06-.94-.94-2.06-.94 2.06-2.06.94z\"/><path d=\"M17.41 7.96l-1.37-1.37c-.4-.4-.92-.59-1.43-.59-.52 0-1.04.2-1.43.59L10.3 9.45l-7.72 7.72c-.78.78-.78 2.05 0 2.83L4 21.41c.39.39.9.59 1.41.59.51 0 1.02-.2 1.41-.59l7.78-7.78 2.81-2.81c.8-.78.8-2.07 0-2.86zM5.41 20L4 18.59l7.72-7.72 1.47 1.35L5.41 20z\"/>\n",
              "  </svg>\n",
              "      </button>\n",
              "      \n",
              "  <style>\n",
              "    .colab-df-container {\n",
              "      display:flex;\n",
              "      flex-wrap:wrap;\n",
              "      gap: 12px;\n",
              "    }\n",
              "\n",
              "    .colab-df-convert {\n",
              "      background-color: #E8F0FE;\n",
              "      border: none;\n",
              "      border-radius: 50%;\n",
              "      cursor: pointer;\n",
              "      display: none;\n",
              "      fill: #1967D2;\n",
              "      height: 32px;\n",
              "      padding: 0 0 0 0;\n",
              "      width: 32px;\n",
              "    }\n",
              "\n",
              "    .colab-df-convert:hover {\n",
              "      background-color: #E2EBFA;\n",
              "      box-shadow: 0px 1px 2px rgba(60, 64, 67, 0.3), 0px 1px 3px 1px rgba(60, 64, 67, 0.15);\n",
              "      fill: #174EA6;\n",
              "    }\n",
              "\n",
              "    [theme=dark] .colab-df-convert {\n",
              "      background-color: #3B4455;\n",
              "      fill: #D2E3FC;\n",
              "    }\n",
              "\n",
              "    [theme=dark] .colab-df-convert:hover {\n",
              "      background-color: #434B5C;\n",
              "      box-shadow: 0px 1px 3px 1px rgba(0, 0, 0, 0.15);\n",
              "      filter: drop-shadow(0px 1px 2px rgba(0, 0, 0, 0.3));\n",
              "      fill: #FFFFFF;\n",
              "    }\n",
              "  </style>\n",
              "\n",
              "      <script>\n",
              "        const buttonEl =\n",
              "          document.querySelector('#df-9ebd4b35-1971-4e92-8f2a-8f21cfb75bc2 button.colab-df-convert');\n",
              "        buttonEl.style.display =\n",
              "          google.colab.kernel.accessAllowed ? 'block' : 'none';\n",
              "\n",
              "        async function convertToInteractive(key) {\n",
              "          const element = document.querySelector('#df-9ebd4b35-1971-4e92-8f2a-8f21cfb75bc2');\n",
              "          const dataTable =\n",
              "            await google.colab.kernel.invokeFunction('convertToInteractive',\n",
              "                                                     [key], {});\n",
              "          if (!dataTable) return;\n",
              "\n",
              "          const docLinkHtml = 'Like what you see? Visit the ' +\n",
              "            '<a target=\"_blank\" href=https://colab.research.google.com/notebooks/data_table.ipynb>data table notebook</a>'\n",
              "            + ' to learn more about interactive tables.';\n",
              "          element.innerHTML = '';\n",
              "          dataTable['output_type'] = 'display_data';\n",
              "          await google.colab.output.renderOutput(dataTable, element);\n",
              "          const docLink = document.createElement('div');\n",
              "          docLink.innerHTML = docLinkHtml;\n",
              "          element.appendChild(docLink);\n",
              "        }\n",
              "      </script>\n",
              "    </div>\n",
              "  </div>\n",
              "  "
            ]
          },
          "metadata": {},
          "execution_count": 15
        }
      ]
    },
    {
      "cell_type": "code",
      "source": [
        "test_data"
      ],
      "metadata": {
        "colab": {
          "base_uri": "https://localhost:8080/",
          "height": 424
        },
        "id": "iyyO075Gl8GJ",
        "outputId": "d3053ddf-b302-498c-d36f-8707a11cf7ce"
      },
      "execution_count": null,
      "outputs": [
        {
          "output_type": "execute_result",
          "data": {
            "text/plain": [
              "                                               headline           categories  \\\n",
              "0     التخلف باقي فالمجتمع  البخور وهياكل الموتى و ب...  ('جورنالات بلادي',)   \n",
              "1     ف زمان كورونا  كونصير د الروك تدار ف برشلونة ح...    ('ميديا وثقافة',)   \n",
              "2                     كيم كارداشيان تعرات عاوتاني  صور           ('تبركيك',)   \n",
              "3     نقابتا الاتحاد والفيدرالية دخلو صحاح فوزارة أن...         ('آش واقع',)   \n",
              "4     ادارية الرباط لشركة صوماجيك فطنجة  ممنوع من هن...         ('آش واقع',)   \n",
              "...                                                 ...                  ...   \n",
              "4109  مزاد علني فيه رسائل مارسيل بروست فشل  رسالة مد...    ('ميديا وثقافة',)   \n",
              "4110  سكوب  صافي كلشي توقع  صفقة القرن اللي دارها مو...          ('تبركيك',)   \n",
              "4111  الكسال اللي شرمل هولندية بفاس مولوع بمؤخرات ال...          ('تبركيك',)   \n",
              "4112  بنكيران يصارع لتقليص لائحة قيادي الحزب المعتذر...         ('آش واقع',)   \n",
              "4113  صحف  فضيحة تعشير السيارات بالناظور أمام جنايات...         ('آش واقع',)   \n",
              "\n",
              "      label  \n",
              "0         0  \n",
              "1         5  \n",
              "2         2  \n",
              "3         4  \n",
              "4         4  \n",
              "...     ...  \n",
              "4109      5  \n",
              "4110      2  \n",
              "4111      2  \n",
              "4112      4  \n",
              "4113      4  \n",
              "\n",
              "[4114 rows x 3 columns]"
            ],
            "text/html": [
              "\n",
              "  <div id=\"df-f67dd5b9-5417-420b-92e3-afcc65bce835\">\n",
              "    <div class=\"colab-df-container\">\n",
              "      <div>\n",
              "<style scoped>\n",
              "    .dataframe tbody tr th:only-of-type {\n",
              "        vertical-align: middle;\n",
              "    }\n",
              "\n",
              "    .dataframe tbody tr th {\n",
              "        vertical-align: top;\n",
              "    }\n",
              "\n",
              "    .dataframe thead th {\n",
              "        text-align: right;\n",
              "    }\n",
              "</style>\n",
              "<table border=\"1\" class=\"dataframe\">\n",
              "  <thead>\n",
              "    <tr style=\"text-align: right;\">\n",
              "      <th></th>\n",
              "      <th>headline</th>\n",
              "      <th>categories</th>\n",
              "      <th>label</th>\n",
              "    </tr>\n",
              "  </thead>\n",
              "  <tbody>\n",
              "    <tr>\n",
              "      <th>0</th>\n",
              "      <td>التخلف باقي فالمجتمع  البخور وهياكل الموتى و ب...</td>\n",
              "      <td>('جورنالات بلادي',)</td>\n",
              "      <td>0</td>\n",
              "    </tr>\n",
              "    <tr>\n",
              "      <th>1</th>\n",
              "      <td>ف زمان كورونا  كونصير د الروك تدار ف برشلونة ح...</td>\n",
              "      <td>('ميديا وثقافة',)</td>\n",
              "      <td>5</td>\n",
              "    </tr>\n",
              "    <tr>\n",
              "      <th>2</th>\n",
              "      <td>كيم كارداشيان تعرات عاوتاني  صور</td>\n",
              "      <td>('تبركيك',)</td>\n",
              "      <td>2</td>\n",
              "    </tr>\n",
              "    <tr>\n",
              "      <th>3</th>\n",
              "      <td>نقابتا الاتحاد والفيدرالية دخلو صحاح فوزارة أن...</td>\n",
              "      <td>('آش واقع',)</td>\n",
              "      <td>4</td>\n",
              "    </tr>\n",
              "    <tr>\n",
              "      <th>4</th>\n",
              "      <td>ادارية الرباط لشركة صوماجيك فطنجة  ممنوع من هن...</td>\n",
              "      <td>('آش واقع',)</td>\n",
              "      <td>4</td>\n",
              "    </tr>\n",
              "    <tr>\n",
              "      <th>...</th>\n",
              "      <td>...</td>\n",
              "      <td>...</td>\n",
              "      <td>...</td>\n",
              "    </tr>\n",
              "    <tr>\n",
              "      <th>4109</th>\n",
              "      <td>مزاد علني فيه رسائل مارسيل بروست فشل  رسالة مد...</td>\n",
              "      <td>('ميديا وثقافة',)</td>\n",
              "      <td>5</td>\n",
              "    </tr>\n",
              "    <tr>\n",
              "      <th>4110</th>\n",
              "      <td>سكوب  صافي كلشي توقع  صفقة القرن اللي دارها مو...</td>\n",
              "      <td>('تبركيك',)</td>\n",
              "      <td>2</td>\n",
              "    </tr>\n",
              "    <tr>\n",
              "      <th>4111</th>\n",
              "      <td>الكسال اللي شرمل هولندية بفاس مولوع بمؤخرات ال...</td>\n",
              "      <td>('تبركيك',)</td>\n",
              "      <td>2</td>\n",
              "    </tr>\n",
              "    <tr>\n",
              "      <th>4112</th>\n",
              "      <td>بنكيران يصارع لتقليص لائحة قيادي الحزب المعتذر...</td>\n",
              "      <td>('آش واقع',)</td>\n",
              "      <td>4</td>\n",
              "    </tr>\n",
              "    <tr>\n",
              "      <th>4113</th>\n",
              "      <td>صحف  فضيحة تعشير السيارات بالناظور أمام جنايات...</td>\n",
              "      <td>('آش واقع',)</td>\n",
              "      <td>4</td>\n",
              "    </tr>\n",
              "  </tbody>\n",
              "</table>\n",
              "<p>4114 rows × 3 columns</p>\n",
              "</div>\n",
              "      <button class=\"colab-df-convert\" onclick=\"convertToInteractive('df-f67dd5b9-5417-420b-92e3-afcc65bce835')\"\n",
              "              title=\"Convert this dataframe to an interactive table.\"\n",
              "              style=\"display:none;\">\n",
              "        \n",
              "  <svg xmlns=\"http://www.w3.org/2000/svg\" height=\"24px\"viewBox=\"0 0 24 24\"\n",
              "       width=\"24px\">\n",
              "    <path d=\"M0 0h24v24H0V0z\" fill=\"none\"/>\n",
              "    <path d=\"M18.56 5.44l.94 2.06.94-2.06 2.06-.94-2.06-.94-.94-2.06-.94 2.06-2.06.94zm-11 1L8.5 8.5l.94-2.06 2.06-.94-2.06-.94L8.5 2.5l-.94 2.06-2.06.94zm10 10l.94 2.06.94-2.06 2.06-.94-2.06-.94-.94-2.06-.94 2.06-2.06.94z\"/><path d=\"M17.41 7.96l-1.37-1.37c-.4-.4-.92-.59-1.43-.59-.52 0-1.04.2-1.43.59L10.3 9.45l-7.72 7.72c-.78.78-.78 2.05 0 2.83L4 21.41c.39.39.9.59 1.41.59.51 0 1.02-.2 1.41-.59l7.78-7.78 2.81-2.81c.8-.78.8-2.07 0-2.86zM5.41 20L4 18.59l7.72-7.72 1.47 1.35L5.41 20z\"/>\n",
              "  </svg>\n",
              "      </button>\n",
              "      \n",
              "  <style>\n",
              "    .colab-df-container {\n",
              "      display:flex;\n",
              "      flex-wrap:wrap;\n",
              "      gap: 12px;\n",
              "    }\n",
              "\n",
              "    .colab-df-convert {\n",
              "      background-color: #E8F0FE;\n",
              "      border: none;\n",
              "      border-radius: 50%;\n",
              "      cursor: pointer;\n",
              "      display: none;\n",
              "      fill: #1967D2;\n",
              "      height: 32px;\n",
              "      padding: 0 0 0 0;\n",
              "      width: 32px;\n",
              "    }\n",
              "\n",
              "    .colab-df-convert:hover {\n",
              "      background-color: #E2EBFA;\n",
              "      box-shadow: 0px 1px 2px rgba(60, 64, 67, 0.3), 0px 1px 3px 1px rgba(60, 64, 67, 0.15);\n",
              "      fill: #174EA6;\n",
              "    }\n",
              "\n",
              "    [theme=dark] .colab-df-convert {\n",
              "      background-color: #3B4455;\n",
              "      fill: #D2E3FC;\n",
              "    }\n",
              "\n",
              "    [theme=dark] .colab-df-convert:hover {\n",
              "      background-color: #434B5C;\n",
              "      box-shadow: 0px 1px 3px 1px rgba(0, 0, 0, 0.15);\n",
              "      filter: drop-shadow(0px 1px 2px rgba(0, 0, 0, 0.3));\n",
              "      fill: #FFFFFF;\n",
              "    }\n",
              "  </style>\n",
              "\n",
              "      <script>\n",
              "        const buttonEl =\n",
              "          document.querySelector('#df-f67dd5b9-5417-420b-92e3-afcc65bce835 button.colab-df-convert');\n",
              "        buttonEl.style.display =\n",
              "          google.colab.kernel.accessAllowed ? 'block' : 'none';\n",
              "\n",
              "        async function convertToInteractive(key) {\n",
              "          const element = document.querySelector('#df-f67dd5b9-5417-420b-92e3-afcc65bce835');\n",
              "          const dataTable =\n",
              "            await google.colab.kernel.invokeFunction('convertToInteractive',\n",
              "                                                     [key], {});\n",
              "          if (!dataTable) return;\n",
              "\n",
              "          const docLinkHtml = 'Like what you see? Visit the ' +\n",
              "            '<a target=\"_blank\" href=https://colab.research.google.com/notebooks/data_table.ipynb>data table notebook</a>'\n",
              "            + ' to learn more about interactive tables.';\n",
              "          element.innerHTML = '';\n",
              "          dataTable['output_type'] = 'display_data';\n",
              "          await google.colab.output.renderOutput(dataTable, element);\n",
              "          const docLink = document.createElement('div');\n",
              "          docLink.innerHTML = docLinkHtml;\n",
              "          element.appendChild(docLink);\n",
              "        }\n",
              "      </script>\n",
              "    </div>\n",
              "  </div>\n",
              "  "
            ]
          },
          "metadata": {},
          "execution_count": 16
        }
      ]
    },
    {
      "cell_type": "code",
      "source": [
        "# train_headlines, temp_headlines, train_labels, temp_labels = train_test_split(train_data['headline'], train_data['label'], random_state=42, \n",
        "#                                                                     test_size=0.2)\n",
        "\n",
        "# val_headlines, test_headlines, val_labels, test_labels = train_test_split(temp_headlines, temp_labels, random_state=42, \n",
        "#                                                                 test_size=0.5)"
      ],
      "metadata": {
        "id": "R7s5r5wnI2ei"
      },
      "execution_count": null,
      "outputs": []
    },
    {
      "cell_type": "code",
      "source": [
        "train_headlines = train_data[\"headline\"]\n",
        "train_labels = train_data[\"label\"]\n",
        "val_headlines = val_data[\"headline\"]\n",
        "val_labels = val_data[\"label\"]\n",
        "test_headlines = test_data[\"headline\"]\n",
        "test_labels = test_data[\"label\"]"
      ],
      "metadata": {
        "id": "G-6EJbRBmGXH"
      },
      "execution_count": null,
      "outputs": []
    },
    {
      "cell_type": "code",
      "source": [
        "%%capture\n",
        "from transformers import BertTokenizer, AutoModelForSequenceClassification, Trainer, TrainingArguments\n",
        "tokenizer = BertTokenizer.from_pretrained(\"alger-ia/dziribert\")"
      ],
      "metadata": {
        "id": "hgvNOyNMll5n"
      },
      "execution_count": null,
      "outputs": []
    },
    {
      "cell_type": "code",
      "source": [
        "seq_len = [len(tokenizer.encode(i)) for i in train_headlines]\n",
        "\n",
        "pd.Series(seq_len).hist(bins = 30)"
      ],
      "metadata": {
        "colab": {
          "base_uri": "https://localhost:8080/",
          "height": 282
        },
        "id": "56WMCci3sgH1",
        "outputId": "38fbd34e-e863-4916-844a-72704de9a7cb"
      },
      "execution_count": null,
      "outputs": [
        {
          "output_type": "execute_result",
          "data": {
            "text/plain": [
              "<matplotlib.axes._subplots.AxesSubplot at 0x7f58ec45ae90>"
            ]
          },
          "metadata": {},
          "execution_count": 11
        },
        {
          "output_type": "display_data",
          "data": {
            "text/plain": [
              "<Figure size 432x288 with 1 Axes>"
            ],
            "image/png": "[encoded data removed]"
          },
          "metadata": {
            "needs_background": "light"
          }
        }
      ]
    },
    {
      "cell_type": "code",
      "source": [
        "seq_len = [len(tokenizer.encode(i)) for i in val_headlines]\n",
        "\n",
        "pd.Series(seq_len).hist(bins = 30)"
      ],
      "metadata": {
        "colab": {
          "base_uri": "https://localhost:8080/",
          "height": 282
        },
        "id": "DhPMaJpymq8b",
        "outputId": "1669c86f-ae6e-407a-b7c8-61c8c478812b"
      },
      "execution_count": null,
      "outputs": [
        {
          "output_type": "execute_result",
          "data": {
            "text/plain": [
              "<matplotlib.axes._subplots.AxesSubplot at 0x7faaa85b2a50>"
            ]
          },
          "metadata": {},
          "execution_count": 21
        },
        {
          "output_type": "display_data",
          "data": {
            "text/plain": [
              "<Figure size 432x288 with 1 Axes>"
            ],
            "image/png": "[encoded data removed]"
          },
          "metadata": {
            "needs_background": "light"
          }
        }
      ]
    },
    {
      "cell_type": "code",
      "source": [
        "seq_len = [len(tokenizer.encode(i)) for i in test_headlines]\n",
        "\n",
        "pd.Series(seq_len).hist(bins = 30)"
      ],
      "metadata": {
        "colab": {
          "base_uri": "https://localhost:8080/",
          "height": 282
        },
        "id": "OZLYHgyEmty7",
        "outputId": "4ac9f530-26e1-47dd-cce2-37f5bb7e9b83"
      },
      "execution_count": null,
      "outputs": [
        {
          "output_type": "execute_result",
          "data": {
            "text/plain": [
              "<matplotlib.axes._subplots.AxesSubplot at 0x7faaa8494a50>"
            ]
          },
          "metadata": {},
          "execution_count": 22
        },
        {
          "output_type": "display_data",
          "data": {
            "text/plain": [
              "<Figure size 432x288 with 1 Axes>"
            ],
            "image/png": "[encoded data removed]"
          },
          "metadata": {
            "needs_background": "light"
          }
        }
      ]
    },
    {
      "cell_type": "code",
      "source": [
        "max_seq_len = 40\n",
        "\n",
        "train_encodings = tokenizer(train_headlines.to_list(), truncation=True, padding=True, max_length=max_seq_len)\n",
        "val_encodings = tokenizer(val_headlines.to_list(), truncation=True, padding=True, max_length=max_seq_len)\n",
        "test_encodings = tokenizer(test_headlines.to_list(), truncation=True, padding=True, max_length=max_seq_len)"
      ],
      "metadata": {
        "id": "ORh08qVeiBC8"
      },
      "execution_count": null,
      "outputs": []
    },
    {
      "cell_type": "code",
      "source": [
        "class ArticleDataset(Dataset):\n",
        "    def __init__(self, encodings, labels):\n",
        "        self.encodings = encodings\n",
        "        self.labels = labels.to_list()\n",
        "\n",
        "    def __getitem__(self, idx):\n",
        "        item = {key: torch.tensor(val[idx]) for key, val in self.encodings.items()}\n",
        "        item['labels'] = torch.tensor(self.labels[idx])\n",
        "        return item\n",
        "\n",
        "    def __len__(self):\n",
        "        return len(self.labels)\n",
        "\n",
        "train_dataset = ArticleDataset(train_encodings, train_labels)\n",
        "val_dataset = ArticleDataset(val_encodings, val_labels)\n",
        "test_dataset = ArticleDataset(test_encodings, test_labels)"
      ],
      "metadata": {
        "id": "8oBhml2dpDyB"
      },
      "execution_count": null,
      "outputs": []
    },
    {
      "cell_type": "code",
      "source": [
        "from sklearn.metrics import precision_recall_fscore_support, accuracy_score\n",
        "\n",
        "def compute_metrics(pred):\n",
        "    labels = pred.label_ids\n",
        "    preds = pred.predictions.argmax(-1)\n",
        "    precision, recall, f1, _ = precision_recall_fscore_support(labels, preds, average='weighted')\n",
        "    acc = accuracy_score(labels, preds)\n",
        "    return {\n",
        "        'accuracy': acc,\n",
        "        'f1': f1,\n",
        "        'precision': precision,\n",
        "        'recall': recall\n",
        "    }"
      ],
      "metadata": {
        "id": "C5QvKpDkpcfQ"
      },
      "execution_count": null,
      "outputs": []
    },
    {
      "cell_type": "code",
      "source": [
        "%%capture\n",
        "model = AutoModelForSequenceClassification.from_pretrained(\"alger-ia/dziribert\", num_labels=7)"
      ],
      "metadata": {
        "id": "ugosYXuce1ZZ"
      },
      "execution_count": null,
      "outputs": []
    },
    {
      "cell_type": "code",
      "source": [
        "training_args = TrainingArguments(\n",
        "    output_dir='drive/MyDrive/Internship/code/results',          # output directory\n",
        "    num_train_epochs=5,              # total number of training epochs\n",
        "    per_device_train_batch_size=32,  # batch size per device during training\n",
        "    per_device_eval_batch_size=64,   # batch size for evaluation\n",
        "    warmup_steps=500,                # number of warmup steps for learning rate scheduler\n",
        "    weight_decay=0.01,               # strength of weight decay\n",
        "    evaluation_strategy='epoch',     # evaluate at the end of each epoch\n",
        "    logging_strategy='epoch',        # log at the end of each epoch\n",
        "    save_strategy='epoch', \n",
        "    overwrite_output_dir=True,\n",
        "    save_total_limit=3,\n",
        "    seed=42,\n",
        "    data_seed=42\n",
        "    )\n",
        "\n",
        "trainer = Trainer(\n",
        "    model=model,                         # the instantiated Transformers model \n",
        "    args=training_args,                  # training arguments\n",
        "    train_dataset=train_dataset,         # training dataset\n",
        "    eval_dataset=val_dataset,            # evaluation dataset\n",
        "    compute_metrics=compute_metrics      # method we defined before to compute our metrics\n",
        "    )"
      ],
      "metadata": {
        "id": "ZJMRyvQWfsg2"
      },
      "execution_count": null,
      "outputs": []
    },
    {
      "cell_type": "code",
      "source": [
        "trainer.train()"
      ],
      "metadata": {
        "colab": {
          "base_uri": "https://localhost:8080/",
          "height": 304
        },
        "id": "vvqfLDnDFSDn",
        "outputId": "1f90a0b2-264f-4c36-f1c8-9348c8432154"
      },
      "execution_count": null,
      "outputs": [
        {
          "output_type": "stream",
          "name": "stderr",
          "text": [
            "/usr/local/lib/python3.7/dist-packages/transformers/optimization.py:310: FutureWarning: This implementation of AdamW is deprecated and will be removed in a future version. Use the PyTorch implementation torch.optim.AdamW instead, or set `no_deprecation_warning=True` to disable this warning\n",
            "  FutureWarning,\n"
          ]
        },
        {
          "output_type": "display_data",
          "data": {
            "text/plain": [
              "<IPython.core.display.HTML object>"
            ],
            "text/html": [
              "\n",
              "    <div>\n",
              "      \n",
              "      <progress value='9690' max='9690' style='width:300px; height:20px; vertical-align: middle;'></progress>\n",
              "      [9690/9690 39:56, Epoch 5/5]\n",
              "    </div>\n",
              "    <table border=\"1\" class=\"dataframe\">\n",
              "  <thead>\n",
              " <tr style=\"text-align: left;\">\n",
              "      <th>Epoch</th>\n",
              "      <th>Training Loss</th>\n",
              "      <th>Validation Loss</th>\n",
              "      <th>Accuracy</th>\n",
              "      <th>F1</th>\n",
              "      <th>Precision</th>\n",
              "      <th>Recall</th>\n",
              "    </tr>\n",
              "  </thead>\n",
              "  <tbody>\n",
              "    <tr>\n",
              "      <td>1</td>\n",
              "      <td>0.915200</td>\n",
              "      <td>0.787840</td>\n",
              "      <td>0.713319</td>\n",
              "      <td>0.716403</td>\n",
              "      <td>0.734521</td>\n",
              "      <td>0.713319</td>\n",
              "    </tr>\n",
              "    <tr>\n",
              "      <td>2</td>\n",
              "      <td>0.508600</td>\n",
              "      <td>0.742898</td>\n",
              "      <td>0.752961</td>\n",
              "      <td>0.753576</td>\n",
              "      <td>0.759130</td>\n",
              "      <td>0.752961</td>\n",
              "    </tr>\n",
              "    <tr>\n",
              "      <td>3</td>\n",
              "      <td>0.253800</td>\n",
              "      <td>0.950395</td>\n",
              "      <td>0.742325</td>\n",
              "      <td>0.742393</td>\n",
              "      <td>0.746392</td>\n",
              "      <td>0.742325</td>\n",
              "    </tr>\n",
              "    <tr>\n",
              "      <td>4</td>\n",
              "      <td>0.115700</td>\n",
              "      <td>1.304990</td>\n",
              "      <td>0.743051</td>\n",
              "      <td>0.744536</td>\n",
              "      <td>0.750071</td>\n",
              "      <td>0.743051</td>\n",
              "    </tr>\n",
              "    <tr>\n",
              "      <td>5</td>\n",
              "      <td>0.053600</td>\n",
              "      <td>1.592001</td>\n",
              "      <td>0.741842</td>\n",
              "      <td>0.742857</td>\n",
              "      <td>0.744617</td>\n",
              "      <td>0.741842</td>\n",
              "    </tr>\n",
              "  </tbody>\n",
              "</table><p>"
            ]
          },
          "metadata": {}
        },
        {
          "output_type": "execute_result",
          "data": {
            "text/plain": [
              "TrainOutput(global_step=9690, training_loss=0.3693789927952061, metrics={'train_runtime': 2396.7184, 'train_samples_per_second': 129.364, 'train_steps_per_second': 4.043, 'total_flos': 6373534763700000.0, 'train_loss': 0.3693789927952061, 'epoch': 5.0})"
            ]
          },
          "metadata": {},
          "execution_count": 22
        }
      ]
    },
    {
      "cell_type": "code",
      "source": [
        "trainer.predict(test_dataset)"
      ],
      "metadata": {
        "id": "bN7Tk3Sa8rRP",
        "colab": {
          "base_uri": "https://localhost:8080/",
          "height": 283
        },
        "outputId": "9f765b4f-4da1-4bf7-af42-4261fadc303f"
      },
      "execution_count": null,
      "outputs": [
        {
          "output_type": "display_data",
          "data": {
            "text/plain": [
              "<IPython.core.display.HTML object>"
            ],
            "text/html": [
              "\n",
              "    <div>\n",
              "      \n",
              "      <progress value='65' max='65' style='width:300px; height:20px; vertical-align: middle;'></progress>\n",
              "      [65/65 00:08]\n",
              "    </div>\n",
              "    "
            ]
          },
          "metadata": {}
        },
        {
          "output_type": "execute_result",
          "data": {
            "text/plain": [
              "PredictionOutput(predictions=array([[-1.7511408 , -2.4505832 ,  3.4821837 , ..., -3.2551453 ,\n",
              "        -2.0647352 ,  1.7855119 ],\n",
              "       [-1.0815303 ,  8.870548  , -0.07889107, ..., -2.149632  ,\n",
              "        -1.1173731 , -1.1959081 ],\n",
              "       [-1.9170223 , -2.0835552 ,  3.3546128 , ..., -2.3674176 ,\n",
              "        -2.577556  ,  7.200263  ],\n",
              "       ...,\n",
              "       [-0.8427382 , -2.4663656 ,  8.561737  , ..., -1.1256523 ,\n",
              "        -2.1695511 , -0.5709449 ],\n",
              "       [-1.1644509 , -3.050019  ,  0.8338021 , ...,  8.276635  ,\n",
              "        -1.5010003 , -2.699832  ],\n",
              "       [ 6.806804  , -1.8117362 , -2.690828  , ...,  3.5064845 ,\n",
              "        -1.4561876 , -2.8914368 ]], dtype=float32), label_ids=array([0, 5, 2, ..., 2, 4, 4]), metrics={'test_loss': 1.606921672821045, 'test_accuracy': 0.7372386971317453, 'test_f1': 0.7373940795340236, 'test_precision': 0.7381104893716302, 'test_recall': 0.7372386971317453, 'test_runtime': 8.5361, 'test_samples_per_second': 481.952, 'test_steps_per_second': 7.615})"
            ]
          },
          "metadata": {},
          "execution_count": 23
        }
      ]
    }
  ]
}