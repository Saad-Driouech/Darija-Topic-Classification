{
  "cells": [
    {
      "cell_type": "code",
      "source": [
        "from google.colab import drive\n",
        "drive.mount('drive')"
      ],
      "metadata": {
        "id": "UpwowJFzH8Lj",
        "colab": {
          "base_uri": "https://localhost:8080/"
        },
        "outputId": "fb392bf0-e185-4087-d35c-5cf69f20006c"
      },
      "id": "UpwowJFzH8Lj",
      "execution_count": 1,
      "outputs": [
        {
          "output_type": "stream",
          "name": "stdout",
          "text": [
            "Mounted at drive\n"
          ]
        }
      ]
    },
    {
      "cell_type": "code",
      "source": [
        "%%capture\n",
        "!pip install pyarabic\n",
        "!pip install camel-tools"
      ],
      "metadata": {
        "id": "cSP3NFf94xoD"
      },
      "id": "cSP3NFf94xoD",
      "execution_count": 2,
      "outputs": []
    },
    {
      "cell_type": "code",
      "execution_count": 1,
      "id": "da21350a",
      "metadata": {
        "id": "da21350a"
      },
      "outputs": [],
      "source": [
        "import pandas as pd \n",
        "import re\n",
        "import os\n",
        "import collections\n",
        "import pyarabic.araby as araby\n",
        "import pyarabic.number as number"
      ]
    },
    {
      "cell_type": "code",
      "execution_count": 2,
      "id": "de5df35f",
      "metadata": {
        "id": "de5df35f"
      },
      "outputs": [],
      "source": [
        "# train data\n",
        "# data = pd.read_csv(\"drive/MyDrive/Internship/datasets/Goud/train.csv\")\n",
        "\n",
        "# validation data\n",
        "# data = pd.read_csv(\"drive/MyDrive/Internship/datasets/Goud/validation.csv\")\n",
        "\n",
        "# test data\n",
        "data = pd.read_csv(\"drive/MyDrive/Internship/datasets/Goud/test.csv\")"
      ]
    },
    {
      "cell_type": "code",
      "source": [
        "data"
      ],
      "metadata": {
        "colab": {
          "base_uri": "https://localhost:8080/",
          "height": 424
        },
        "id": "Y7h16SB_W-2t",
        "outputId": "7c05983c-4e83-44f9-a388-16572bb5dd31"
      },
      "id": "Y7h16SB_W-2t",
      "execution_count": 3,
      "outputs": [
        {
          "output_type": "execute_result",
          "data": {
            "text/plain": [
              "                                                article  \\\n",
              "0     لم تمنع ظروف انتشار فيروس كورونا وإقرار الدرا...   \n",
              "1     تغطي سماء المغرب، هذه الأيام، سحب كثيفة غريبة...   \n",
              "2     شهدت برشلونة الإسبانية، السبت، حفلا فنيا لموس...   \n",
              "3     تقول عائلة المشتبه فيه بشن هجوم نيس الخميس اب...   \n",
              "4     افاد شهود عيان ل”كود” ان وكالة بنكية تابعة للش...   \n",
              "...                                                 ...   \n",
              "9492  كود : يونس أفطيط قالت مصادر أمنية ل”كود” أن...   \n",
              "9493  قالت تقارير اخبارية، أن “لاگوارديا سيبيل” اعت...   \n",
              "9494  علمت “كود” من مصدر مطلع أن عدد من أعضاء الأ...   \n",
              "9495  وقفت “كود” خلال جولتها الصحافية ليومه الخميس ،...   \n",
              "9496  تلقى العميد طارق العجيز، مدير ادارة البحث الجن...   \n",
              "\n",
              "                                               headline  \\\n",
              "0     روبورطاج.. البياتة بالليل على برا شكل احتجاجي ...   \n",
              "1     التخلف باقي فالمجتمع.. البخور وهياكل الموتى و”...   \n",
              "2     ف زمان كورونا.. كونصير د الروك تدار ف برشلونة ...   \n",
              "3     معطيات جديدة على الداعشي التونسي للي دبح 3 فكن...   \n",
              "4     عاجل. ملثمون يهجمون على وكالة بنكية عاود ثاني ...   \n",
              "...                                                 ...   \n",
              "9492  إعتقال مجرم إعتدى على شخص وتسبب له في عاهة مست...   \n",
              "9493  سبتة.. “لاگوارديا سيبيل” شدو 3 ديال الصيادين م...   \n",
              "9494  بنكيران يصارع لتقليص لائحة قيادي الحزب المعتذر...   \n",
              "9495  صحف. فضيحة تعشير السيارات بالناظور أمام جنايات...   \n",
              "9496  ضبط سائح مغربي يتاجر في الآثار بالوادي الجديد ...   \n",
              "\n",
              "                                    categories  \n",
              "0                      ['آش واقع', 'الرئيسية']  \n",
              "1               ['الرئيسية', 'جورنالات بلادي']  \n",
              "2     ['الرئيسية', 'كود-تيفي', 'ميديا وثقافة']  \n",
              "3                      ['آش واقع', 'الرئيسية']  \n",
              "4                      ['آش واقع', 'الرئيسية']  \n",
              "...                                        ...  \n",
              "9492                               ['آش واقع']  \n",
              "9493                   ['آش واقع', 'الرئيسية']  \n",
              "9494                               ['آش واقع']  \n",
              "9495                               ['آش واقع']  \n",
              "9496                               ['آش واقع']  \n",
              "\n",
              "[9497 rows x 3 columns]"
            ],
            "text/html": [
              "\n",
              "  <div id=\"df-396bd44d-a91b-402f-981b-766c11fb7b3e\">\n",
              "    <div class=\"colab-df-container\">\n",
              "      <div>\n",
              "<style scoped>\n",
              "    .dataframe tbody tr th:only-of-type {\n",
              "        vertical-align: middle;\n",
              "    }\n",
              "\n",
              "    .dataframe tbody tr th {\n",
              "        vertical-align: top;\n",
              "    }\n",
              "\n",
              "    .dataframe thead th {\n",
              "        text-align: right;\n",
              "    }\n",
              "</style>\n",
              "<table border=\"1\" class=\"dataframe\">\n",
              "  <thead>\n",
              "    <tr style=\"text-align: right;\">\n",
              "      <th></th>\n",
              "      <th>article</th>\n",
              "      <th>headline</th>\n",
              "      <th>categories</th>\n",
              "    </tr>\n",
              "  </thead>\n",
              "  <tbody>\n",
              "    <tr>\n",
              "      <th>0</th>\n",
              "      <td>لم تمنع ظروف انتشار فيروس كورونا وإقرار الدرا...</td>\n",
              "      <td>روبورطاج.. البياتة بالليل على برا شكل احتجاجي ...</td>\n",
              "      <td>['آش واقع', 'الرئيسية']</td>\n",
              "    </tr>\n",
              "    <tr>\n",
              "      <th>1</th>\n",
              "      <td>تغطي سماء المغرب، هذه الأيام، سحب كثيفة غريبة...</td>\n",
              "      <td>التخلف باقي فالمجتمع.. البخور وهياكل الموتى و”...</td>\n",
              "      <td>['الرئيسية', 'جورنالات بلادي']</td>\n",
              "    </tr>\n",
              "    <tr>\n",
              "      <th>2</th>\n",
              "      <td>شهدت برشلونة الإسبانية، السبت، حفلا فنيا لموس...</td>\n",
              "      <td>ف زمان كورونا.. كونصير د الروك تدار ف برشلونة ...</td>\n",
              "      <td>['الرئيسية', 'كود-تيفي', 'ميديا وثقافة']</td>\n",
              "    </tr>\n",
              "    <tr>\n",
              "      <th>3</th>\n",
              "      <td>تقول عائلة المشتبه فيه بشن هجوم نيس الخميس اب...</td>\n",
              "      <td>معطيات جديدة على الداعشي التونسي للي دبح 3 فكن...</td>\n",
              "      <td>['آش واقع', 'الرئيسية']</td>\n",
              "    </tr>\n",
              "    <tr>\n",
              "      <th>4</th>\n",
              "      <td>افاد شهود عيان ل”كود” ان وكالة بنكية تابعة للش...</td>\n",
              "      <td>عاجل. ملثمون يهجمون على وكالة بنكية عاود ثاني ...</td>\n",
              "      <td>['آش واقع', 'الرئيسية']</td>\n",
              "    </tr>\n",
              "    <tr>\n",
              "      <th>...</th>\n",
              "      <td>...</td>\n",
              "      <td>...</td>\n",
              "      <td>...</td>\n",
              "    </tr>\n",
              "    <tr>\n",
              "      <th>9492</th>\n",
              "      <td>كود : يونس أفطيط قالت مصادر أمنية ل”كود” أن...</td>\n",
              "      <td>إعتقال مجرم إعتدى على شخص وتسبب له في عاهة مست...</td>\n",
              "      <td>['آش واقع']</td>\n",
              "    </tr>\n",
              "    <tr>\n",
              "      <th>9493</th>\n",
              "      <td>قالت تقارير اخبارية، أن “لاگوارديا سيبيل” اعت...</td>\n",
              "      <td>سبتة.. “لاگوارديا سيبيل” شدو 3 ديال الصيادين م...</td>\n",
              "      <td>['آش واقع', 'الرئيسية']</td>\n",
              "    </tr>\n",
              "    <tr>\n",
              "      <th>9494</th>\n",
              "      <td>علمت “كود” من مصدر مطلع أن عدد من أعضاء الأ...</td>\n",
              "      <td>بنكيران يصارع لتقليص لائحة قيادي الحزب المعتذر...</td>\n",
              "      <td>['آش واقع']</td>\n",
              "    </tr>\n",
              "    <tr>\n",
              "      <th>9495</th>\n",
              "      <td>وقفت “كود” خلال جولتها الصحافية ليومه الخميس ،...</td>\n",
              "      <td>صحف. فضيحة تعشير السيارات بالناظور أمام جنايات...</td>\n",
              "      <td>['آش واقع']</td>\n",
              "    </tr>\n",
              "    <tr>\n",
              "      <th>9496</th>\n",
              "      <td>تلقى العميد طارق العجيز، مدير ادارة البحث الجن...</td>\n",
              "      <td>ضبط سائح مغربي يتاجر في الآثار بالوادي الجديد ...</td>\n",
              "      <td>['آش واقع']</td>\n",
              "    </tr>\n",
              "  </tbody>\n",
              "</table>\n",
              "<p>9497 rows × 3 columns</p>\n",
              "</div>\n",
              "      <button class=\"colab-df-convert\" onclick=\"convertToInteractive('df-396bd44d-a91b-402f-981b-766c11fb7b3e')\"\n",
              "              title=\"Convert this dataframe to an interactive table.\"\n",
              "              style=\"display:none;\">\n",
              "        \n",
              "  <svg xmlns=\"http://www.w3.org/2000/svg\" height=\"24px\"viewBox=\"0 0 24 24\"\n",
              "       width=\"24px\">\n",
              "    <path d=\"M0 0h24v24H0V0z\" fill=\"none\"/>\n",
              "    <path d=\"M18.56 5.44l.94 2.06.94-2.06 2.06-.94-2.06-.94-.94-2.06-.94 2.06-2.06.94zm-11 1L8.5 8.5l.94-2.06 2.06-.94-2.06-.94L8.5 2.5l-.94 2.06-2.06.94zm10 10l.94 2.06.94-2.06 2.06-.94-2.06-.94-.94-2.06-.94 2.06-2.06.94z\"/><path d=\"M17.41 7.96l-1.37-1.37c-.4-.4-.92-.59-1.43-.59-.52 0-1.04.2-1.43.59L10.3 9.45l-7.72 7.72c-.78.78-.78 2.05 0 2.83L4 21.41c.39.39.9.59 1.41.59.51 0 1.02-.2 1.41-.59l7.78-7.78 2.81-2.81c.8-.78.8-2.07 0-2.86zM5.41 20L4 18.59l7.72-7.72 1.47 1.35L5.41 20z\"/>\n",
              "  </svg>\n",
              "      </button>\n",
              "      \n",
              "  <style>\n",
              "    .colab-df-container {\n",
              "      display:flex;\n",
              "      flex-wrap:wrap;\n",
              "      gap: 12px;\n",
              "    }\n",
              "\n",
              "    .colab-df-convert {\n",
              "      background-color: #E8F0FE;\n",
              "      border: none;\n",
              "      border-radius: 50%;\n",
              "      cursor: pointer;\n",
              "      display: none;\n",
              "      fill: #1967D2;\n",
              "      height: 32px;\n",
              "      padding: 0 0 0 0;\n",
              "      width: 32px;\n",
              "    }\n",
              "\n",
              "    .colab-df-convert:hover {\n",
              "      background-color: #E2EBFA;\n",
              "      box-shadow: 0px 1px 2px rgba(60, 64, 67, 0.3), 0px 1px 3px 1px rgba(60, 64, 67, 0.15);\n",
              "      fill: #174EA6;\n",
              "    }\n",
              "\n",
              "    [theme=dark] .colab-df-convert {\n",
              "      background-color: #3B4455;\n",
              "      fill: #D2E3FC;\n",
              "    }\n",
              "\n",
              "    [theme=dark] .colab-df-convert:hover {\n",
              "      background-color: #434B5C;\n",
              "      box-shadow: 0px 1px 3px 1px rgba(0, 0, 0, 0.15);\n",
              "      filter: drop-shadow(0px 1px 2px rgba(0, 0, 0, 0.3));\n",
              "      fill: #FFFFFF;\n",
              "    }\n",
              "  </style>\n",
              "\n",
              "      <script>\n",
              "        const buttonEl =\n",
              "          document.querySelector('#df-396bd44d-a91b-402f-981b-766c11fb7b3e button.colab-df-convert');\n",
              "        buttonEl.style.display =\n",
              "          google.colab.kernel.accessAllowed ? 'block' : 'none';\n",
              "\n",
              "        async function convertToInteractive(key) {\n",
              "          const element = document.querySelector('#df-396bd44d-a91b-402f-981b-766c11fb7b3e');\n",
              "          const dataTable =\n",
              "            await google.colab.kernel.invokeFunction('convertToInteractive',\n",
              "                                                     [key], {});\n",
              "          if (!dataTable) return;\n",
              "\n",
              "          const docLinkHtml = 'Like what you see? Visit the ' +\n",
              "            '<a target=\"_blank\" href=https://colab.research.google.com/notebooks/data_table.ipynb>data table notebook</a>'\n",
              "            + ' to learn more about interactive tables.';\n",
              "          element.innerHTML = '';\n",
              "          dataTable['output_type'] = 'display_data';\n",
              "          await google.colab.output.renderOutput(dataTable, element);\n",
              "          const docLink = document.createElement('div');\n",
              "          docLink.innerHTML = docLinkHtml;\n",
              "          element.appendChild(docLink);\n",
              "        }\n",
              "      </script>\n",
              "    </div>\n",
              "  </div>\n",
              "  "
            ]
          },
          "metadata": {},
          "execution_count": 3
        }
      ]
    },
    {
      "cell_type": "code",
      "source": [
        "data.drop('article', axis=1, inplace=True)"
      ],
      "metadata": {
        "id": "tlMXOPxAumWM"
      },
      "id": "tlMXOPxAumWM",
      "execution_count": 4,
      "outputs": []
    },
    {
      "cell_type": "code",
      "source": [
        "# pd.set_option('display.max_rows', None)"
      ],
      "metadata": {
        "id": "frl7EaDhnQGt"
      },
      "id": "frl7EaDhnQGt",
      "execution_count": null,
      "outputs": []
    },
    {
      "cell_type": "code",
      "source": [
        "def str2tuple(categs):\n",
        "  return tuple(re.sub(r'[\\[\\]\\']', '', categs).split(\", \"))"
      ],
      "metadata": {
        "id": "jnlxeZxiaTEV"
      },
      "id": "jnlxeZxiaTEV",
      "execution_count": 5,
      "outputs": []
    },
    {
      "cell_type": "code",
      "execution_count": null,
      "id": "0fcdbc39",
      "metadata": {
        "id": "0fcdbc39"
      },
      "outputs": [],
      "source": [
        "# def stats_categories(data):\n",
        "#   counts_multi = dict()\n",
        "#   counts_single = dict()\n",
        "#   number_rows_multi = 0\n",
        "#   number_rows_single = 0\n",
        "#   for index, row in data.iterrows():\n",
        "#     if isinstance(row[\"categories\"], str):\n",
        "#       categs = re.sub(r'[\\[\\]\\']', '', row[\"categories\"]).split(\", \")\n",
        "#     else:\n",
        "#       categs = row[\"categories\"]\n",
        "#     if len(categs) > 1:\n",
        "#         number_rows_multi += 1\n",
        "#         for categ in categs:\n",
        "#             if categ in counts_multi:\n",
        "#                 counts_multi[categ] += 1\n",
        "#             else:\n",
        "#                 counts_multi[categ] = 1\n",
        "#     else:\n",
        "#         number_rows_single += 1\n",
        "#         if categs[0] in counts_single:\n",
        "#             counts_single[categs[0]] += 1\n",
        "#         else:\n",
        "#             counts_single[categs[0]] = 1\n",
        "\n",
        "#   print(\"number of rows containing only one category: \", number_rows_single)\n",
        "\n",
        "#   print(\"\\n\\nfrequency of single categories\")\n",
        "#   for word in counts_single:\n",
        "#     print(word + \" \" + str(counts_single[word]))\n",
        "  \n",
        "#   print(\"\\n\\nnumber of rows containing more than one category: \", number_rows_multi)\n",
        "\n",
        "#   print(\"\\n\\nfrequency of multi categories\")\n",
        "#   for word in counts_multi:\n",
        "#     print(word + \" \" + str(counts_multi[word]))"
      ]
    },
    {
      "cell_type": "code",
      "execution_count": 6,
      "id": "19242575",
      "metadata": {
        "id": "19242575"
      },
      "outputs": [],
      "source": [
        "def ignore_categ(categs, ignoring):\n",
        "  if len(categs) > 1 and ignoring in categs:\n",
        "    categs_list = list(categs)\n",
        "    categs_list.remove(ignoring)\n",
        "    categs = tuple(categs_list)\n",
        "  return categs"
      ]
    },
    {
      "cell_type": "code",
      "source": [
        "data[\"categories\"] = data[\"categories\"].apply(str2tuple)"
      ],
      "metadata": {
        "id": "9_cFOQ-SjX3j"
      },
      "id": "9_cFOQ-SjX3j",
      "execution_count": 7,
      "outputs": []
    },
    {
      "cell_type": "code",
      "source": [
        "data[\"categories\"].value_counts(sort=True)"
      ],
      "metadata": {
        "id": "HDCV7IBSagau",
        "colab": {
          "base_uri": "https://localhost:8080/"
        },
        "outputId": "2392cbd5-93f8-4386-d396-eccb1de36c96"
      },
      "id": "HDCV7IBSagau",
      "execution_count": null,
      "outputs": [
        {
          "output_type": "execute_result",
          "data": {
            "text/plain": [
              "(آش واقع, الرئيسية)                         3282\n",
              "(آش واقع,)                                  2388\n",
              "(الرئيسية, تبركيك)                           850\n",
              "(الرئيسية, كود سبور)                         584\n",
              "(آراء, الرئيسية)                             361\n",
              "(الرئيسية, كود-تيفي)                         289\n",
              "(الرئيسية, الزين والحداكة)                   263\n",
              "(الرئيسية, جورنالات بلادي)                   242\n",
              "(الرئيسية, ميديا وثقافة)                     221\n",
              "(ميديا وثقافة,)                              194\n",
              "(كود سبور,)                                  176\n",
              "(آراء,)                                      110\n",
              "(الرئيسية,)                                  101\n",
              "(تبركيك,)                                     93\n",
              "(آش واقع, الرئيسية, كود-تيفي)                 88\n",
              "(الزين والحداكة,)                             38\n",
              "(آش واقع, ميديا وثقافة)                       24\n",
              "(جورنالات بلادي,)                             19\n",
              "(الرئيسية, كود سبور, كود-تيفي)                19\n",
              "(آش واقع, كود-تيفي)                           11\n",
              "(آش واقع, تبركيك)                             10\n",
              "(آراء, الرئيسية, ميديا وثقافة)                10\n",
              "(آراء, آش واقع, الرئيسية)                     10\n",
              "(الرئيسية, كود-تيفي, ميديا وثقافة)            10\n",
              "(الرئيسية, تبركيك, كود سبور)                   9\n",
              "(آش واقع, الرئيسية, ميديا وثقافة)              9\n",
              "(كود-تيفي,)                                    8\n",
              "(الرئيسية, تبركيك, كود-تيفي)                   8\n",
              "(آش واقع, كود سبور)                            8\n",
              "(آش واقع, الرئيسية, تبركيك)                    7\n",
              "(آش واقع, الرئيسية, كود سبور)                  7\n",
              "(تبركيك, كود سبور)                             5\n",
              "(تبركيك, ميديا وثقافة)                         5\n",
              "(الرئيسية, الزين والحداكة, كود-تيفي)           5\n",
              "(آراء, الرئيسية, كود سبور)                     4\n",
              "(الرئيسية, تبركيك, جورنالات بلادي)             2\n",
              "(آش واقع, جورنالات بلادي)                      2\n",
              "(الرئيسية, تبركيك, ميديا وثقافة)               2\n",
              "(الرئيسية, جورنالات بلادي, ميديا وثقافة)       2\n",
              "(كود سبور, ميديا وثقافة)                       2\n",
              "(الرئيسية, كود سبور, ميديا وثقافة)             2\n",
              "(آش واقع, الرئيسية, جورنالات بلادي)            2\n",
              "(الرئيسية, الزين والحداكة, تبركيك)             2\n",
              "(الرئيسية, الزين والحداكة, كود سبور)           1\n",
              "(آش واقع, الزين والحداكة)                      1\n",
              "(كود, كود سبور)                                1\n",
              "(آش واقع, الرئيسية, الزين والحداكة)            1\n",
              "(آراء, آش واقع)                                1\n",
              "(الرئيسية, جورنالات بلادي, كود سبور)           1\n",
              "(كود سبور, كود-تيفي)                           1\n",
              "(آراء, الرئيسية, كود-تيفي, ميديا وثقافة)       1\n",
              "(الزين والحداكة, تبركيك)                       1\n",
              "(الرئيسية, جورنالات بلادي, كود-تيفي)           1\n",
              "(آش واقع, الزين والحداكة, ميديا وثقافة)        1\n",
              "(جورنالات بلادي, كود سبور)                     1\n",
              "(آراء, ميديا وثقافة)                           1\n",
              "Name: categories, dtype: int64"
            ]
          },
          "metadata": {},
          "execution_count": 9
        }
      ]
    },
    {
      "cell_type": "code",
      "source": [
        "data[\"categories\"] = data[\"categories\"].apply(ignore_categ, args=(\"آش واقع\",))"
      ],
      "metadata": {
        "id": "9zWZ-xW9Csxt"
      },
      "id": "9zWZ-xW9Csxt",
      "execution_count": 8,
      "outputs": []
    },
    {
      "cell_type": "code",
      "source": [
        "data[\"categories\"].value_counts(sort=True)"
      ],
      "metadata": {
        "colab": {
          "base_uri": "https://localhost:8080/"
        },
        "id": "M6bgkibWUnX8",
        "outputId": "a437b75f-8319-45ef-995f-62c40108cdf0"
      },
      "id": "M6bgkibWUnX8",
      "execution_count": null,
      "outputs": [
        {
          "output_type": "execute_result",
          "data": {
            "text/plain": [
              "(الرئيسية,)                                 3383\n",
              "(آش واقع,)                                  2388\n",
              "(الرئيسية, تبركيك)                           857\n",
              "(الرئيسية, كود سبور)                         591\n",
              "(الرئيسية, كود-تيفي)                         377\n",
              "(آراء, الرئيسية)                             371\n",
              "(الرئيسية, الزين والحداكة)                   264\n",
              "(الرئيسية, جورنالات بلادي)                   244\n",
              "(الرئيسية, ميديا وثقافة)                     230\n",
              "(ميديا وثقافة,)                              218\n",
              "(كود سبور,)                                  184\n",
              "(آراء,)                                      111\n",
              "(تبركيك,)                                    103\n",
              "(الزين والحداكة,)                             39\n",
              "(جورنالات بلادي,)                             21\n",
              "(الرئيسية, كود سبور, كود-تيفي)                19\n",
              "(كود-تيفي,)                                   19\n",
              "(آراء, الرئيسية, ميديا وثقافة)                10\n",
              "(الرئيسية, كود-تيفي, ميديا وثقافة)            10\n",
              "(الرئيسية, تبركيك, كود سبور)                   9\n",
              "(الرئيسية, تبركيك, كود-تيفي)                   8\n",
              "(الرئيسية, الزين والحداكة, كود-تيفي)           5\n",
              "(تبركيك, ميديا وثقافة)                         5\n",
              "(تبركيك, كود سبور)                             5\n",
              "(آراء, الرئيسية, كود سبور)                     4\n",
              "(كود سبور, ميديا وثقافة)                       2\n",
              "(الرئيسية, جورنالات بلادي, ميديا وثقافة)       2\n",
              "(الرئيسية, تبركيك, ميديا وثقافة)               2\n",
              "(الرئيسية, تبركيك, جورنالات بلادي)             2\n",
              "(الرئيسية, الزين والحداكة, تبركيك)             2\n",
              "(الرئيسية, كود سبور, ميديا وثقافة)             2\n",
              "(الرئيسية, الزين والحداكة, كود سبور)           1\n",
              "(كود, كود سبور)                                1\n",
              "(كود سبور, كود-تيفي)                           1\n",
              "(آراء, الرئيسية, كود-تيفي, ميديا وثقافة)       1\n",
              "(الرئيسية, جورنالات بلادي, كود سبور)           1\n",
              "(الزين والحداكة, تبركيك)                       1\n",
              "(الرئيسية, جورنالات بلادي, كود-تيفي)           1\n",
              "(الزين والحداكة, ميديا وثقافة)                 1\n",
              "(جورنالات بلادي, كود سبور)                     1\n",
              "(آراء, ميديا وثقافة)                           1\n",
              "Name: categories, dtype: int64"
            ]
          },
          "metadata": {},
          "execution_count": 10
        }
      ]
    },
    {
      "cell_type": "code",
      "source": [
        "data[\"categories\"] = data[\"categories\"].apply(ignore_categ, args=(\"الرئيسية\",))"
      ],
      "metadata": {
        "id": "2ruzbnAnXdE8"
      },
      "id": "2ruzbnAnXdE8",
      "execution_count": 9,
      "outputs": []
    },
    {
      "cell_type": "code",
      "source": [
        "data[\"categories\"].value_counts(sort=True)"
      ],
      "metadata": {
        "colab": {
          "base_uri": "https://localhost:8080/"
        },
        "id": "s67AxKhzd88y",
        "outputId": "811d1b26-7611-4bb7-ac59-416beb88a173"
      },
      "id": "s67AxKhzd88y",
      "execution_count": null,
      "outputs": [
        {
          "output_type": "execute_result",
          "data": {
            "text/plain": [
              "(الرئيسية,)                       3383\n",
              "(آش واقع,)                        2388\n",
              "(تبركيك,)                          960\n",
              "(كود سبور,)                        775\n",
              "(آراء,)                            482\n",
              "(ميديا وثقافة,)                    448\n",
              "(كود-تيفي,)                        396\n",
              "(الزين والحداكة,)                  303\n",
              "(جورنالات بلادي,)                  265\n",
              "(كود سبور, كود-تيفي)                20\n",
              "(تبركيك, كود سبور)                  14\n",
              "(آراء, ميديا وثقافة)                11\n",
              "(كود-تيفي, ميديا وثقافة)            10\n",
              "(تبركيك, كود-تيفي)                   8\n",
              "(تبركيك, ميديا وثقافة)               7\n",
              "(الزين والحداكة, كود-تيفي)           5\n",
              "(كود سبور, ميديا وثقافة)             4\n",
              "(آراء, كود سبور)                     4\n",
              "(الزين والحداكة, تبركيك)             3\n",
              "(جورنالات بلادي, كود سبور)           2\n",
              "(جورنالات بلادي, ميديا وثقافة)       2\n",
              "(تبركيك, جورنالات بلادي)             2\n",
              "(الزين والحداكة, ميديا وثقافة)       1\n",
              "(جورنالات بلادي, كود-تيفي)           1\n",
              "(آراء, كود-تيفي, ميديا وثقافة)       1\n",
              "(الزين والحداكة, كود سبور)           1\n",
              "(كود, كود سبور)                      1\n",
              "Name: categories, dtype: int64"
            ]
          },
          "metadata": {},
          "execution_count": 12
        }
      ]
    },
    {
      "cell_type": "code",
      "source": [
        "data[\"categories\"] = data[\"categories\"].apply(ignore_categ, args=(\"كود-تيفي\",))"
      ],
      "metadata": {
        "id": "NUwuQpUyQkmL"
      },
      "id": "NUwuQpUyQkmL",
      "execution_count": 10,
      "outputs": []
    },
    {
      "cell_type": "code",
      "source": [
        "data[\"categories\"].value_counts(sort=True)"
      ],
      "metadata": {
        "id": "YbFU6Conv2v_",
        "colab": {
          "base_uri": "https://localhost:8080/"
        },
        "outputId": "de50fb7c-ea49-42ac-e484-2969de04ea82"
      },
      "id": "YbFU6Conv2v_",
      "execution_count": null,
      "outputs": [
        {
          "output_type": "execute_result",
          "data": {
            "text/plain": [
              "(الرئيسية,)                       3383\n",
              "(آش واقع,)                        2388\n",
              "(تبركيك,)                          968\n",
              "(كود سبور,)                        795\n",
              "(آراء,)                            482\n",
              "(ميديا وثقافة,)                    458\n",
              "(كود-تيفي,)                        396\n",
              "(الزين والحداكة,)                  308\n",
              "(جورنالات بلادي,)                  266\n",
              "(تبركيك, كود سبور)                  14\n",
              "(آراء, ميديا وثقافة)                12\n",
              "(تبركيك, ميديا وثقافة)               7\n",
              "(كود سبور, ميديا وثقافة)             4\n",
              "(آراء, كود سبور)                     4\n",
              "(الزين والحداكة, تبركيك)             3\n",
              "(جورنالات بلادي, كود سبور)           2\n",
              "(جورنالات بلادي, ميديا وثقافة)       2\n",
              "(تبركيك, جورنالات بلادي)             2\n",
              "(الزين والحداكة, ميديا وثقافة)       1\n",
              "(الزين والحداكة, كود سبور)           1\n",
              "(كود, كود سبور)                      1\n",
              "Name: categories, dtype: int64"
            ]
          },
          "metadata": {},
          "execution_count": 14
        }
      ]
    },
    {
      "cell_type": "code",
      "source": [
        "data[\"categories\"] = data[\"categories\"].apply(ignore_categ, args=(\"تبركيك\",))"
      ],
      "metadata": {
        "id": "8f8IF7D04qmA"
      },
      "id": "8f8IF7D04qmA",
      "execution_count": 11,
      "outputs": []
    },
    {
      "cell_type": "code",
      "source": [
        "data[\"categories\"].value_counts(sort=True)"
      ],
      "metadata": {
        "id": "rDrneh3ASjji",
        "colab": {
          "base_uri": "https://localhost:8080/"
        },
        "outputId": "4b62ab47-dcaf-4f12-9e03-0790a0ea1380"
      },
      "id": "rDrneh3ASjji",
      "execution_count": null,
      "outputs": [
        {
          "output_type": "execute_result",
          "data": {
            "text/plain": [
              "(الرئيسية,)                       3383\n",
              "(آش واقع,)                        2388\n",
              "(تبركيك,)                          968\n",
              "(كود سبور,)                        809\n",
              "(آراء,)                            482\n",
              "(ميديا وثقافة,)                    465\n",
              "(كود-تيفي,)                        396\n",
              "(الزين والحداكة,)                  311\n",
              "(جورنالات بلادي,)                  268\n",
              "(آراء, ميديا وثقافة)                12\n",
              "(كود سبور, ميديا وثقافة)             4\n",
              "(آراء, كود سبور)                     4\n",
              "(جورنالات بلادي, كود سبور)           2\n",
              "(جورنالات بلادي, ميديا وثقافة)       2\n",
              "(الزين والحداكة, ميديا وثقافة)       1\n",
              "(الزين والحداكة, كود سبور)           1\n",
              "(كود, كود سبور)                      1\n",
              "Name: categories, dtype: int64"
            ]
          },
          "metadata": {},
          "execution_count": 16
        }
      ]
    },
    {
      "cell_type": "code",
      "source": [
        "data[\"categories\"] = data[\"categories\"].apply(ignore_categ, args=(\"كود سبور\",))"
      ],
      "metadata": {
        "id": "sR1QqT2qV8Ko"
      },
      "id": "sR1QqT2qV8Ko",
      "execution_count": 12,
      "outputs": []
    },
    {
      "cell_type": "code",
      "source": [
        "data[\"categories\"].value_counts(sort=True)"
      ],
      "metadata": {
        "id": "vvGWOWkKYwJY",
        "colab": {
          "base_uri": "https://localhost:8080/"
        },
        "outputId": "95e70295-a610-4f24-fb13-48fd5db57880"
      },
      "id": "vvGWOWkKYwJY",
      "execution_count": null,
      "outputs": [
        {
          "output_type": "execute_result",
          "data": {
            "text/plain": [
              "(الرئيسية,)                       3383\n",
              "(آش واقع,)                        2388\n",
              "(تبركيك,)                          968\n",
              "(كود سبور,)                        809\n",
              "(آراء,)                            486\n",
              "(ميديا وثقافة,)                    469\n",
              "(كود-تيفي,)                        396\n",
              "(الزين والحداكة,)                  312\n",
              "(جورنالات بلادي,)                  270\n",
              "(آراء, ميديا وثقافة)                12\n",
              "(جورنالات بلادي, ميديا وثقافة)       2\n",
              "(الزين والحداكة, ميديا وثقافة)       1\n",
              "(كود,)                               1\n",
              "Name: categories, dtype: int64"
            ]
          },
          "metadata": {},
          "execution_count": 18
        }
      ]
    },
    {
      "cell_type": "code",
      "source": [
        "data.drop(data[data[\"categories\"] == (\"آراء\", \"ميديا وثقافة\")].index, inplace=True)\n",
        "data.drop(data[data[\"categories\"] == (\"الزين والحداكة\", \"ميديا وثقافة\")].index, inplace=True)\n",
        "data.drop(data[data[\"categories\"] == (\"جورنالات بلادي\", \"ميديا وثقافة\")].index, inplace=True)\n",
        "data.drop(data[data[\"categories\"] == (\"آراء\", \"جورنالات بلادي\")].index, inplace=True)\n",
        "data.drop(data[data[\"categories\"] == (\"آراء\", \"الزين والحداكة\")].index, inplace=True)\n",
        "data.drop(data[data[\"categories\"] == (\"الزين والحداكة\", \"جورنالات بلادي\")].index, inplace=True)\n",
        "data.drop(data[data[\"categories\"] == (\"كود-تيفي\",)].index, inplace=True)\n",
        "data.drop(data[data[\"categories\"] == (\"الرئيسية\",)].index, inplace=True)\n",
        "data.drop(data[data[\"categories\"] == (\"كود\",)].index, inplace=True)"
      ],
      "metadata": {
        "id": "0TxI6ZxPY-qf"
      },
      "id": "0TxI6ZxPY-qf",
      "execution_count": 13,
      "outputs": []
    },
    {
      "cell_type": "code",
      "source": [
        "data[\"categories\"].value_counts(sort=True)"
      ],
      "metadata": {
        "colab": {
          "base_uri": "https://localhost:8080/"
        },
        "id": "u7WUqR3THRLl",
        "outputId": "3314c48e-db3f-4696-8913-173e7d971371"
      },
      "id": "u7WUqR3THRLl",
      "execution_count": null,
      "outputs": [
        {
          "output_type": "execute_result",
          "data": {
            "text/plain": [
              "(آش واقع,)           36892\n",
              "(تبركيك,)            14404\n",
              "(كود سبور,)          11442\n",
              "(آراء,)               7141\n",
              "(ميديا وثقافة,)       6503\n",
              "(الزين والحداكة,)     4540\n",
              "(جورنالات بلادي,)     3980\n",
              "Name: categories, dtype: int64"
            ]
          },
          "metadata": {},
          "execution_count": 43
        }
      ]
    },
    {
      "cell_type": "code",
      "source": [
        "# to downsample\n",
        "happening_df = data[data[\"categories\"] == (\"آش واقع\",)]\n",
        "\n",
        "data.drop(data[data[\"categories\"] == (\"آش واقع\",)].index, inplace=True)\n",
        "\n",
        "from sklearn.utils import resample\n",
        "\n",
        "# for train data\n",
        "# happening_downsampled = resample(happening_df, replace=True, n_samples=14000, random_state=42)\n",
        "\n",
        "# for validation data\n",
        "# happening_downsampled = resample(happening_df, replace=True, n_samples=800, random_state=42)\n",
        "\n",
        "# for test data\n",
        "happening_downsampled = resample(happening_df, replace=True, n_samples=800, random_state=42)\n",
        "\n",
        "data = pd.concat([happening_downsampled, data]).sort_index()"
      ],
      "metadata": {
        "id": "bgm7gCWbEDT_"
      },
      "id": "bgm7gCWbEDT_",
      "execution_count": 14,
      "outputs": []
    },
    {
      "cell_type": "code",
      "source": [
        "data[\"categories\"].value_counts(sort=True)"
      ],
      "metadata": {
        "colab": {
          "base_uri": "https://localhost:8080/"
        },
        "id": "RNj927YTmEgV",
        "outputId": "9aedab5c-d5c8-4556-e501-966846ddadb1"
      },
      "id": "RNj927YTmEgV",
      "execution_count": 15,
      "outputs": [
        {
          "output_type": "execute_result",
          "data": {
            "text/plain": [
              "(تبركيك,)            968\n",
              "(كود سبور,)          809\n",
              "(آش واقع,)           800\n",
              "(آراء,)              486\n",
              "(ميديا وثقافة,)      469\n",
              "(الزين والحداكة,)    312\n",
              "(جورنالات بلادي,)    270\n",
              "Name: categories, dtype: int64"
            ]
          },
          "metadata": {},
          "execution_count": 15
        }
      ]
    },
    {
      "cell_type": "code",
      "source": [
        "def remove_punctuation(headlines):\n",
        "  return re.sub(r'[؟!؛،.:…‼]', ' ', headlines)"
      ],
      "metadata": {
        "id": "WSQcH8u0HasS"
      },
      "id": "WSQcH8u0HasS",
      "execution_count": 16,
      "outputs": []
    },
    {
      "cell_type": "code",
      "source": [
        "data[\"headline\"] = data[\"headline\"].apply(remove_punctuation)"
      ],
      "metadata": {
        "id": "muBUbEMPLLYX"
      },
      "id": "muBUbEMPLLYX",
      "execution_count": 17,
      "outputs": []
    },
    {
      "cell_type": "code",
      "source": [
        "data.loc[59470:59471]"
      ],
      "metadata": {
        "id": "NZLvmYK0uDd1"
      },
      "id": "NZLvmYK0uDd1",
      "execution_count": null,
      "outputs": []
    },
    {
      "cell_type": "code",
      "source": [
        "def remove_special_chars(headlines):\n",
        "  return re.sub(r'[ـ()_{}–-”“″»«|=#٪>\\ufeff\\u202A\\u202C\\u202B\\u200E\\u200F\\u200B]', ' ', headlines)"
      ],
      "metadata": {
        "id": "uAqwaEQNXeuk"
      },
      "id": "uAqwaEQNXeuk",
      "execution_count": 18,
      "outputs": []
    },
    {
      "cell_type": "code",
      "source": [
        "data[\"headline\"] = data[\"headline\"].apply(remove_special_chars)"
      ],
      "metadata": {
        "id": "j4Hf31uGZmZV"
      },
      "id": "j4Hf31uGZmZV",
      "execution_count": 19,
      "outputs": []
    },
    {
      "cell_type": "code",
      "source": [
        "data.loc[59470:59471]"
      ],
      "metadata": {
        "id": "_JjIc1wssPBt"
      },
      "id": "_JjIc1wssPBt",
      "execution_count": null,
      "outputs": []
    },
    {
      "cell_type": "code",
      "source": [
        "def remove_diacritics(headlines):\n",
        "  return araby.strip_diacritics(headlines)"
      ],
      "metadata": {
        "id": "cNzSPY7D48rP"
      },
      "id": "cNzSPY7D48rP",
      "execution_count": 20,
      "outputs": []
    },
    {
      "cell_type": "code",
      "source": [
        "data[\"headline\"] = data[\"headline\"].apply(remove_diacritics)"
      ],
      "metadata": {
        "id": "0xao-5bM5GrH"
      },
      "id": "0xao-5bM5GrH",
      "execution_count": 21,
      "outputs": []
    },
    {
      "cell_type": "code",
      "source": [
        "def remove_elongation(headlines):\n",
        "  return re.sub(r'(.)\\1+', r'\\1\\1', headlines)"
      ],
      "metadata": {
        "id": "Ik9YOQ_uYEqx"
      },
      "id": "Ik9YOQ_uYEqx",
      "execution_count": 22,
      "outputs": []
    },
    {
      "cell_type": "code",
      "source": [
        "data[\"headline\"] = data[\"headline\"].apply(remove_elongation)"
      ],
      "metadata": {
        "id": "qlaJh04dYOeY"
      },
      "id": "qlaJh04dYOeY",
      "execution_count": 23,
      "outputs": []
    },
    {
      "cell_type": "code",
      "source": [
        "from camel_tools.utils.normalize import normalize_alef_maksura_ar\n",
        "from camel_tools.utils.normalize import normalize_alef_ar\n",
        "from camel_tools.utils.normalize import normalize_teh_marbuta_ar\n",
        "\n",
        "def normalize(headlines):\n",
        "    headlines = normalize_alef_maksura_ar(headlines)\n",
        "    headlines = normalize_alef_ar(headlines)\n",
        "    headlines = normalize_teh_marbuta_ar(headlines)\n",
        "    return headlines"
      ],
      "metadata": {
        "id": "BKUq0GyiWKgX"
      },
      "id": "BKUq0GyiWKgX",
      "execution_count": 24,
      "outputs": []
    },
    {
      "cell_type": "code",
      "source": [
        "data[\"headline\"] = data[\"headline\"].apply(normalize)"
      ],
      "metadata": {
        "id": "Yrb84PK3W6TZ"
      },
      "id": "Yrb84PK3W6TZ",
      "execution_count": 25,
      "outputs": []
    },
    {
      "cell_type": "code",
      "source": [
        "def one_space(headlines):\n",
        "  return re.sub(r'[ ]+', r' ', headlines)"
      ],
      "metadata": {
        "id": "zhsjWvxFvSDe"
      },
      "id": "zhsjWvxFvSDe",
      "execution_count": 26,
      "outputs": []
    },
    {
      "cell_type": "code",
      "source": [
        "data[\"headline\"] = data[\"headline\"].apply(one_space)"
      ],
      "metadata": {
        "id": "dpH9bLfovtBR"
      },
      "id": "dpH9bLfovtBR",
      "execution_count": 27,
      "outputs": []
    },
    {
      "cell_type": "code",
      "source": [
        "def remove_tifinagh(headlines):\n",
        "  return re.sub(r'[ⵜⴰⴳⵍⴷⵉⵜ ⵏ ⵍⵎⵖⵔⵉⴱ]+', r'', headlines)"
      ],
      "metadata": {
        "id": "BLkwORH33BVe"
      },
      "id": "BLkwORH33BVe",
      "execution_count": 28,
      "outputs": []
    },
    {
      "cell_type": "code",
      "source": [
        "data[\"headline\"] = data[\"headline\"].apply(remove_tifinagh)"
      ],
      "metadata": {
        "id": "h2ln-jWV3UMR"
      },
      "id": "h2ln-jWV3UMR",
      "execution_count": 29,
      "outputs": []
    },
    {
      "cell_type": "code",
      "source": [
        "def check_allowed_chars(headlines):\n",
        "  if re.match(r'^[\\u0621-\\u064A0-9a-zA-aéÉÇ\\u06AF\\u067E\\u06A4\\u06AD ]+', headlines) == None:\n",
        "    return False\n",
        "  else:\n",
        "    return True"
      ],
      "metadata": {
        "id": "M0NN6zHFfxxW"
      },
      "id": "M0NN6zHFfxxW",
      "execution_count": 30,
      "outputs": []
    },
    {
      "cell_type": "code",
      "source": [
        "data[\"allowed chars\"] = data[\"headline\"].apply(check_allowed_chars)"
      ],
      "metadata": {
        "id": "8TojNvlUuCek"
      },
      "id": "8TojNvlUuCek",
      "execution_count": 31,
      "outputs": []
    },
    {
      "cell_type": "code",
      "source": [
        "data[\"allowed chars\"].value_counts()"
      ],
      "metadata": {
        "colab": {
          "base_uri": "https://localhost:8080/"
        },
        "id": "iNhjmKiKxJ4o",
        "outputId": "ffb65e49-9965-459b-f5c8-34dcd197edeb"
      },
      "id": "iNhjmKiKxJ4o",
      "execution_count": 32,
      "outputs": [
        {
          "output_type": "execute_result",
          "data": {
            "text/plain": [
              "True    4114\n",
              "Name: allowed chars, dtype: int64"
            ]
          },
          "metadata": {},
          "execution_count": 32
        }
      ]
    },
    {
      "cell_type": "code",
      "source": [
        "pd.set_option('display.max_colwidth', None)"
      ],
      "metadata": {
        "id": "fLrBEAtNCmO2"
      },
      "id": "fLrBEAtNCmO2",
      "execution_count": 33,
      "outputs": []
    },
    {
      "cell_type": "code",
      "source": [
        "data[data[\"allowed chars\"] == False]"
      ],
      "metadata": {
        "id": "kPftfasczO7P",
        "colab": {
          "base_uri": "https://localhost:8080/",
          "height": 49
        },
        "outputId": "88855333-ae1b-40d7-d8eb-ad4a359c1497"
      },
      "id": "kPftfasczO7P",
      "execution_count": 62,
      "outputs": [
        {
          "output_type": "execute_result",
          "data": {
            "text/plain": [
              "Empty DataFrame\n",
              "Columns: [headline, categories, allowed chars]\n",
              "Index: []"
            ],
            "text/html": [
              "\n",
              "  <div id=\"df-d8c78cb1-3802-4a78-81a6-ecf509576f38\">\n",
              "    <div class=\"colab-df-container\">\n",
              "      <div>\n",
              "<style scoped>\n",
              "    .dataframe tbody tr th:only-of-type {\n",
              "        vertical-align: middle;\n",
              "    }\n",
              "\n",
              "    .dataframe tbody tr th {\n",
              "        vertical-align: top;\n",
              "    }\n",
              "\n",
              "    .dataframe thead th {\n",
              "        text-align: right;\n",
              "    }\n",
              "</style>\n",
              "<table border=\"1\" class=\"dataframe\">\n",
              "  <thead>\n",
              "    <tr style=\"text-align: right;\">\n",
              "      <th></th>\n",
              "      <th>headline</th>\n",
              "      <th>categories</th>\n",
              "      <th>allowed chars</th>\n",
              "    </tr>\n",
              "  </thead>\n",
              "  <tbody>\n",
              "  </tbody>\n",
              "</table>\n",
              "</div>\n",
              "      <button class=\"colab-df-convert\" onclick=\"convertToInteractive('df-d8c78cb1-3802-4a78-81a6-ecf509576f38')\"\n",
              "              title=\"Convert this dataframe to an interactive table.\"\n",
              "              style=\"display:none;\">\n",
              "        \n",
              "  <svg xmlns=\"http://www.w3.org/2000/svg\" height=\"24px\"viewBox=\"0 0 24 24\"\n",
              "       width=\"24px\">\n",
              "    <path d=\"M0 0h24v24H0V0z\" fill=\"none\"/>\n",
              "    <path d=\"M18.56 5.44l.94 2.06.94-2.06 2.06-.94-2.06-.94-.94-2.06-.94 2.06-2.06.94zm-11 1L8.5 8.5l.94-2.06 2.06-.94-2.06-.94L8.5 2.5l-.94 2.06-2.06.94zm10 10l.94 2.06.94-2.06 2.06-.94-2.06-.94-.94-2.06-.94 2.06-2.06.94z\"/><path d=\"M17.41 7.96l-1.37-1.37c-.4-.4-.92-.59-1.43-.59-.52 0-1.04.2-1.43.59L10.3 9.45l-7.72 7.72c-.78.78-.78 2.05 0 2.83L4 21.41c.39.39.9.59 1.41.59.51 0 1.02-.2 1.41-.59l7.78-7.78 2.81-2.81c.8-.78.8-2.07 0-2.86zM5.41 20L4 18.59l7.72-7.72 1.47 1.35L5.41 20z\"/>\n",
              "  </svg>\n",
              "      </button>\n",
              "      \n",
              "  <style>\n",
              "    .colab-df-container {\n",
              "      display:flex;\n",
              "      flex-wrap:wrap;\n",
              "      gap: 12px;\n",
              "    }\n",
              "\n",
              "    .colab-df-convert {\n",
              "      background-color: #E8F0FE;\n",
              "      border: none;\n",
              "      border-radius: 50%;\n",
              "      cursor: pointer;\n",
              "      display: none;\n",
              "      fill: #1967D2;\n",
              "      height: 32px;\n",
              "      padding: 0 0 0 0;\n",
              "      width: 32px;\n",
              "    }\n",
              "\n",
              "    .colab-df-convert:hover {\n",
              "      background-color: #E2EBFA;\n",
              "      box-shadow: 0px 1px 2px rgba(60, 64, 67, 0.3), 0px 1px 3px 1px rgba(60, 64, 67, 0.15);\n",
              "      fill: #174EA6;\n",
              "    }\n",
              "\n",
              "    [theme=dark] .colab-df-convert {\n",
              "      background-color: #3B4455;\n",
              "      fill: #D2E3FC;\n",
              "    }\n",
              "\n",
              "    [theme=dark] .colab-df-convert:hover {\n",
              "      background-color: #434B5C;\n",
              "      box-shadow: 0px 1px 3px 1px rgba(0, 0, 0, 0.15);\n",
              "      filter: drop-shadow(0px 1px 2px rgba(0, 0, 0, 0.3));\n",
              "      fill: #FFFFFF;\n",
              "    }\n",
              "  </style>\n",
              "\n",
              "      <script>\n",
              "        const buttonEl =\n",
              "          document.querySelector('#df-d8c78cb1-3802-4a78-81a6-ecf509576f38 button.colab-df-convert');\n",
              "        buttonEl.style.display =\n",
              "          google.colab.kernel.accessAllowed ? 'block' : 'none';\n",
              "\n",
              "        async function convertToInteractive(key) {\n",
              "          const element = document.querySelector('#df-d8c78cb1-3802-4a78-81a6-ecf509576f38');\n",
              "          const dataTable =\n",
              "            await google.colab.kernel.invokeFunction('convertToInteractive',\n",
              "                                                     [key], {});\n",
              "          if (!dataTable) return;\n",
              "\n",
              "          const docLinkHtml = 'Like what you see? Visit the ' +\n",
              "            '<a target=\"_blank\" href=https://colab.research.google.com/notebooks/data_table.ipynb>data table notebook</a>'\n",
              "            + ' to learn more about interactive tables.';\n",
              "          element.innerHTML = '';\n",
              "          dataTable['output_type'] = 'display_data';\n",
              "          await google.colab.output.renderOutput(dataTable, element);\n",
              "          const docLink = document.createElement('div');\n",
              "          docLink.innerHTML = docLinkHtml;\n",
              "          element.appendChild(docLink);\n",
              "        }\n",
              "      </script>\n",
              "    </div>\n",
              "  </div>\n",
              "  "
            ]
          },
          "metadata": {},
          "execution_count": 62
        }
      ]
    },
    {
      "cell_type": "code",
      "source": [
        "data.drop('allowed chars', axis=1, inplace=True)"
      ],
      "metadata": {
        "id": "-vGi5wcPT0Vy"
      },
      "id": "-vGi5wcPT0Vy",
      "execution_count": 34,
      "outputs": []
    },
    {
      "cell_type": "code",
      "source": [
        "# preprocessed train\n",
        "# data.to_csv(r'drive/MyDrive/Internship/datasets/Goud/train_preprocessed.csv', index=False)\n",
        "\n",
        "# preprocessed validation\n",
        "# data.to_csv(r'drive/MyDrive/Internship/datasets/Goud/validation_preprocessed.csv', index=False)\n",
        "\n",
        "# preprocessed test\n",
        "data.to_csv(r'drive/MyDrive/Internship/datasets/Goud/test_preprocessed.csv', index=False)"
      ],
      "metadata": {
        "id": "fukE_1uprZeG"
      },
      "id": "fukE_1uprZeG",
      "execution_count": 35,
      "outputs": []
    },
    {
      "cell_type": "code",
      "source": [
        "print(re.fullmatch(r'^[\\u0621-\\u064Aa-zA-a\\u06AF\\u067E\\u06A4\\u06AD ]+', \"‎​علامات استفهام في الذكري الرابعه ل 20 فبراير\t\"))"
      ],
      "metadata": {
        "colab": {
          "base_uri": "https://localhost:8080/"
        },
        "id": "w0zhzenOPok7",
        "outputId": "ed9f2f41-8d73-4b09-d18c-a410dd9aaf8d"
      },
      "id": "w0zhzenOPok7",
      "execution_count": 48,
      "outputs": [
        {
          "output_type": "stream",
          "name": "stdout",
          "text": [
            "None\n"
          ]
        }
      ]
    }
  ],
  "metadata": {
    "kernelspec": {
      "display_name": "Python 3 (ipykernel)",
      "language": "python",
      "name": "python3"
    },
    "language_info": {
      "codemirror_mode": {
        "name": "ipython",
        "version": 3
      },
      "file_extension": ".py",
      "mimetype": "text/x-python",
      "name": "python",
      "nbconvert_exporter": "python",
      "pygments_lexer": "ipython3",
      "version": "3.9.0"
    },
    "colab": {
      "name": "cleaning.ipynb",
      "provenance": [],
      "collapsed_sections": []
    }
  },
  "nbformat": 4,
  "nbformat_minor": 5
}