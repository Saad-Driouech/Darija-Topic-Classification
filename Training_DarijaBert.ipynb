{
  "nbformat": 4,
  "nbformat_minor": 0,
  "metadata": {
    "colab": {
      "name": "Training DarijaBert.ipynb",
      "provenance": [],
      "collapsed_sections": []
    },
    "kernelspec": {
      "name": "python3",
      "display_name": "Python 3"
    },
    "language_info": {
      "name": "python"
    },
    "accelerator": "GPU"
  },
  "cells": [
    {
      "cell_type": "code",
      "source": [
        "!nvidia-smi -L"
      ],
      "metadata": {
        "colab": {
          "base_uri": "https://localhost:8080/"
        },
        "id": "g-sBAmrhjuX_",
        "outputId": "2434957e-ef4f-4093-903f-15fcc0d45bb9"
      },
      "execution_count": 1,
      "outputs": [
        {
          "output_type": "stream",
          "name": "stdout",
          "text": [
            "GPU 0: Tesla T4 (UUID: GPU-934b5783-2b2a-deaa-f171-1854446a70a5)\n"
          ]
        }
      ]
    },
    {
      "cell_type": "code",
      "execution_count": 2,
      "metadata": {
        "colab": {
          "base_uri": "https://localhost:8080/"
        },
        "id": "W-lypi-XbgaN",
        "outputId": "82c58d70-ed1e-4335-93e3-5104e5a6d061"
      },
      "outputs": [
        {
          "output_type": "stream",
          "name": "stdout",
          "text": [
            "Mounted at drive\n"
          ]
        }
      ],
      "source": [
        "from google.colab import drive\n",
        "drive.mount('drive')"
      ]
    },
    {
      "cell_type": "code",
      "source": [
        "%%capture\n",
        "!pip install transformers"
      ],
      "metadata": {
        "id": "-4WoKwpqmil5"
      },
      "execution_count": 3,
      "outputs": []
    },
    {
      "cell_type": "code",
      "source": [
        "import pandas as pd\n",
        "import numpy as np\n",
        "\n",
        "import torch\n",
        "from torch.utils.data import Dataset, DataLoader"
      ],
      "metadata": {
        "id": "ImY0hKpx8VEU"
      },
      "execution_count": 4,
      "outputs": []
    },
    {
      "cell_type": "code",
      "source": [
        "train_data = pd.read_csv(\"drive/MyDrive/Internship/datasets/Goud/train_preprocessed.csv\")\n",
        "val_data = pd.read_csv(\"drive/MyDrive/Internship/datasets/Goud/validation_preprocessed.csv\")\n",
        "test_data = pd.read_csv(\"drive/MyDrive/Internship/datasets/Goud/test_preprocessed.csv\")"
      ],
      "metadata": {
        "id": "DZu-86k973Yk"
      },
      "execution_count": 5,
      "outputs": []
    },
    {
      "cell_type": "code",
      "source": [
        "# train_data.drop_duplicates(inplace=True, ignore_index=True)\n",
        "# val_data.drop_duplicates(inplace=True, ignore_index=True)\n",
        "# test_data.drop_duplicates(inplace=True, ignore_index=True)"
      ],
      "metadata": {
        "id": "8v5sfnf6s0og"
      },
      "execution_count": null,
      "outputs": []
    },
    {
      "cell_type": "code",
      "source": [
        "pd.set_option('display.max_colwidth', None)"
      ],
      "metadata": {
        "id": "TF5Hr7v91xHv"
      },
      "execution_count": 7,
      "outputs": []
    },
    {
      "cell_type": "code",
      "source": [
        "train_data"
      ],
      "metadata": {
        "colab": {
          "base_uri": "https://localhost:8080/",
          "height": 424
        },
        "id": "ZcScK27m7-f6",
        "outputId": "436df3ed-9d19-409a-dd97-23e8d6c8c852"
      },
      "execution_count": 8,
      "outputs": [
        {
          "output_type": "execute_result",
          "data": {
            "text/plain": [
              "                                                                                                                                                    headline  \\\n",
              "0                                                                                                             حكم ضد وزارة اعمارة بتعويض قدره 13 مليار لشركة   \n",
              "1                                                                                                              جلسة خاصة بين مدرب الأهلي ومهاجم الأسود أزارو   \n",
              "2                                                                                                       اعتقال مهاجم الريال رونالدو في فرنسا… وها علاش (صور)   \n",
              "3                                                                                                                      الأسود المحليين يستعدون للمربع الذهبي   \n",
              "4                                                                                                 الجديد.. ريحة ديال المازوط وليصونس لعشاق صوكَان وطوموبيلات   \n",
              "...                                                                                                                                                      ...   \n",
              "62005                                         واش دخلو الصهد؟. امحند العنصر لـ”كود”: مزال مقررت نترشح للأمانة العامة ديال الحركة الشعبية وها وقتاش غادي نقرر   \n",
              "62006                                                                                                             الفنانة المغربية ابتسام تسكت مطلوبة بوجدة‏   \n",
              "62007                                                                                             من بعد 15 العام.. تصوير تتمة فيلم “ماروك” لي كان نوض روينة   \n",
              "62008  جورنالات بلادي1. غموض يلف صرف 5 ملايير بمؤسسة الأعمال الاجتماعية بوزارة الصحة وأمن طنجة يعتقل زعيم عصابة بتهمة اختطاف زوجين واحتجازهما للمطالبة بفدية   \n",
              "62009                                                                                          ممارسة السياسة عبر الاحفاد. شباط يرد على بنكيران بإرضاع حفيده   \n",
              "\n",
              "                categories  \n",
              "0      ('جورنالات بلادي',)  \n",
              "1            ('كود سبور',)  \n",
              "2            ('كود سبور',)  \n",
              "3            ('كود سبور',)  \n",
              "4              ('تبركيك',)  \n",
              "...                    ...  \n",
              "62005          ('تبركيك',)  \n",
              "62006  ('الزين والحداكة',)  \n",
              "62007    ('ميديا وثقافة',)  \n",
              "62008  ('جورنالات بلادي',)  \n",
              "62009          ('تبركيك',)  \n",
              "\n",
              "[62010 rows x 2 columns]"
            ],
            "text/html": [
              "\n",
              "  <div id=\"df-a492c3f2-c947-4314-a653-8e0635bccbc5\">\n",
              "    <div class=\"colab-df-container\">\n",
              "      <div>\n",
              "<style scoped>\n",
              "    .dataframe tbody tr th:only-of-type {\n",
              "        vertical-align: middle;\n",
              "    }\n",
              "\n",
              "    .dataframe tbody tr th {\n",
              "        vertical-align: top;\n",
              "    }\n",
              "\n",
              "    .dataframe thead th {\n",
              "        text-align: right;\n",
              "    }\n",
              "</style>\n",
              "<table border=\"1\" class=\"dataframe\">\n",
              "  <thead>\n",
              "    <tr style=\"text-align: right;\">\n",
              "      <th></th>\n",
              "      <th>headline</th>\n",
              "      <th>categories</th>\n",
              "    </tr>\n",
              "  </thead>\n",
              "  <tbody>\n",
              "    <tr>\n",
              "      <th>0</th>\n",
              "      <td>حكم ضد وزارة اعمارة بتعويض قدره 13 مليار لشركة</td>\n",
              "      <td>('جورنالات بلادي',)</td>\n",
              "    </tr>\n",
              "    <tr>\n",
              "      <th>1</th>\n",
              "      <td>جلسة خاصة بين مدرب الأهلي ومهاجم الأسود أزارو</td>\n",
              "      <td>('كود سبور',)</td>\n",
              "    </tr>\n",
              "    <tr>\n",
              "      <th>2</th>\n",
              "      <td>اعتقال مهاجم الريال رونالدو في فرنسا… وها علاش (صور)</td>\n",
              "      <td>('كود سبور',)</td>\n",
              "    </tr>\n",
              "    <tr>\n",
              "      <th>3</th>\n",
              "      <td>الأسود المحليين يستعدون للمربع الذهبي</td>\n",
              "      <td>('كود سبور',)</td>\n",
              "    </tr>\n",
              "    <tr>\n",
              "      <th>4</th>\n",
              "      <td>الجديد.. ريحة ديال المازوط وليصونس لعشاق صوكَان وطوموبيلات</td>\n",
              "      <td>('تبركيك',)</td>\n",
              "    </tr>\n",
              "    <tr>\n",
              "      <th>...</th>\n",
              "      <td>...</td>\n",
              "      <td>...</td>\n",
              "    </tr>\n",
              "    <tr>\n",
              "      <th>62005</th>\n",
              "      <td>واش دخلو الصهد؟. امحند العنصر لـ”كود”: مزال مقررت نترشح للأمانة العامة ديال الحركة الشعبية وها وقتاش غادي نقرر</td>\n",
              "      <td>('تبركيك',)</td>\n",
              "    </tr>\n",
              "    <tr>\n",
              "      <th>62006</th>\n",
              "      <td>الفنانة المغربية ابتسام تسكت مطلوبة بوجدة‏</td>\n",
              "      <td>('الزين والحداكة',)</td>\n",
              "    </tr>\n",
              "    <tr>\n",
              "      <th>62007</th>\n",
              "      <td>من بعد 15 العام.. تصوير تتمة فيلم “ماروك” لي كان نوض روينة</td>\n",
              "      <td>('ميديا وثقافة',)</td>\n",
              "    </tr>\n",
              "    <tr>\n",
              "      <th>62008</th>\n",
              "      <td>جورنالات بلادي1. غموض يلف صرف 5 ملايير بمؤسسة الأعمال الاجتماعية بوزارة الصحة وأمن طنجة يعتقل زعيم عصابة بتهمة اختطاف زوجين واحتجازهما للمطالبة بفدية</td>\n",
              "      <td>('جورنالات بلادي',)</td>\n",
              "    </tr>\n",
              "    <tr>\n",
              "      <th>62009</th>\n",
              "      <td>ممارسة السياسة عبر الاحفاد. شباط يرد على بنكيران بإرضاع حفيده</td>\n",
              "      <td>('تبركيك',)</td>\n",
              "    </tr>\n",
              "  </tbody>\n",
              "</table>\n",
              "<p>62010 rows × 2 columns</p>\n",
              "</div>\n",
              "      <button class=\"colab-df-convert\" onclick=\"convertToInteractive('df-a492c3f2-c947-4314-a653-8e0635bccbc5')\"\n",
              "              title=\"Convert this dataframe to an interactive table.\"\n",
              "              style=\"display:none;\">\n",
              "        \n",
              "  <svg xmlns=\"http://www.w3.org/2000/svg\" height=\"24px\"viewBox=\"0 0 24 24\"\n",
              "       width=\"24px\">\n",
              "    <path d=\"M0 0h24v24H0V0z\" fill=\"none\"/>\n",
              "    <path d=\"M18.56 5.44l.94 2.06.94-2.06 2.06-.94-2.06-.94-.94-2.06-.94 2.06-2.06.94zm-11 1L8.5 8.5l.94-2.06 2.06-.94-2.06-.94L8.5 2.5l-.94 2.06-2.06.94zm10 10l.94 2.06.94-2.06 2.06-.94-2.06-.94-.94-2.06-.94 2.06-2.06.94z\"/><path d=\"M17.41 7.96l-1.37-1.37c-.4-.4-.92-.59-1.43-.59-.52 0-1.04.2-1.43.59L10.3 9.45l-7.72 7.72c-.78.78-.78 2.05 0 2.83L4 21.41c.39.39.9.59 1.41.59.51 0 1.02-.2 1.41-.59l7.78-7.78 2.81-2.81c.8-.78.8-2.07 0-2.86zM5.41 20L4 18.59l7.72-7.72 1.47 1.35L5.41 20z\"/>\n",
              "  </svg>\n",
              "      </button>\n",
              "      \n",
              "  <style>\n",
              "    .colab-df-container {\n",
              "      display:flex;\n",
              "      flex-wrap:wrap;\n",
              "      gap: 12px;\n",
              "    }\n",
              "\n",
              "    .colab-df-convert {\n",
              "      background-color: #E8F0FE;\n",
              "      border: none;\n",
              "      border-radius: 50%;\n",
              "      cursor: pointer;\n",
              "      display: none;\n",
              "      fill: #1967D2;\n",
              "      height: 32px;\n",
              "      padding: 0 0 0 0;\n",
              "      width: 32px;\n",
              "    }\n",
              "\n",
              "    .colab-df-convert:hover {\n",
              "      background-color: #E2EBFA;\n",
              "      box-shadow: 0px 1px 2px rgba(60, 64, 67, 0.3), 0px 1px 3px 1px rgba(60, 64, 67, 0.15);\n",
              "      fill: #174EA6;\n",
              "    }\n",
              "\n",
              "    [theme=dark] .colab-df-convert {\n",
              "      background-color: #3B4455;\n",
              "      fill: #D2E3FC;\n",
              "    }\n",
              "\n",
              "    [theme=dark] .colab-df-convert:hover {\n",
              "      background-color: #434B5C;\n",
              "      box-shadow: 0px 1px 3px 1px rgba(0, 0, 0, 0.15);\n",
              "      filter: drop-shadow(0px 1px 2px rgba(0, 0, 0, 0.3));\n",
              "      fill: #FFFFFF;\n",
              "    }\n",
              "  </style>\n",
              "\n",
              "      <script>\n",
              "        const buttonEl =\n",
              "          document.querySelector('#df-a492c3f2-c947-4314-a653-8e0635bccbc5 button.colab-df-convert');\n",
              "        buttonEl.style.display =\n",
              "          google.colab.kernel.accessAllowed ? 'block' : 'none';\n",
              "\n",
              "        async function convertToInteractive(key) {\n",
              "          const element = document.querySelector('#df-a492c3f2-c947-4314-a653-8e0635bccbc5');\n",
              "          const dataTable =\n",
              "            await google.colab.kernel.invokeFunction('convertToInteractive',\n",
              "                                                     [key], {});\n",
              "          if (!dataTable) return;\n",
              "\n",
              "          const docLinkHtml = 'Like what you see? Visit the ' +\n",
              "            '<a target=\"_blank\" href=https://colab.research.google.com/notebooks/data_table.ipynb>data table notebook</a>'\n",
              "            + ' to learn more about interactive tables.';\n",
              "          element.innerHTML = '';\n",
              "          dataTable['output_type'] = 'display_data';\n",
              "          await google.colab.output.renderOutput(dataTable, element);\n",
              "          const docLink = document.createElement('div');\n",
              "          docLink.innerHTML = docLinkHtml;\n",
              "          element.appendChild(docLink);\n",
              "        }\n",
              "      </script>\n",
              "    </div>\n",
              "  </div>\n",
              "  "
            ]
          },
          "metadata": {},
          "execution_count": 8
        }
      ]
    },
    {
      "cell_type": "code",
      "source": [
        "import matplotlib.pyplot as plt\n",
        "fig, axs = plt.subplots(1, 3, figsize=(16,4))\n",
        "train_data.groupby('categories')['headline'].count().plot.bar(ax=axs[0])\n",
        "val_data.groupby('categories')['headline'].count().plot.bar(ax=axs[1])\n",
        "test_data.groupby('categories')['headline'].count().plot.bar(ax=axs[2])"
      ],
      "metadata": {
        "colab": {
          "base_uri": "https://localhost:8080/",
          "height": 384
        },
        "id": "a73iTQWE1ary",
        "outputId": "80a4a400-0bd5-4d20-f33b-00718275e8b0"
      },
      "execution_count": 9,
      "outputs": [
        {
          "output_type": "execute_result",
          "data": {
            "text/plain": [
              "<matplotlib.axes._subplots.AxesSubplot at 0x7f1446ee3790>"
            ]
          },
          "metadata": {},
          "execution_count": 9
        },
        {
          "output_type": "display_data",
          "data": {
            "text/plain": [
              "<Figure size 1152x288 with 3 Axes>"
            ],
            "image/png": "[encoded data removed]"
          },
          "metadata": {
            "needs_background": "light"
          }
        }
      ]
    },
    {
      "cell_type": "code",
      "source": [
        "train_data[\"categories\"].unique()"
      ],
      "metadata": {
        "colab": {
          "base_uri": "https://localhost:8080/"
        },
        "id": "E_lcH8emMxiA",
        "outputId": "86466fc2-e59d-4764-86ee-93af5c338158"
      },
      "execution_count": 10,
      "outputs": [
        {
          "output_type": "execute_result",
          "data": {
            "text/plain": [
              "array([\"('جورنالات بلادي',)\", \"('كود سبور',)\", \"('تبركيك',)\", \"('آراء',)\",\n",
              "       \"('آش واقع',)\", \"('ميديا وثقافة',)\", \"('الزين والحداكة',)\"],\n",
              "      dtype=object)"
            ]
          },
          "metadata": {},
          "execution_count": 10
        }
      ]
    },
    {
      "cell_type": "code",
      "source": [
        "val_data[\"categories\"].unique()"
      ],
      "metadata": {
        "colab": {
          "base_uri": "https://localhost:8080/"
        },
        "id": "VSXYNdeHj8vR",
        "outputId": "8a447e7a-65bb-4a49-d964-d578af2ed36f"
      },
      "execution_count": null,
      "outputs": [
        {
          "output_type": "execute_result",
          "data": {
            "text/plain": [
              "array([\"('آش واقع',)\", \"('تبركيك',)\", \"('كود سبور',)\", \"('آراء',)\",\n",
              "       \"('ميديا وثقافة',)\", \"('جورنالات بلادي',)\", \"('الزين والحداكة',)\"],\n",
              "      dtype=object)"
            ]
          },
          "metadata": {},
          "execution_count": 11
        }
      ]
    },
    {
      "cell_type": "code",
      "source": [
        "test_data[\"categories\"].unique()"
      ],
      "metadata": {
        "colab": {
          "base_uri": "https://localhost:8080/"
        },
        "id": "B5diEdankBSw",
        "outputId": "f47222b6-d72e-4074-9067-9b9aca68d95e"
      },
      "execution_count": null,
      "outputs": [
        {
          "output_type": "execute_result",
          "data": {
            "text/plain": [
              "array([\"('جورنالات بلادي',)\", \"('ميديا وثقافة',)\", \"('تبركيك',)\",\n",
              "       \"('آش واقع',)\", \"('كود سبور',)\", \"('آراء',)\",\n",
              "       \"('الزين والحداكة',)\"], dtype=object)"
            ]
          },
          "metadata": {},
          "execution_count": 12
        }
      ]
    },
    {
      "cell_type": "code",
      "source": [
        "from sklearn.utils import resample\n",
        "\n",
        "def downsample(data, column, n_samples):\n",
        "\n",
        "  column_df = data[data[\"categories\"] == column]\n",
        "\n",
        "  data.drop(data[data[\"categories\"] == column].index, inplace=True)\n",
        "\n",
        "  column_downsampled = resample(column_df, replace=True, n_samples=n_samples, random_state=42)\n",
        "\n",
        "  data = pd.concat([column_downsampled, data], ignore_index=True).sort_index()\n",
        "\n",
        "  return data"
      ],
      "metadata": {
        "id": "Czum1Xcj1TFV"
      },
      "execution_count": 11,
      "outputs": []
    },
    {
      "cell_type": "code",
      "source": [
        "# for categ in train_data[\"categories\"].unique():\n",
        "#   if categ not in [\"('جورنالات بلادي',)\", \"('الزين والحداكة',)\"]:\n",
        "#     train_data = downsample(train_data, categ, 6000)"
      ],
      "metadata": {
        "id": "9zGgRR4g1fY4"
      },
      "execution_count": null,
      "outputs": []
    },
    {
      "cell_type": "code",
      "source": [
        "# for categ in val_data[\"categories\"].unique():\n",
        "#   val_data = downsample(val_data, categ, 100)"
      ],
      "metadata": {
        "id": "1TwEi0vB1iC1"
      },
      "execution_count": null,
      "outputs": []
    },
    {
      "cell_type": "code",
      "source": [
        "# for categ in test_data[\"categories\"].unique():\n",
        "#   test_data = downsample(test_data, categ, 100)"
      ],
      "metadata": {
        "id": "hXDtLzLl1izs"
      },
      "execution_count": null,
      "outputs": []
    },
    {
      "cell_type": "code",
      "source": [
        "fig, axs = plt.subplots(1, 3, figsize=(16,4))\n",
        "train_data.groupby('categories')['headline'].count().plot.bar(ax=axs[0])\n",
        "val_data.groupby('categories')['headline'].count().plot.bar(ax=axs[1])\n",
        "test_data.groupby('categories')['headline'].count().plot.bar(ax=axs[2])"
      ],
      "metadata": {
        "colab": {
          "base_uri": "https://localhost:8080/",
          "height": 384
        },
        "id": "avmhR7pZ1nYl",
        "outputId": "731872a9-fd10-4ef5-8eee-3a4c384330bf"
      },
      "execution_count": null,
      "outputs": [
        {
          "output_type": "execute_result",
          "data": {
            "text/plain": [
              "<matplotlib.axes._subplots.AxesSubplot at 0x7f468b3b1b10>"
            ]
          },
          "metadata": {},
          "execution_count": 18
        },
        {
          "output_type": "display_data",
          "data": {
            "text/plain": [
              "<Figure size 1152x288 with 3 Axes>"
            ],
            "image/png": "[encoded data removed]"
          },
          "metadata": {
            "needs_background": "light"
          }
        }
      ]
    },
    {
      "cell_type": "code",
      "source": [
        "def categ2label(categ):\n",
        "  labels_dict = {\n",
        "      \"('جورنالات بلادي',)\" : 0,\n",
        "      \"('كود سبور',)\" : 1,\n",
        "      \"('تبركيك',)\" : 2,\n",
        "      \"('آراء',)\" : 3,\n",
        "      \"('آش واقع',)\" : 4,\n",
        "      \"('ميديا وثقافة',)\" : 5,\n",
        "      \"('الزين والحداكة',)\" : 6,\n",
        "  }\n",
        "  return labels_dict[categ]"
      ],
      "metadata": {
        "id": "lUMcjWI0LBE8"
      },
      "execution_count": 12,
      "outputs": []
    },
    {
      "cell_type": "code",
      "source": [
        "train_data[\"label\"] = train_data[\"categories\"].apply(categ2label)\n",
        "val_data[\"label\"] = val_data[\"categories\"].apply(categ2label)\n",
        "test_data[\"label\"] = test_data[\"categories\"].apply(categ2label)"
      ],
      "metadata": {
        "id": "7Wv8qKOCUBxx"
      },
      "execution_count": 13,
      "outputs": []
    },
    {
      "cell_type": "code",
      "source": [
        "train_data"
      ],
      "metadata": {
        "colab": {
          "base_uri": "https://localhost:8080/",
          "height": 424
        },
        "id": "8Y36aOf5YZX_",
        "outputId": "630ed2aa-7ab6-49a5-c6b4-ee0e2a9906a3"
      },
      "execution_count": 14,
      "outputs": [
        {
          "output_type": "execute_result",
          "data": {
            "text/plain": [
              "                                                                                                                                                    headline  \\\n",
              "0                                                                                                             حكم ضد وزارة اعمارة بتعويض قدره 13 مليار لشركة   \n",
              "1                                                                                                              جلسة خاصة بين مدرب الأهلي ومهاجم الأسود أزارو   \n",
              "2                                                                                                       اعتقال مهاجم الريال رونالدو في فرنسا… وها علاش (صور)   \n",
              "3                                                                                                                      الأسود المحليين يستعدون للمربع الذهبي   \n",
              "4                                                                                                 الجديد.. ريحة ديال المازوط وليصونس لعشاق صوكَان وطوموبيلات   \n",
              "...                                                                                                                                                      ...   \n",
              "62005                                         واش دخلو الصهد؟. امحند العنصر لـ”كود”: مزال مقررت نترشح للأمانة العامة ديال الحركة الشعبية وها وقتاش غادي نقرر   \n",
              "62006                                                                                                             الفنانة المغربية ابتسام تسكت مطلوبة بوجدة‏   \n",
              "62007                                                                                             من بعد 15 العام.. تصوير تتمة فيلم “ماروك” لي كان نوض روينة   \n",
              "62008  جورنالات بلادي1. غموض يلف صرف 5 ملايير بمؤسسة الأعمال الاجتماعية بوزارة الصحة وأمن طنجة يعتقل زعيم عصابة بتهمة اختطاف زوجين واحتجازهما للمطالبة بفدية   \n",
              "62009                                                                                          ممارسة السياسة عبر الاحفاد. شباط يرد على بنكيران بإرضاع حفيده   \n",
              "\n",
              "                categories  label  \n",
              "0      ('جورنالات بلادي',)      0  \n",
              "1            ('كود سبور',)      1  \n",
              "2            ('كود سبور',)      1  \n",
              "3            ('كود سبور',)      1  \n",
              "4              ('تبركيك',)      2  \n",
              "...                    ...    ...  \n",
              "62005          ('تبركيك',)      2  \n",
              "62006  ('الزين والحداكة',)      6  \n",
              "62007    ('ميديا وثقافة',)      5  \n",
              "62008  ('جورنالات بلادي',)      0  \n",
              "62009          ('تبركيك',)      2  \n",
              "\n",
              "[62010 rows x 3 columns]"
            ],
            "text/html": [
              "\n",
              "  <div id=\"df-c56976d4-41a0-4f34-82e7-16fbe9329ee4\">\n",
              "    <div class=\"colab-df-container\">\n",
              "      <div>\n",
              "<style scoped>\n",
              "    .dataframe tbody tr th:only-of-type {\n",
              "        vertical-align: middle;\n",
              "    }\n",
              "\n",
              "    .dataframe tbody tr th {\n",
              "        vertical-align: top;\n",
              "    }\n",
              "\n",
              "    .dataframe thead th {\n",
              "        text-align: right;\n",
              "    }\n",
              "</style>\n",
              "<table border=\"1\" class=\"dataframe\">\n",
              "  <thead>\n",
              "    <tr style=\"text-align: right;\">\n",
              "      <th></th>\n",
              "      <th>headline</th>\n",
              "      <th>categories</th>\n",
              "      <th>label</th>\n",
              "    </tr>\n",
              "  </thead>\n",
              "  <tbody>\n",
              "    <tr>\n",
              "      <th>0</th>\n",
              "      <td>حكم ضد وزارة اعمارة بتعويض قدره 13 مليار لشركة</td>\n",
              "      <td>('جورنالات بلادي',)</td>\n",
              "      <td>0</td>\n",
              "    </tr>\n",
              "    <tr>\n",
              "      <th>1</th>\n",
              "      <td>جلسة خاصة بين مدرب الأهلي ومهاجم الأسود أزارو</td>\n",
              "      <td>('كود سبور',)</td>\n",
              "      <td>1</td>\n",
              "    </tr>\n",
              "    <tr>\n",
              "      <th>2</th>\n",
              "      <td>اعتقال مهاجم الريال رونالدو في فرنسا… وها علاش (صور)</td>\n",
              "      <td>('كود سبور',)</td>\n",
              "      <td>1</td>\n",
              "    </tr>\n",
              "    <tr>\n",
              "      <th>3</th>\n",
              "      <td>الأسود المحليين يستعدون للمربع الذهبي</td>\n",
              "      <td>('كود سبور',)</td>\n",
              "      <td>1</td>\n",
              "    </tr>\n",
              "    <tr>\n",
              "      <th>4</th>\n",
              "      <td>الجديد.. ريحة ديال المازوط وليصونس لعشاق صوكَان وطوموبيلات</td>\n",
              "      <td>('تبركيك',)</td>\n",
              "      <td>2</td>\n",
              "    </tr>\n",
              "    <tr>\n",
              "      <th>...</th>\n",
              "      <td>...</td>\n",
              "      <td>...</td>\n",
              "      <td>...</td>\n",
              "    </tr>\n",
              "    <tr>\n",
              "      <th>62005</th>\n",
              "      <td>واش دخلو الصهد؟. امحند العنصر لـ”كود”: مزال مقررت نترشح للأمانة العامة ديال الحركة الشعبية وها وقتاش غادي نقرر</td>\n",
              "      <td>('تبركيك',)</td>\n",
              "      <td>2</td>\n",
              "    </tr>\n",
              "    <tr>\n",
              "      <th>62006</th>\n",
              "      <td>الفنانة المغربية ابتسام تسكت مطلوبة بوجدة‏</td>\n",
              "      <td>('الزين والحداكة',)</td>\n",
              "      <td>6</td>\n",
              "    </tr>\n",
              "    <tr>\n",
              "      <th>62007</th>\n",
              "      <td>من بعد 15 العام.. تصوير تتمة فيلم “ماروك” لي كان نوض روينة</td>\n",
              "      <td>('ميديا وثقافة',)</td>\n",
              "      <td>5</td>\n",
              "    </tr>\n",
              "    <tr>\n",
              "      <th>62008</th>\n",
              "      <td>جورنالات بلادي1. غموض يلف صرف 5 ملايير بمؤسسة الأعمال الاجتماعية بوزارة الصحة وأمن طنجة يعتقل زعيم عصابة بتهمة اختطاف زوجين واحتجازهما للمطالبة بفدية</td>\n",
              "      <td>('جورنالات بلادي',)</td>\n",
              "      <td>0</td>\n",
              "    </tr>\n",
              "    <tr>\n",
              "      <th>62009</th>\n",
              "      <td>ممارسة السياسة عبر الاحفاد. شباط يرد على بنكيران بإرضاع حفيده</td>\n",
              "      <td>('تبركيك',)</td>\n",
              "      <td>2</td>\n",
              "    </tr>\n",
              "  </tbody>\n",
              "</table>\n",
              "<p>62010 rows × 3 columns</p>\n",
              "</div>\n",
              "      <button class=\"colab-df-convert\" onclick=\"convertToInteractive('df-c56976d4-41a0-4f34-82e7-16fbe9329ee4')\"\n",
              "              title=\"Convert this dataframe to an interactive table.\"\n",
              "              style=\"display:none;\">\n",
              "        \n",
              "  <svg xmlns=\"http://www.w3.org/2000/svg\" height=\"24px\"viewBox=\"0 0 24 24\"\n",
              "       width=\"24px\">\n",
              "    <path d=\"M0 0h24v24H0V0z\" fill=\"none\"/>\n",
              "    <path d=\"M18.56 5.44l.94 2.06.94-2.06 2.06-.94-2.06-.94-.94-2.06-.94 2.06-2.06.94zm-11 1L8.5 8.5l.94-2.06 2.06-.94-2.06-.94L8.5 2.5l-.94 2.06-2.06.94zm10 10l.94 2.06.94-2.06 2.06-.94-2.06-.94-.94-2.06-.94 2.06-2.06.94z\"/><path d=\"M17.41 7.96l-1.37-1.37c-.4-.4-.92-.59-1.43-.59-.52 0-1.04.2-1.43.59L10.3 9.45l-7.72 7.72c-.78.78-.78 2.05 0 2.83L4 21.41c.39.39.9.59 1.41.59.51 0 1.02-.2 1.41-.59l7.78-7.78 2.81-2.81c.8-.78.8-2.07 0-2.86zM5.41 20L4 18.59l7.72-7.72 1.47 1.35L5.41 20z\"/>\n",
              "  </svg>\n",
              "      </button>\n",
              "      \n",
              "  <style>\n",
              "    .colab-df-container {\n",
              "      display:flex;\n",
              "      flex-wrap:wrap;\n",
              "      gap: 12px;\n",
              "    }\n",
              "\n",
              "    .colab-df-convert {\n",
              "      background-color: #E8F0FE;\n",
              "      border: none;\n",
              "      border-radius: 50%;\n",
              "      cursor: pointer;\n",
              "      display: none;\n",
              "      fill: #1967D2;\n",
              "      height: 32px;\n",
              "      padding: 0 0 0 0;\n",
              "      width: 32px;\n",
              "    }\n",
              "\n",
              "    .colab-df-convert:hover {\n",
              "      background-color: #E2EBFA;\n",
              "      box-shadow: 0px 1px 2px rgba(60, 64, 67, 0.3), 0px 1px 3px 1px rgba(60, 64, 67, 0.15);\n",
              "      fill: #174EA6;\n",
              "    }\n",
              "\n",
              "    [theme=dark] .colab-df-convert {\n",
              "      background-color: #3B4455;\n",
              "      fill: #D2E3FC;\n",
              "    }\n",
              "\n",
              "    [theme=dark] .colab-df-convert:hover {\n",
              "      background-color: #434B5C;\n",
              "      box-shadow: 0px 1px 3px 1px rgba(0, 0, 0, 0.15);\n",
              "      filter: drop-shadow(0px 1px 2px rgba(0, 0, 0, 0.3));\n",
              "      fill: #FFFFFF;\n",
              "    }\n",
              "  </style>\n",
              "\n",
              "      <script>\n",
              "        const buttonEl =\n",
              "          document.querySelector('#df-c56976d4-41a0-4f34-82e7-16fbe9329ee4 button.colab-df-convert');\n",
              "        buttonEl.style.display =\n",
              "          google.colab.kernel.accessAllowed ? 'block' : 'none';\n",
              "\n",
              "        async function convertToInteractive(key) {\n",
              "          const element = document.querySelector('#df-c56976d4-41a0-4f34-82e7-16fbe9329ee4');\n",
              "          const dataTable =\n",
              "            await google.colab.kernel.invokeFunction('convertToInteractive',\n",
              "                                                     [key], {});\n",
              "          if (!dataTable) return;\n",
              "\n",
              "          const docLinkHtml = 'Like what you see? Visit the ' +\n",
              "            '<a target=\"_blank\" href=https://colab.research.google.com/notebooks/data_table.ipynb>data table notebook</a>'\n",
              "            + ' to learn more about interactive tables.';\n",
              "          element.innerHTML = '';\n",
              "          dataTable['output_type'] = 'display_data';\n",
              "          await google.colab.output.renderOutput(dataTable, element);\n",
              "          const docLink = document.createElement('div');\n",
              "          docLink.innerHTML = docLinkHtml;\n",
              "          element.appendChild(docLink);\n",
              "        }\n",
              "      </script>\n",
              "    </div>\n",
              "  </div>\n",
              "  "
            ]
          },
          "metadata": {},
          "execution_count": 14
        }
      ]
    },
    {
      "cell_type": "code",
      "source": [
        "train_headlines = train_data[\"headline\"]\n",
        "train_labels = train_data[\"label\"]\n",
        "val_headlines = val_data[\"headline\"]\n",
        "val_labels = val_data[\"label\"]\n",
        "test_headlines = test_data[\"headline\"]\n",
        "test_labels = test_data[\"label\"]"
      ],
      "metadata": {
        "id": "G-6EJbRBmGXH"
      },
      "execution_count": 15,
      "outputs": []
    },
    {
      "cell_type": "code",
      "source": [
        "%%capture\n",
        "from transformers import AutoTokenizer, AutoModelForSequenceClassification, Trainer, TrainingArguments\n",
        "tokenizer = AutoTokenizer.from_pretrained(\"SI2M-Lab/DarijaBERT\")"
      ],
      "metadata": {
        "id": "hgvNOyNMll5n"
      },
      "execution_count": 16,
      "outputs": []
    },
    {
      "cell_type": "code",
      "source": [
        "seq_len = [len(tokenizer.encode(i)) for i in train_headlines]\n",
        "\n",
        "pd.Series(seq_len).hist(bins = 30)"
      ],
      "metadata": {
        "colab": {
          "base_uri": "https://localhost:8080/",
          "height": 282
        },
        "id": "56WMCci3sgH1",
        "outputId": "4d35e840-87bb-4d54-ed6e-86fb26f87ac4"
      },
      "execution_count": 17,
      "outputs": [
        {
          "output_type": "execute_result",
          "data": {
            "text/plain": [
              "<matplotlib.axes._subplots.AxesSubplot at 0x7f13cb3d8b50>"
            ]
          },
          "metadata": {},
          "execution_count": 17
        },
        {
          "output_type": "display_data",
          "data": {
            "text/plain": [
              "<Figure size 432x288 with 1 Axes>"
            ],
            "image/png": "[encoded data removed]"
          },
          "metadata": {
            "needs_background": "light"
          }
        }
      ]
    },
    {
      "cell_type": "code",
      "source": [
        "seq_len = [len(tokenizer.encode(i)) for i in val_headlines]\n",
        "\n",
        "pd.Series(seq_len).hist(bins = 30)"
      ],
      "metadata": {
        "id": "DhPMaJpymq8b",
        "colab": {
          "base_uri": "https://localhost:8080/",
          "height": 282
        },
        "outputId": "e1e80cdb-d70c-4c0b-ec1c-bcc8e40d99ea"
      },
      "execution_count": 18,
      "outputs": [
        {
          "output_type": "execute_result",
          "data": {
            "text/plain": [
              "<matplotlib.axes._subplots.AxesSubplot at 0x7f13cb240c10>"
            ]
          },
          "metadata": {},
          "execution_count": 18
        },
        {
          "output_type": "display_data",
          "data": {
            "text/plain": [
              "<Figure size 432x288 with 1 Axes>"
            ],
            "image/png": "[encoded data removed]"
          },
          "metadata": {
            "needs_background": "light"
          }
        }
      ]
    },
    {
      "cell_type": "code",
      "source": [
        "seq_len = [len(tokenizer.encode(i)) for i in test_headlines]\n",
        "\n",
        "pd.Series(seq_len).hist(bins = 30)"
      ],
      "metadata": {
        "id": "OZLYHgyEmty7",
        "colab": {
          "base_uri": "https://localhost:8080/",
          "height": 282
        },
        "outputId": "0a29256c-1f0b-4ef4-abd7-cc4ec09d3177"
      },
      "execution_count": 19,
      "outputs": [
        {
          "output_type": "execute_result",
          "data": {
            "text/plain": [
              "<matplotlib.axes._subplots.AxesSubplot at 0x7f13cb1a3590>"
            ]
          },
          "metadata": {},
          "execution_count": 19
        },
        {
          "output_type": "display_data",
          "data": {
            "text/plain": [
              "<Figure size 432x288 with 1 Axes>"
            ],
            "image/png": "[encoded data removed]"
          },
          "metadata": {
            "needs_background": "light"
          }
        }
      ]
    },
    {
      "cell_type": "code",
      "source": [
        "fig, axs = plt.subplots(1, 3, figsize=(16,4))\n",
        "seq_len_train = [len(tokenizer.encode(i)) for i in train_headlines]\n",
        "seq_len_val = [len(tokenizer.encode(i)) for i in val_headlines]\n",
        "seq_len_test = [len(tokenizer.encode(i)) for i in test_headlines]\n",
        "\n",
        "pd.Series(seq_len_train).plot(kind='hist', ax=axs[0], title='training data', xlabel='sequence length', ylabel='number of articles', bins=30)\n",
        "pd.Series(seq_len_val).plot(kind='hist', ax=axs[1], title='validation data', xlabel='sequence length', ylabel='number of articles', bins=30)\n",
        "pd.Series(seq_len_test).plot(kind='hist', ax=axs[2], title='test data', xlabel='sequence length', ylabel='number of articles', bins=30)"
      ],
      "metadata": {
        "colab": {
          "base_uri": "https://localhost:8080/",
          "height": 298
        },
        "id": "8vyX6CDjFjta",
        "outputId": "04a99b97-86bd-4652-a5ac-cdb063d296cb"
      },
      "execution_count": 25,
      "outputs": [
        {
          "output_type": "execute_result",
          "data": {
            "text/plain": [
              "<matplotlib.axes._subplots.AxesSubplot at 0x7f13caf17610>"
            ]
          },
          "metadata": {},
          "execution_count": 25
        },
        {
          "output_type": "display_data",
          "data": {
            "text/plain": [
              "<Figure size 1152x288 with 3 Axes>"
            ],
            "image/png": "[encoded data removed]"
          },
          "metadata": {
            "needs_background": "light"
          }
        }
      ]
    },
    {
      "cell_type": "code",
      "source": [
        "max_seq_len = 40\n",
        "\n",
        "train_encodings = tokenizer(train_headlines.to_list(), truncation=True, padding=True, max_length=max_seq_len)\n",
        "val_encodings = tokenizer(val_headlines.to_list(), truncation=True, padding=True, max_length=max_seq_len)\n",
        "test_encodings = tokenizer(test_headlines.to_list(), truncation=True, padding=True, max_length=max_seq_len)"
      ],
      "metadata": {
        "id": "ORh08qVeiBC8"
      },
      "execution_count": 26,
      "outputs": []
    },
    {
      "cell_type": "code",
      "source": [
        "class ArticleDataset(Dataset):\n",
        "    def __init__(self, encodings, labels):\n",
        "        self.encodings = encodings\n",
        "        self.labels = labels.to_list()\n",
        "\n",
        "    def __getitem__(self, idx):\n",
        "        item = {key: torch.tensor(val[idx]) for key, val in self.encodings.items()}\n",
        "        item['labels'] = torch.tensor(self.labels[idx])\n",
        "        return item\n",
        "\n",
        "    def __len__(self):\n",
        "        return len(self.labels)\n",
        "\n",
        "train_dataset = ArticleDataset(train_encodings, train_labels)\n",
        "val_dataset = ArticleDataset(val_encodings, val_labels)\n",
        "test_dataset = ArticleDataset(test_encodings, test_labels)"
      ],
      "metadata": {
        "id": "8oBhml2dpDyB"
      },
      "execution_count": 27,
      "outputs": []
    },
    {
      "cell_type": "code",
      "source": [
        "from sklearn.metrics import precision_recall_fscore_support, accuracy_score\n",
        "\n",
        "def compute_metrics(pred):\n",
        "    labels = pred.label_ids\n",
        "    preds = pred.predictions.argmax(-1)\n",
        "    precision, recall, f1, _ = precision_recall_fscore_support(labels, preds, average='weighted')\n",
        "    acc = accuracy_score(labels, preds)\n",
        "    return {\n",
        "        'accuracy': acc,\n",
        "        'f1': f1,\n",
        "        'precision': precision,\n",
        "        'recall': recall\n",
        "    }"
      ],
      "metadata": {
        "id": "C5QvKpDkpcfQ"
      },
      "execution_count": 28,
      "outputs": []
    },
    {
      "cell_type": "code",
      "source": [
        "%%capture\n",
        "model = AutoModelForSequenceClassification.from_pretrained(\"SI2M-Lab/DarijaBERT\", num_labels=7)"
      ],
      "metadata": {
        "id": "ugosYXuce1ZZ"
      },
      "execution_count": 29,
      "outputs": []
    },
    {
      "cell_type": "code",
      "source": [
        "training_args = TrainingArguments(\n",
        "    output_dir='drive/MyDrive/Internship/code/results_MAD',          # output directory\n",
        "    num_train_epochs=5,              # total number of training epochs\n",
        "    per_device_train_batch_size=32,  # batch size per device during training\n",
        "    per_device_eval_batch_size=64,   # batch size for evaluation\n",
        "    warmup_steps=500,                # number of warmup steps for learning rate scheduler\n",
        "    weight_decay=0.01,               # strength of weight decay\n",
        "    evaluation_strategy='epoch',     # evaluate at the end of each epoch\n",
        "    logging_strategy='epoch',        # log at the end of each epoch\n",
        "    save_strategy='epoch', \n",
        "    overwrite_output_dir=True,\n",
        "    save_total_limit=3,\n",
        "    seed=42,\n",
        "    data_seed=42\n",
        "    )\n",
        "\n",
        "trainer = Trainer(\n",
        "    model=model,                         # the instantiated Transformers model \n",
        "    args=training_args,                  # training arguments\n",
        "    train_dataset=train_dataset,         # training dataset\n",
        "    eval_dataset=val_dataset,            # evaluation dataset\n",
        "    compute_metrics=compute_metrics      # method we defined before to compute our metrics\n",
        "    )"
      ],
      "metadata": {
        "id": "ZJMRyvQWfsg2"
      },
      "execution_count": 30,
      "outputs": []
    },
    {
      "cell_type": "code",
      "source": [
        "trainer.train()"
      ],
      "metadata": {
        "id": "vvqfLDnDFSDn",
        "colab": {
          "base_uri": "https://localhost:8080/",
          "height": 322
        },
        "outputId": "d7fecc15-79e3-4458-9dd8-5012fde2222b"
      },
      "execution_count": 31,
      "outputs": [
        {
          "output_type": "stream",
          "name": "stderr",
          "text": [
            "/usr/local/lib/python3.7/dist-packages/transformers/optimization.py:310: FutureWarning: This implementation of AdamW is deprecated and will be removed in a future version. Use the PyTorch implementation torch.optim.AdamW instead, or set `no_deprecation_warning=True` to disable this warning\n",
            "  FutureWarning,\n"
          ]
        },
        {
          "output_type": "display_data",
          "data": {
            "text/plain": [
              "<IPython.core.display.HTML object>"
            ],
            "text/html": [
              "\n",
              "    <div>\n",
              "      \n",
              "      <progress value='9690' max='9690' style='width:300px; height:20px; vertical-align: middle;'></progress>\n",
              "      [9690/9690 44:05, Epoch 5/5]\n",
              "    </div>\n",
              "    <table border=\"1\" class=\"dataframe\">\n",
              "  <thead>\n",
              " <tr style=\"text-align: left;\">\n",
              "      <th>Epoch</th>\n",
              "      <th>Training Loss</th>\n",
              "      <th>Validation Loss</th>\n",
              "      <th>Accuracy</th>\n",
              "      <th>F1</th>\n",
              "      <th>Precision</th>\n",
              "      <th>Recall</th>\n",
              "    </tr>\n",
              "  </thead>\n",
              "  <tbody>\n",
              "    <tr>\n",
              "      <td>1</td>\n",
              "      <td>0.870000</td>\n",
              "      <td>0.706453</td>\n",
              "      <td>0.740392</td>\n",
              "      <td>0.740433</td>\n",
              "      <td>0.747473</td>\n",
              "      <td>0.740392</td>\n",
              "    </tr>\n",
              "    <tr>\n",
              "      <td>2</td>\n",
              "      <td>0.508300</td>\n",
              "      <td>0.722192</td>\n",
              "      <td>0.761663</td>\n",
              "      <td>0.764031</td>\n",
              "      <td>0.773297</td>\n",
              "      <td>0.761663</td>\n",
              "    </tr>\n",
              "    <tr>\n",
              "      <td>3</td>\n",
              "      <td>0.270000</td>\n",
              "      <td>0.867406</td>\n",
              "      <td>0.762630</td>\n",
              "      <td>0.763553</td>\n",
              "      <td>0.768703</td>\n",
              "      <td>0.762630</td>\n",
              "    </tr>\n",
              "    <tr>\n",
              "      <td>4</td>\n",
              "      <td>0.126900</td>\n",
              "      <td>1.109590</td>\n",
              "      <td>0.760696</td>\n",
              "      <td>0.760613</td>\n",
              "      <td>0.763140</td>\n",
              "      <td>0.760696</td>\n",
              "    </tr>\n",
              "    <tr>\n",
              "      <td>5</td>\n",
              "      <td>0.058600</td>\n",
              "      <td>1.373521</td>\n",
              "      <td>0.765047</td>\n",
              "      <td>0.765381</td>\n",
              "      <td>0.766977</td>\n",
              "      <td>0.765047</td>\n",
              "    </tr>\n",
              "  </tbody>\n",
              "</table><p>"
            ]
          },
          "metadata": {}
        },
        {
          "output_type": "execute_result",
          "data": {
            "text/plain": [
              "TrainOutput(global_step=9690, training_loss=0.3667705831143878, metrics={'train_runtime': 2646.1139, 'train_samples_per_second': 117.172, 'train_steps_per_second': 3.662, 'total_flos': 6373534763700000.0, 'train_loss': 0.3667705831143878, 'epoch': 5.0})"
            ]
          },
          "metadata": {},
          "execution_count": 31
        }
      ]
    },
    {
      "cell_type": "code",
      "source": [
        "predictions, label_ids, metrics = trainer.predict(test_dataset)"
      ],
      "metadata": {
        "id": "bN7Tk3Sa8rRP",
        "colab": {
          "base_uri": "https://localhost:8080/",
          "height": 37
        },
        "outputId": "cff5be0f-f89f-4905-ace5-53ef658025b4"
      },
      "execution_count": 32,
      "outputs": [
        {
          "output_type": "display_data",
          "data": {
            "text/plain": [
              "<IPython.core.display.HTML object>"
            ],
            "text/html": [
              "\n",
              "    <div>\n",
              "      \n",
              "      <progress value='65' max='65' style='width:300px; height:20px; vertical-align: middle;'></progress>\n",
              "      [65/65 00:08]\n",
              "    </div>\n",
              "    "
            ]
          },
          "metadata": {}
        }
      ]
    },
    {
      "cell_type": "code",
      "source": [
        "metrics"
      ],
      "metadata": {
        "colab": {
          "base_uri": "https://localhost:8080/"
        },
        "id": "CxThTnv4eEKZ",
        "outputId": "8cc2cf75-8c07-4b12-ac9d-9a044e14e8ad"
      },
      "execution_count": 33,
      "outputs": [
        {
          "output_type": "execute_result",
          "data": {
            "text/plain": [
              "{'test_accuracy': 0.7554691298006806,\n",
              " 'test_f1': 0.7558971060734914,\n",
              " 'test_loss': 1.4504857063293457,\n",
              " 'test_precision': 0.757768356824816,\n",
              " 'test_recall': 0.7554691298006806,\n",
              " 'test_runtime': 9.1065,\n",
              " 'test_samples_per_second': 451.767,\n",
              " 'test_steps_per_second': 7.138}"
            ]
          },
          "metadata": {},
          "execution_count": 33
        }
      ]
    },
    {
      "cell_type": "code",
      "source": [
        "y_pred = np.argmax(predictions, axis=1)\n",
        "y_true = test_labels.to_numpy()"
      ],
      "metadata": {
        "id": "zZ1r5CWqeI8Z"
      },
      "execution_count": 34,
      "outputs": []
    },
    {
      "cell_type": "code",
      "source": [
        "y_true = test_labels.to_numpy()"
      ],
      "metadata": {
        "id": "kXkYKXwcfRzH"
      },
      "execution_count": 35,
      "outputs": []
    },
    {
      "cell_type": "code",
      "source": [
        "from sklearn.metrics import confusion_matrix\n",
        "cf_matrix = confusion_matrix(y_true, y_pred)"
      ],
      "metadata": {
        "id": "RMy3AcWBPxIT"
      },
      "execution_count": 36,
      "outputs": []
    },
    {
      "cell_type": "code",
      "source": [
        "import seaborn as sns\n",
        "sns.heatmap(cf_matrix, annot=True)"
      ],
      "metadata": {
        "colab": {
          "base_uri": "https://localhost:8080/",
          "height": 282
        },
        "id": "Nv4FwwDGgZgi",
        "outputId": "b5da715c-3fd5-4902-d55b-c6be855626bb"
      },
      "execution_count": 37,
      "outputs": [
        {
          "output_type": "execute_result",
          "data": {
            "text/plain": [
              "<matplotlib.axes._subplots.AxesSubplot at 0x7f13c1d267d0>"
            ]
          },
          "metadata": {},
          "execution_count": 37
        },
        {
          "output_type": "display_data",
          "data": {
            "text/plain": [
              "<Figure size 432x288 with 2 Axes>"
            ],
            "image/png": "[encoded data removed]"
          },
          "metadata": {
            "needs_background": "light"
          }
        }
      ]
    },
    {
      "cell_type": "code",
      "source": [
        "def categ2label(categ):\n",
        "  labels_dict = {\n",
        "      \"('جورنالات بلادي',)\" : 0,\n",
        "      \"('كود سبور',)\" : 1,\n",
        "      \"('تبركيك',)\" : 2,\n",
        "      \"('آراء',)\" : 3,\n",
        "      \"('آش واقع',)\" : 4,\n",
        "      \"('ميديا وثقافة',)\" : 5,\n",
        "      \"('الزين والحداكة',)\" : 6,\n",
        "  }\n",
        "  return labels_dict[categ]"
      ],
      "metadata": {
        "id": "M3kGAgvFlP8n"
      },
      "execution_count": null,
      "outputs": []
    }
  ]
}