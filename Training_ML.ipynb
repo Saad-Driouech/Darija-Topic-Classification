{
  "nbformat": 4,
  "nbformat_minor": 0,
  "metadata": {
    "colab": {
      "name": "Training ML.ipynb",
      "provenance": [],
      "collapsed_sections": []
    },
    "kernelspec": {
      "name": "python3",
      "display_name": "Python 3"
    },
    "language_info": {
      "name": "python"
    },
    "gpuClass": "standard"
  },
  "cells": [
    {
      "cell_type": "code",
      "source": [
        "from google.colab import drive\n",
        "drive.mount('drive')"
      ],
      "metadata": {
        "colab": {
          "base_uri": "https://localhost:8080/"
        },
        "id": "7_eTLo4TST3h",
        "outputId": "54667bd0-2288-4136-bd05-657a22c390d6"
      },
      "execution_count": 1,
      "outputs": [
        {
          "output_type": "stream",
          "name": "stdout",
          "text": [
            "Mounted at drive\n"
          ]
        }
      ]
    },
    {
      "cell_type": "code",
      "execution_count": 2,
      "metadata": {
        "id": "kmuNNRpDlHzK"
      },
      "outputs": [],
      "source": [
        "import pandas as pd"
      ]
    },
    {
      "cell_type": "code",
      "source": [
        "train_data = pd.read_csv(\"drive/MyDrive/Internship/datasets/Goud/train_preprocessed.csv\")\n",
        "val_data = pd.read_csv(\"drive/MyDrive/Internship/datasets/Goud/validation_preprocessed.csv\")\n",
        "test_data = pd.read_csv(\"drive/MyDrive/Internship/datasets/Goud/test_preprocessed.csv\")"
      ],
      "metadata": {
        "id": "D8Utvjv3SWKF"
      },
      "execution_count": 3,
      "outputs": []
    },
    {
      "cell_type": "code",
      "source": [
        "pd.set_option('display.max_colwidth', None)"
      ],
      "metadata": {
        "id": "sz8v5xlGL9pW"
      },
      "execution_count": null,
      "outputs": []
    },
    {
      "cell_type": "code",
      "source": [
        "train_data"
      ],
      "metadata": {
        "colab": {
          "base_uri": "https://localhost:8080/",
          "height": 424
        },
        "id": "vOa79oVnUktb",
        "outputId": "3d5a3257-55fd-4021-8293-156fbcf1abc8"
      },
      "execution_count": null,
      "outputs": [
        {
          "output_type": "execute_result",
          "data": {
            "text/plain": [
              "                                                                                                                                                   headline  \\\n",
              "0                                                                                                            حكم ضد وزاره اعماره بتعويض قدره 13 مليار لشركه   \n",
              "1                                                                                                        اعتقال مهاجم الريال رونالدو في فرنسا وها علاش صور    \n",
              "2                                                                                                        اعتقال مهاجم الريال رونالدو في فرنسا وها علاش صور    \n",
              "3                                                                                                                     الاسود المحليين يستعدون للمربع الذهبي   \n",
              "4                                                                   تحليل هذه ابرز النقط الضائعه في قضيه القتل بمراكش والتي تجعل الجريمه غامضه لحدود الساعه   \n",
              "...                                                                                                                                                     ...   \n",
              "38659                                                                                                            الكبير لن يستطيع تلبيه دعوه غيريتس للمنتخب   \n",
              "38660                                                                                                                       سلمي رشيد ضيفه خيمه رمضان بدبي    \n",
              "38661                                                                                                            الفنانه المغربيه ابتسام تسكت مطلوبه بوجده    \n",
              "38662                                                                                                من بعد 15 العام تصوير تتمه فيلم ماروك لي كان نوض روينه   \n",
              "38663  جورنالات بلادي1 غموض يلف صرف 5 ملايير بمؤسسه الاعمال الاجتماعيه بوزاره الصحه وامن طنجه يعتقل زعيم عصابه بتهمه اختطاف زوجين واحتجازهما للمطالبه بفديه   \n",
              "\n",
              "                categories  \n",
              "0      ('جورنالات بلادي',)  \n",
              "1            ('كود سبور',)  \n",
              "2            ('كود سبور',)  \n",
              "3            ('كود سبور',)  \n",
              "4                ('آراء',)  \n",
              "...                    ...  \n",
              "38659         ('آش واقع',)  \n",
              "38660    ('ميديا وثقافة',)  \n",
              "38661  ('الزين والحداكة',)  \n",
              "38662    ('ميديا وثقافة',)  \n",
              "38663  ('جورنالات بلادي',)  \n",
              "\n",
              "[38664 rows x 2 columns]"
            ],
            "text/html": [
              "\n",
              "  <div id=\"df-778515fd-92a4-429d-adf6-f90674bbf21a\">\n",
              "    <div class=\"colab-df-container\">\n",
              "      <div>\n",
              "<style scoped>\n",
              "    .dataframe tbody tr th:only-of-type {\n",
              "        vertical-align: middle;\n",
              "    }\n",
              "\n",
              "    .dataframe tbody tr th {\n",
              "        vertical-align: top;\n",
              "    }\n",
              "\n",
              "    .dataframe thead th {\n",
              "        text-align: right;\n",
              "    }\n",
              "</style>\n",
              "<table border=\"1\" class=\"dataframe\">\n",
              "  <thead>\n",
              "    <tr style=\"text-align: right;\">\n",
              "      <th></th>\n",
              "      <th>headline</th>\n",
              "      <th>categories</th>\n",
              "    </tr>\n",
              "  </thead>\n",
              "  <tbody>\n",
              "    <tr>\n",
              "      <th>0</th>\n",
              "      <td>حكم ضد وزاره اعماره بتعويض قدره 13 مليار لشركه</td>\n",
              "      <td>('جورنالات بلادي',)</td>\n",
              "    </tr>\n",
              "    <tr>\n",
              "      <th>1</th>\n",
              "      <td>اعتقال مهاجم الريال رونالدو في فرنسا وها علاش صور</td>\n",
              "      <td>('كود سبور',)</td>\n",
              "    </tr>\n",
              "    <tr>\n",
              "      <th>2</th>\n",
              "      <td>اعتقال مهاجم الريال رونالدو في فرنسا وها علاش صور</td>\n",
              "      <td>('كود سبور',)</td>\n",
              "    </tr>\n",
              "    <tr>\n",
              "      <th>3</th>\n",
              "      <td>الاسود المحليين يستعدون للمربع الذهبي</td>\n",
              "      <td>('كود سبور',)</td>\n",
              "    </tr>\n",
              "    <tr>\n",
              "      <th>4</th>\n",
              "      <td>تحليل هذه ابرز النقط الضائعه في قضيه القتل بمراكش والتي تجعل الجريمه غامضه لحدود الساعه</td>\n",
              "      <td>('آراء',)</td>\n",
              "    </tr>\n",
              "    <tr>\n",
              "      <th>...</th>\n",
              "      <td>...</td>\n",
              "      <td>...</td>\n",
              "    </tr>\n",
              "    <tr>\n",
              "      <th>38659</th>\n",
              "      <td>الكبير لن يستطيع تلبيه دعوه غيريتس للمنتخب</td>\n",
              "      <td>('آش واقع',)</td>\n",
              "    </tr>\n",
              "    <tr>\n",
              "      <th>38660</th>\n",
              "      <td>سلمي رشيد ضيفه خيمه رمضان بدبي</td>\n",
              "      <td>('ميديا وثقافة',)</td>\n",
              "    </tr>\n",
              "    <tr>\n",
              "      <th>38661</th>\n",
              "      <td>الفنانه المغربيه ابتسام تسكت مطلوبه بوجده</td>\n",
              "      <td>('الزين والحداكة',)</td>\n",
              "    </tr>\n",
              "    <tr>\n",
              "      <th>38662</th>\n",
              "      <td>من بعد 15 العام تصوير تتمه فيلم ماروك لي كان نوض روينه</td>\n",
              "      <td>('ميديا وثقافة',)</td>\n",
              "    </tr>\n",
              "    <tr>\n",
              "      <th>38663</th>\n",
              "      <td>جورنالات بلادي1 غموض يلف صرف 5 ملايير بمؤسسه الاعمال الاجتماعيه بوزاره الصحه وامن طنجه يعتقل زعيم عصابه بتهمه اختطاف زوجين واحتجازهما للمطالبه بفديه</td>\n",
              "      <td>('جورنالات بلادي',)</td>\n",
              "    </tr>\n",
              "  </tbody>\n",
              "</table>\n",
              "<p>38664 rows × 2 columns</p>\n",
              "</div>\n",
              "      <button class=\"colab-df-convert\" onclick=\"convertToInteractive('df-778515fd-92a4-429d-adf6-f90674bbf21a')\"\n",
              "              title=\"Convert this dataframe to an interactive table.\"\n",
              "              style=\"display:none;\">\n",
              "        \n",
              "  <svg xmlns=\"http://www.w3.org/2000/svg\" height=\"24px\"viewBox=\"0 0 24 24\"\n",
              "       width=\"24px\">\n",
              "    <path d=\"M0 0h24v24H0V0z\" fill=\"none\"/>\n",
              "    <path d=\"M18.56 5.44l.94 2.06.94-2.06 2.06-.94-2.06-.94-.94-2.06-.94 2.06-2.06.94zm-11 1L8.5 8.5l.94-2.06 2.06-.94-2.06-.94L8.5 2.5l-.94 2.06-2.06.94zm10 10l.94 2.06.94-2.06 2.06-.94-2.06-.94-.94-2.06-.94 2.06-2.06.94z\"/><path d=\"M17.41 7.96l-1.37-1.37c-.4-.4-.92-.59-1.43-.59-.52 0-1.04.2-1.43.59L10.3 9.45l-7.72 7.72c-.78.78-.78 2.05 0 2.83L4 21.41c.39.39.9.59 1.41.59.51 0 1.02-.2 1.41-.59l7.78-7.78 2.81-2.81c.8-.78.8-2.07 0-2.86zM5.41 20L4 18.59l7.72-7.72 1.47 1.35L5.41 20z\"/>\n",
              "  </svg>\n",
              "      </button>\n",
              "      \n",
              "  <style>\n",
              "    .colab-df-container {\n",
              "      display:flex;\n",
              "      flex-wrap:wrap;\n",
              "      gap: 12px;\n",
              "    }\n",
              "\n",
              "    .colab-df-convert {\n",
              "      background-color: #E8F0FE;\n",
              "      border: none;\n",
              "      border-radius: 50%;\n",
              "      cursor: pointer;\n",
              "      display: none;\n",
              "      fill: #1967D2;\n",
              "      height: 32px;\n",
              "      padding: 0 0 0 0;\n",
              "      width: 32px;\n",
              "    }\n",
              "\n",
              "    .colab-df-convert:hover {\n",
              "      background-color: #E2EBFA;\n",
              "      box-shadow: 0px 1px 2px rgba(60, 64, 67, 0.3), 0px 1px 3px 1px rgba(60, 64, 67, 0.15);\n",
              "      fill: #174EA6;\n",
              "    }\n",
              "\n",
              "    [theme=dark] .colab-df-convert {\n",
              "      background-color: #3B4455;\n",
              "      fill: #D2E3FC;\n",
              "    }\n",
              "\n",
              "    [theme=dark] .colab-df-convert:hover {\n",
              "      background-color: #434B5C;\n",
              "      box-shadow: 0px 1px 3px 1px rgba(0, 0, 0, 0.15);\n",
              "      filter: drop-shadow(0px 1px 2px rgba(0, 0, 0, 0.3));\n",
              "      fill: #FFFFFF;\n",
              "    }\n",
              "  </style>\n",
              "\n",
              "      <script>\n",
              "        const buttonEl =\n",
              "          document.querySelector('#df-778515fd-92a4-429d-adf6-f90674bbf21a button.colab-df-convert');\n",
              "        buttonEl.style.display =\n",
              "          google.colab.kernel.accessAllowed ? 'block' : 'none';\n",
              "\n",
              "        async function convertToInteractive(key) {\n",
              "          const element = document.querySelector('#df-778515fd-92a4-429d-adf6-f90674bbf21a');\n",
              "          const dataTable =\n",
              "            await google.colab.kernel.invokeFunction('convertToInteractive',\n",
              "                                                     [key], {});\n",
              "          if (!dataTable) return;\n",
              "\n",
              "          const docLinkHtml = 'Like what you see? Visit the ' +\n",
              "            '<a target=\"_blank\" href=https://colab.research.google.com/notebooks/data_table.ipynb>data table notebook</a>'\n",
              "            + ' to learn more about interactive tables.';\n",
              "          element.innerHTML = '';\n",
              "          dataTable['output_type'] = 'display_data';\n",
              "          await google.colab.output.renderOutput(dataTable, element);\n",
              "          const docLink = document.createElement('div');\n",
              "          docLink.innerHTML = docLinkHtml;\n",
              "          element.appendChild(docLink);\n",
              "        }\n",
              "      </script>\n",
              "    </div>\n",
              "  </div>\n",
              "  "
            ]
          },
          "metadata": {},
          "execution_count": 4
        }
      ]
    },
    {
      "cell_type": "code",
      "source": [
        "import matplotlib.pyplot as plt\n",
        "fig, axs = plt.subplots(1, 3, figsize=(16,4))\n",
        "train_data.groupby('categories')['headline'].count().plot.bar(ax=axs[0])\n",
        "val_data.groupby('categories')['headline'].count().plot.bar(ax=axs[1])\n",
        "test_data.groupby('categories')['headline'].count().plot.bar(ax=axs[2])"
      ],
      "metadata": {
        "colab": {
          "base_uri": "https://localhost:8080/",
          "height": 384
        },
        "id": "-GlJNUPaWZVq",
        "outputId": "c0053e51-d72b-4e58-c21c-91f5fbf897b4"
      },
      "execution_count": 13,
      "outputs": [
        {
          "output_type": "execute_result",
          "data": {
            "text/plain": [
              "<matplotlib.axes._subplots.AxesSubplot at 0x7f8b66490090>"
            ]
          },
          "metadata": {},
          "execution_count": 13
        },
        {
          "output_type": "display_data",
          "data": {
            "text/plain": [
              "<Figure size 1152x288 with 3 Axes>"
            ],
            "image/png": "[encoded data removed]"
          },
          "metadata": {
            "needs_background": "light"
          }
        }
      ]
    },
    {
      "cell_type": "code",
      "source": [
        "from sklearn.utils import resample\n",
        "\n",
        "def downsample(data, column, n_samples):\n",
        "\n",
        "  column_df = data[data[\"categories\"] == column]\n",
        "\n",
        "  data.drop(data[data[\"categories\"] == column].index, inplace=True)\n",
        "\n",
        "  column_downsampled = resample(column_df, replace=True, n_samples=n_samples, random_state=42)\n",
        "\n",
        "  data = pd.concat([column_downsampled, data]).sort_index()\n",
        "\n",
        "  return data"
      ],
      "metadata": {
        "id": "DjrtoCgrG7ga"
      },
      "execution_count": 4,
      "outputs": []
    },
    {
      "cell_type": "code",
      "source": [
        "for categ in train_data[\"categories\"].unique():\n",
        "  train_data = downsample(train_data, categ, 500)"
      ],
      "metadata": {
        "id": "bm2QaQOkQD0R"
      },
      "execution_count": 5,
      "outputs": []
    },
    {
      "cell_type": "code",
      "source": [
        "for categ in val_data[\"categories\"].unique():\n",
        "  val_data = downsample(val_data, categ, 250)"
      ],
      "metadata": {
        "id": "uWfaBqx4c8lV"
      },
      "execution_count": 6,
      "outputs": []
    },
    {
      "cell_type": "code",
      "source": [
        "for categ in test_data[\"categories\"].unique():\n",
        "  test_data = downsample(test_data, categ, 250)"
      ],
      "metadata": {
        "id": "6dWu7nvMc1-N"
      },
      "execution_count": 7,
      "outputs": []
    },
    {
      "cell_type": "code",
      "source": [
        "fig, axs = plt.subplots(1, 3, figsize=(16,4))\n",
        "train_data.groupby('categories')['headline'].count().plot.bar(ax=axs[0])\n",
        "val_data.groupby('categories')['headline'].count().plot.bar(ax=axs[1])\n",
        "test_data.groupby('categories')['headline'].count().plot.bar(ax=axs[2])"
      ],
      "metadata": {
        "colab": {
          "base_uri": "https://localhost:8080/",
          "height": 384
        },
        "id": "EtKfcO6KLI9u",
        "outputId": "66e8c025-84e2-4f43-b9f9-86ec47bb9260"
      },
      "execution_count": null,
      "outputs": [
        {
          "output_type": "execute_result",
          "data": {
            "text/plain": [
              "<matplotlib.axes._subplots.AxesSubplot at 0x7f7c093c23d0>"
            ]
          },
          "metadata": {},
          "execution_count": 9
        },
        {
          "output_type": "display_data",
          "data": {
            "text/plain": [
              "<Figure size 1152x288 with 3 Axes>"
            ],
            "image/png": "[encoded data removed]"
          },
          "metadata": {
            "needs_background": "light"
          }
        }
      ]
    },
    {
      "cell_type": "code",
      "source": [
        "def categ2label(categ):\n",
        "  labels_dict = {\n",
        "      \"('جورنالات بلادي',)\" : 0,\n",
        "      \"('كود سبور',)\" : 1,\n",
        "      \"('تبركيك',)\" : 2,\n",
        "      \"('آراء',)\" : 3,\n",
        "      \"('آش واقع',)\" : 4,\n",
        "      \"('ميديا وثقافة',)\" : 5,\n",
        "      \"('الزين والحداكة',)\" : 6,\n",
        "  }\n",
        "  return labels_dict[categ]"
      ],
      "metadata": {
        "id": "tDT5c4qlXkAn"
      },
      "execution_count": 8,
      "outputs": []
    },
    {
      "cell_type": "code",
      "source": [
        "train_data[\"label\"] = train_data[\"categories\"].apply(categ2label)\n",
        "val_data[\"label\"] = val_data[\"categories\"].apply(categ2label)\n",
        "test_data[\"label\"] = test_data[\"categories\"].apply(categ2label)"
      ],
      "metadata": {
        "id": "-9Dxq0QFXkhq"
      },
      "execution_count": 9,
      "outputs": []
    },
    {
      "cell_type": "code",
      "source": [
        "train_data"
      ],
      "metadata": {
        "colab": {
          "base_uri": "https://localhost:8080/",
          "height": 424
        },
        "id": "-mmdNoSxuewL",
        "outputId": "ffa25a8c-4341-4bff-ae29-8f967486b8c5"
      },
      "execution_count": null,
      "outputs": [
        {
          "output_type": "execute_result",
          "data": {
            "text/plain": [
              "                                                                                                                                                             headline  \\\n",
              "5                                              جورنالات بلادي1 اموال المبادره توجه لاحداث مقاه ومحلبات ومطالب بفتح تحقيق ودوزيم مهدده بالافلاس والدوله تتدخل لانقاذها   \n",
              "13                                                                                                                              تلاعبات في ملايير وكاله تحدي الالفيه    \n",
              "20                                                                                                       الاستحواذ علي وثائق المؤرخ محمد بن عزوز حكيم جريمه ضد الوطن    \n",
              "27                                                                                                                                      حارس خنيفره يستفيق من غيبوبته   \n",
              "29                                               حتي فميريكان عندهم الفايد ديالهم رجال دين كيبيعو شي لعيبه من ماء جافيل وكيقولو باللي كتداوي الكونصير والسيدا وكورونا   \n",
              "...                                                                                                                                                               ...   \n",
              "38631                                                                                                                   دار الضيافه ولات دار الصداع والمشاكل فبوسكوره   \n",
              "38640                                                                                                                           فضيحه برلماني كيزور باش ياخد 7 ملايير   \n",
              "38643                                                                                                                        الفيضانات تعري علي سياسه الدوله المركزيه   \n",
              "38655  الباطرونا الخاسر الاكبر في انتخابات رئاسه المستشارين اختارت التخندق سياسيا ووزير من الاغلبيه ل كود باش من وجه قادين يواجهونا ورجل اعمال ل كود بنا صغار وكراكيز   \n",
              "38657                                                                                       من بعد عمليه جراحيه صعيبه الاسطوره البرازيلي پيلي بدا كيتعافي شويا تدوينه   \n",
              "\n",
              "                categories  label  \n",
              "5      ('جورنالات بلادي',)      0  \n",
              "13     ('جورنالات بلادي',)      0  \n",
              "20               ('آراء',)      3  \n",
              "27           ('كود سبور',)      1  \n",
              "29             ('تبركيك',)      2  \n",
              "...                    ...    ...  \n",
              "38631          ('تبركيك',)      2  \n",
              "38640  ('جورنالات بلادي',)      0  \n",
              "38643            ('آراء',)      3  \n",
              "38655            ('آراء',)      3  \n",
              "38657        ('كود سبور',)      1  \n",
              "\n",
              "[7000 rows x 3 columns]"
            ],
            "text/html": [
              "\n",
              "  <div id=\"df-104a6d80-2b7c-4a7b-8460-a8dec6d3d397\">\n",
              "    <div class=\"colab-df-container\">\n",
              "      <div>\n",
              "<style scoped>\n",
              "    .dataframe tbody tr th:only-of-type {\n",
              "        vertical-align: middle;\n",
              "    }\n",
              "\n",
              "    .dataframe tbody tr th {\n",
              "        vertical-align: top;\n",
              "    }\n",
              "\n",
              "    .dataframe thead th {\n",
              "        text-align: right;\n",
              "    }\n",
              "</style>\n",
              "<table border=\"1\" class=\"dataframe\">\n",
              "  <thead>\n",
              "    <tr style=\"text-align: right;\">\n",
              "      <th></th>\n",
              "      <th>headline</th>\n",
              "      <th>categories</th>\n",
              "      <th>label</th>\n",
              "    </tr>\n",
              "  </thead>\n",
              "  <tbody>\n",
              "    <tr>\n",
              "      <th>5</th>\n",
              "      <td>جورنالات بلادي1 اموال المبادره توجه لاحداث مقاه ومحلبات ومطالب بفتح تحقيق ودوزيم مهدده بالافلاس والدوله تتدخل لانقاذها</td>\n",
              "      <td>('جورنالات بلادي',)</td>\n",
              "      <td>0</td>\n",
              "    </tr>\n",
              "    <tr>\n",
              "      <th>13</th>\n",
              "      <td>تلاعبات في ملايير وكاله تحدي الالفيه</td>\n",
              "      <td>('جورنالات بلادي',)</td>\n",
              "      <td>0</td>\n",
              "    </tr>\n",
              "    <tr>\n",
              "      <th>20</th>\n",
              "      <td>الاستحواذ علي وثائق المؤرخ محمد بن عزوز حكيم جريمه ضد الوطن</td>\n",
              "      <td>('آراء',)</td>\n",
              "      <td>3</td>\n",
              "    </tr>\n",
              "    <tr>\n",
              "      <th>27</th>\n",
              "      <td>حارس خنيفره يستفيق من غيبوبته</td>\n",
              "      <td>('كود سبور',)</td>\n",
              "      <td>1</td>\n",
              "    </tr>\n",
              "    <tr>\n",
              "      <th>29</th>\n",
              "      <td>حتي فميريكان عندهم الفايد ديالهم رجال دين كيبيعو شي لعيبه من ماء جافيل وكيقولو باللي كتداوي الكونصير والسيدا وكورونا</td>\n",
              "      <td>('تبركيك',)</td>\n",
              "      <td>2</td>\n",
              "    </tr>\n",
              "    <tr>\n",
              "      <th>...</th>\n",
              "      <td>...</td>\n",
              "      <td>...</td>\n",
              "      <td>...</td>\n",
              "    </tr>\n",
              "    <tr>\n",
              "      <th>38631</th>\n",
              "      <td>دار الضيافه ولات دار الصداع والمشاكل فبوسكوره</td>\n",
              "      <td>('تبركيك',)</td>\n",
              "      <td>2</td>\n",
              "    </tr>\n",
              "    <tr>\n",
              "      <th>38640</th>\n",
              "      <td>فضيحه برلماني كيزور باش ياخد 7 ملايير</td>\n",
              "      <td>('جورنالات بلادي',)</td>\n",
              "      <td>0</td>\n",
              "    </tr>\n",
              "    <tr>\n",
              "      <th>38643</th>\n",
              "      <td>الفيضانات تعري علي سياسه الدوله المركزيه</td>\n",
              "      <td>('آراء',)</td>\n",
              "      <td>3</td>\n",
              "    </tr>\n",
              "    <tr>\n",
              "      <th>38655</th>\n",
              "      <td>الباطرونا الخاسر الاكبر في انتخابات رئاسه المستشارين اختارت التخندق سياسيا ووزير من الاغلبيه ل كود باش من وجه قادين يواجهونا ورجل اعمال ل كود بنا صغار وكراكيز</td>\n",
              "      <td>('آراء',)</td>\n",
              "      <td>3</td>\n",
              "    </tr>\n",
              "    <tr>\n",
              "      <th>38657</th>\n",
              "      <td>من بعد عمليه جراحيه صعيبه الاسطوره البرازيلي پيلي بدا كيتعافي شويا تدوينه</td>\n",
              "      <td>('كود سبور',)</td>\n",
              "      <td>1</td>\n",
              "    </tr>\n",
              "  </tbody>\n",
              "</table>\n",
              "<p>7000 rows × 3 columns</p>\n",
              "</div>\n",
              "      <button class=\"colab-df-convert\" onclick=\"convertToInteractive('df-104a6d80-2b7c-4a7b-8460-a8dec6d3d397')\"\n",
              "              title=\"Convert this dataframe to an interactive table.\"\n",
              "              style=\"display:none;\">\n",
              "        \n",
              "  <svg xmlns=\"http://www.w3.org/2000/svg\" height=\"24px\"viewBox=\"0 0 24 24\"\n",
              "       width=\"24px\">\n",
              "    <path d=\"M0 0h24v24H0V0z\" fill=\"none\"/>\n",
              "    <path d=\"M18.56 5.44l.94 2.06.94-2.06 2.06-.94-2.06-.94-.94-2.06-.94 2.06-2.06.94zm-11 1L8.5 8.5l.94-2.06 2.06-.94-2.06-.94L8.5 2.5l-.94 2.06-2.06.94zm10 10l.94 2.06.94-2.06 2.06-.94-2.06-.94-.94-2.06-.94 2.06-2.06.94z\"/><path d=\"M17.41 7.96l-1.37-1.37c-.4-.4-.92-.59-1.43-.59-.52 0-1.04.2-1.43.59L10.3 9.45l-7.72 7.72c-.78.78-.78 2.05 0 2.83L4 21.41c.39.39.9.59 1.41.59.51 0 1.02-.2 1.41-.59l7.78-7.78 2.81-2.81c.8-.78.8-2.07 0-2.86zM5.41 20L4 18.59l7.72-7.72 1.47 1.35L5.41 20z\"/>\n",
              "  </svg>\n",
              "      </button>\n",
              "      \n",
              "  <style>\n",
              "    .colab-df-container {\n",
              "      display:flex;\n",
              "      flex-wrap:wrap;\n",
              "      gap: 12px;\n",
              "    }\n",
              "\n",
              "    .colab-df-convert {\n",
              "      background-color: #E8F0FE;\n",
              "      border: none;\n",
              "      border-radius: 50%;\n",
              "      cursor: pointer;\n",
              "      display: none;\n",
              "      fill: #1967D2;\n",
              "      height: 32px;\n",
              "      padding: 0 0 0 0;\n",
              "      width: 32px;\n",
              "    }\n",
              "\n",
              "    .colab-df-convert:hover {\n",
              "      background-color: #E2EBFA;\n",
              "      box-shadow: 0px 1px 2px rgba(60, 64, 67, 0.3), 0px 1px 3px 1px rgba(60, 64, 67, 0.15);\n",
              "      fill: #174EA6;\n",
              "    }\n",
              "\n",
              "    [theme=dark] .colab-df-convert {\n",
              "      background-color: #3B4455;\n",
              "      fill: #D2E3FC;\n",
              "    }\n",
              "\n",
              "    [theme=dark] .colab-df-convert:hover {\n",
              "      background-color: #434B5C;\n",
              "      box-shadow: 0px 1px 3px 1px rgba(0, 0, 0, 0.15);\n",
              "      filter: drop-shadow(0px 1px 2px rgba(0, 0, 0, 0.3));\n",
              "      fill: #FFFFFF;\n",
              "    }\n",
              "  </style>\n",
              "\n",
              "      <script>\n",
              "        const buttonEl =\n",
              "          document.querySelector('#df-104a6d80-2b7c-4a7b-8460-a8dec6d3d397 button.colab-df-convert');\n",
              "        buttonEl.style.display =\n",
              "          google.colab.kernel.accessAllowed ? 'block' : 'none';\n",
              "\n",
              "        async function convertToInteractive(key) {\n",
              "          const element = document.querySelector('#df-104a6d80-2b7c-4a7b-8460-a8dec6d3d397');\n",
              "          const dataTable =\n",
              "            await google.colab.kernel.invokeFunction('convertToInteractive',\n",
              "                                                     [key], {});\n",
              "          if (!dataTable) return;\n",
              "\n",
              "          const docLinkHtml = 'Like what you see? Visit the ' +\n",
              "            '<a target=\"_blank\" href=https://colab.research.google.com/notebooks/data_table.ipynb>data table notebook</a>'\n",
              "            + ' to learn more about interactive tables.';\n",
              "          element.innerHTML = '';\n",
              "          dataTable['output_type'] = 'display_data';\n",
              "          await google.colab.output.renderOutput(dataTable, element);\n",
              "          const docLink = document.createElement('div');\n",
              "          docLink.innerHTML = docLinkHtml;\n",
              "          element.appendChild(docLink);\n",
              "        }\n",
              "      </script>\n",
              "    </div>\n",
              "  </div>\n",
              "  "
            ]
          },
          "metadata": {},
          "execution_count": 12
        }
      ]
    },
    {
      "cell_type": "code",
      "source": [
        "from sklearn.feature_extraction.text import TfidfVectorizer\n",
        "\n",
        "tfidf = TfidfVectorizer(norm='l2', ngram_range=(1, 2))\n",
        "features = tfidf.fit_transform(train_data['headline']).toarray()\n",
        "labels = train_data[\"label\"]\n",
        "features.shape"
      ],
      "metadata": {
        "colab": {
          "base_uri": "https://localhost:8080/"
        },
        "id": "N_nE0wDqVA0k",
        "outputId": "227868f3-babb-455a-94da-2503115f748c"
      },
      "execution_count": 10,
      "outputs": [
        {
          "output_type": "execute_result",
          "data": {
            "text/plain": [
              "(3500, 54761)"
            ]
          },
          "metadata": {},
          "execution_count": 10
        }
      ]
    },
    {
      "cell_type": "code",
      "source": [
        "X_train = train_data[\"headline\"]\n",
        "y_train = train_data[\"label\"]\n",
        "\n",
        "X_val = val_data[\"headline\"]\n",
        "y_val = val_data[\"label\"]\n",
        "\n",
        "X_test = test_data[\"headline\"]\n",
        "y_test = test_data[\"label\"]"
      ],
      "metadata": {
        "id": "Xrg_MTEpuMhW"
      },
      "execution_count": 11,
      "outputs": []
    },
    {
      "cell_type": "code",
      "source": [
        "from sklearn.feature_extraction.text import CountVectorizer\n",
        "from sklearn.feature_extraction.text import TfidfTransformer\n",
        "from sklearn.naive_bayes import MultinomialNB\n",
        "\n",
        "count_vect = CountVectorizer()\n",
        "X_train_counts = count_vect.fit_transform(X_train)\n",
        "tfidf_transformer = TfidfTransformer()\n",
        "X_train_tfidf = tfidf_transformer.fit_transform(X_train_counts)\n",
        "clf = MultinomialNB().fit(X_train_tfidf, y_train)"
      ],
      "metadata": {
        "id": "lluAr0qso0zv"
      },
      "execution_count": 16,
      "outputs": []
    },
    {
      "cell_type": "code",
      "source": [
        "val_data.iloc[3]"
      ],
      "metadata": {
        "colab": {
          "base_uri": "https://localhost:8080/"
        },
        "id": "hx8jVoCq1BTn",
        "outputId": "0d77779d-5880-4810-e5f2-45606c7bb9f4"
      },
      "execution_count": 17,
      "outputs": [
        {
          "output_type": "execute_result",
          "data": {
            "text/plain": [
              "headline      مسطي صيفط 6 دالناس منهم 4 التلامذ للسبيطار نوا...\n",
              "categories                                          ('تبركيك',)\n",
              "label                                                         2\n",
              "Name: 6, dtype: object"
            ]
          },
          "metadata": {},
          "execution_count": 17
        }
      ]
    },
    {
      "cell_type": "code",
      "source": [
        "print(clf.predict(count_vect.transform([val_data['headline'].iloc[3]])))\n"
      ],
      "metadata": {
        "colab": {
          "base_uri": "https://localhost:8080/"
        },
        "id": "g_OXAjoK0iuG",
        "outputId": "7eab9cc4-f3ed-4ed1-8ea3-20a35f477952"
      },
      "execution_count": 18,
      "outputs": [
        {
          "output_type": "stream",
          "name": "stdout",
          "text": [
            "[2]\n"
          ]
        }
      ]
    },
    {
      "cell_type": "code",
      "source": [
        "from sklearn.linear_model import LogisticRegression\n",
        "from sklearn.ensemble import RandomForestClassifier\n",
        "from sklearn.svm import LinearSVC\n",
        "from sklearn.naive_bayes import MultinomialNB\n",
        "from sklearn.model_selection import cross_val_score\n",
        "models = [\n",
        "    RandomForestClassifier(n_estimators=200, max_depth=3, random_state=0),\n",
        "    LinearSVC(),\n",
        "    MultinomialNB(),\n",
        "    LogisticRegression(random_state=0),\n",
        "]\n",
        "CV = 3\n",
        "cv_df = pd.DataFrame(index=range(CV * len(models)))\n",
        "entries = []\n",
        "for model in models:\n",
        "  model_name = model.__class__.__name__\n",
        "  accuracies = cross_val_score(model, features, labels, scoring='accuracy', cv=CV)\n",
        "  for fold_idx, accuracy in enumerate(accuracies):\n",
        "    entries.append((model_name, fold_idx, accuracy))\n",
        "cv_df = pd.DataFrame(entries, columns=['model_name', 'fold_idx', 'accuracy'])\n",
        "import seaborn as sns\n",
        "sns.boxplot(x='model_name', y='accuracy', data=cv_df)\n",
        "sns.stripplot(x='model_name', y='accuracy', data=cv_df, \n",
        "              size=8, jitter=True, edgecolor=\"gray\", linewidth=2)\n",
        "plt.show()"
      ],
      "metadata": {
        "id": "uicaXGz97pZy",
        "colab": {
          "base_uri": "https://localhost:8080/",
          "height": 463
        },
        "outputId": "6ec884f5-c46e-481f-e2d8-6b3d41cc2a98"
      },
      "execution_count": 12,
      "outputs": [
        {
          "output_type": "error",
          "ename": "NameError",
          "evalue": "ignored",
          "traceback": [
            "\u001b[0;31m---------------------------------------------------------------------------\u001b[0m",
            "\u001b[0;31mNameError\u001b[0m                                 Traceback (most recent call last)",
            "\u001b[0;32m<ipython-input-12-039c2a695e19>\u001b[0m in \u001b[0;36m<module>\u001b[0;34m()\u001b[0m\n\u001b[1;32m     23\u001b[0m sns.stripplot(x='model_name', y='accuracy', data=cv_df, \n\u001b[1;32m     24\u001b[0m               size=8, jitter=True, edgecolor=\"gray\", linewidth=2)\n\u001b[0;32m---> 25\u001b[0;31m \u001b[0mplt\u001b[0m\u001b[0;34m.\u001b[0m\u001b[0mshow\u001b[0m\u001b[0;34m(\u001b[0m\u001b[0;34m)\u001b[0m\u001b[0;34m\u001b[0m\u001b[0;34m\u001b[0m\u001b[0m\n\u001b[0m",
            "\u001b[0;31mNameError\u001b[0m: name 'plt' is not defined"
          ]
        },
        {
          "output_type": "display_data",
          "data": {
            "text/plain": [
              "<Figure size 432x288 with 1 Axes>"
            ],
            "image/png": "[encoded data removed]"
          },
          "metadata": {
            "needs_background": "light"
          }
        }
      ]
    },
    {
      "cell_type": "code",
      "source": [
        "cv_df.groupby('model_name').accuracy.mean()"
      ],
      "metadata": {
        "colab": {
          "base_uri": "https://localhost:8080/"
        },
        "id": "5dqENeOKY2f9",
        "outputId": "fd33e9c1-1667-4729-a809-e3816f3a42ce"
      },
      "execution_count": 15,
      "outputs": [
        {
          "output_type": "execute_result",
          "data": {
            "text/plain": [
              "model_name\n",
              "LinearSVC                 0.571710\n",
              "LogisticRegression        0.546566\n",
              "MultinomialNB             0.554282\n",
              "RandomForestClassifier    0.418856\n",
              "Name: accuracy, dtype: float64"
            ]
          },
          "metadata": {},
          "execution_count": 15
        }
      ]
    }
  ]
}